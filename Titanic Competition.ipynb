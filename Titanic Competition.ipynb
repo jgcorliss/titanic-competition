{
 "cells": [
  {
   "cell_type": "markdown",
   "metadata": {
    "_cell_guid": "90a1c88a-d4a7-48ca-b4b3-74c250e27fd5",
    "_uuid": "213592d544cbb34b454281467efafbad48736d31"
   },
   "source": [
    "# Titanic: Machine Learning from Disaster\n",
    "\n",
    "***By Joe Corliss***"
   ]
  },
  {
   "cell_type": "markdown",
   "metadata": {
    "_cell_guid": "37f53c0e-7466-4ce4-b54e-4819e7f2f66a",
    "_uuid": "784c07fe0f703e35ebec603f1a4f3800c552966a"
   },
   "source": [
    "## Table of Contents"
   ]
  },
  {
   "cell_type": "markdown",
   "metadata": {
    "_cell_guid": "5077cc0e-50e3-4554-ae19-238a34576115",
    "_uuid": "9f1df6a4940e81711ac57e29cc078378bc871e13"
   },
   "source": [
    "1. [Getting Started](#1)\n",
    "    1. [Imports](#1.1)\n",
    "    2. [Read In the Data](#1.2)\n",
    "2. [Pre-processing](#2)\n",
    "    1. [Feature Extraction and Selection](#2.1)\n",
    "    2. [Dummy Variables](#2.2)\n",
    "    3. [Survival Correlations](#2.3)\n",
    "    4. [Imputation with Mean Substitution](#2.4)\n",
    "    5. [Standardization](#2.5)\n",
    "3. [Predictive Modeling](#3)\n",
    "    1. [Random Forest](#3.1)\n",
    "    2. [Gradient Boosting](#3.2)\n",
    "    3. [Logistic Regression](#3.3)\n",
    "    4. [Gaussian Naive Bayes](#3.4)\n",
    "    5. [Support Vector Classifier](#3.5)\n",
    "    6. [k-Nearest Neighbors](#3.6)\n",
    "4. [Conclusion](#4)\n",
    "    1. [Results Summary](#4.1)\n",
    "    2. [Test Set Predictions](#4.2)"
   ]
  },
  {
   "cell_type": "markdown",
   "metadata": {},
   "source": [
    "# Introduction"
   ]
  },
  {
   "cell_type": "markdown",
   "metadata": {
    "_cell_guid": "90a1c88a-d4a7-48ca-b4b3-74c250e27fd5",
    "_uuid": "213592d544cbb34b454281467efafbad48736d31"
   },
   "source": [
    "[Kaggle Competition](https://www.kaggle.com/c/titanic)\n",
    "\n",
    "[Notebook on Kaggle](https://www.kaggle.com/pileatedperch/titanic-predicting-survival)\n",
    "\n",
    "[GitHub Repository](https://github.com/jgcorliss/titanic-competition)"
   ]
  },
  {
   "cell_type": "markdown",
   "metadata": {
    "_cell_guid": "4206781a-4d77-4f05-8c80-118aa3435b97",
    "_uuid": "59bcf9970c0270cdbdbee5bef3e6e75769fe0fdb"
   },
   "source": [
    "# Getting Started\n",
    "<a id='1'></a>"
   ]
  },
  {
   "cell_type": "markdown",
   "metadata": {
    "_cell_guid": "4854dd55-5520-43e2-aca6-bb8b6e03da7b",
    "_uuid": "4b5e6c4c800de224b736daa05dfcdf67148b113b"
   },
   "source": [
    "## Imports\n",
    "<a id='1.1'></a>"
   ]
  },
  {
   "cell_type": "code",
   "execution_count": null,
   "metadata": {
    "_cell_guid": "8420f9fa-de58-4f21-a90a-115d1c4a2011",
    "_uuid": "ffb7d06a14aec97edaec81d0cb54908da444edf3"
   },
   "outputs": [],
   "source": [
    "import numpy as np\n",
    "import scipy as sp\n",
    "import pandas as pd\n",
    "import matplotlib as mpl\n",
    "import matplotlib.pyplot as plt\n",
    "import seaborn as sns\n",
    "\n",
    "# Pandas options\n",
    "pd.set_option('display.max_colwidth', 1000, 'display.max_rows', None, 'display.max_columns', None)\n",
    "\n",
    "# Plotting options\n",
    "%matplotlib inline\n",
    "mpl.style.use('ggplot')\n",
    "sns.set(style='whitegrid')"
   ]
  },
  {
   "cell_type": "markdown",
   "metadata": {
    "_cell_guid": "2e5433d5-fe95-4ebb-bce1-414436082bb4",
    "_uuid": "478b69fc0bd0274d36af44ffe2c4bd8463ea05ca"
   },
   "source": [
    "## Read In the Data\n",
    "<a id='1.2'></a>"
   ]
  },
  {
   "cell_type": "code",
   "execution_count": null,
   "metadata": {
    "_cell_guid": "02e20ec7-d0c6-4c6e-ae31-cff681a87829",
    "_uuid": "43d7e435bffdc4679e32cf849d56a36ce6c7ecff"
   },
   "outputs": [],
   "source": [
    "df_train = pd.read_csv('train.csv')\n",
    "df_test = pd.read_csv('test.csv')"
   ]
  },
  {
   "cell_type": "code",
   "execution_count": null,
   "metadata": {},
   "outputs": [],
   "source": [
    "df_train.shape"
   ]
  },
  {
   "cell_type": "code",
   "execution_count": null,
   "metadata": {},
   "outputs": [],
   "source": [
    "df_test.shape"
   ]
  },
  {
   "cell_type": "code",
   "execution_count": null,
   "metadata": {
    "_cell_guid": "436a57e4-3c43-43ac-b771-af61e202c793",
    "_uuid": "84c91238e4e9988d53f00f94a64f8c25296c9e08"
   },
   "outputs": [],
   "source": [
    "TestPassengerId = df_test.loc[:,'PassengerId'] # We'll use this later for the submission file"
   ]
  },
  {
   "cell_type": "markdown",
   "metadata": {
    "_cell_guid": "e4602e11-2fe6-4b73-88a0-e130a92d1d97",
    "_uuid": "eaf68050fc43e3cc63237e77b0831bf3ff74ee20"
   },
   "source": [
    "Concatenate the train and test sets together."
   ]
  },
  {
   "cell_type": "code",
   "execution_count": null,
   "metadata": {
    "_cell_guid": "9dfd7979-5352-43a2-8099-ce51f930ca61",
    "_uuid": "5f387da6c09e77e5739b2e28a2261dcf46359c61"
   },
   "outputs": [],
   "source": [
    "df = df_train.append(df_test, ignore_index=True)"
   ]
  },
  {
   "cell_type": "markdown",
   "metadata": {
    "_cell_guid": "66719bbe-55f3-4df6-8bfb-ab7ac27ea1c5",
    "_uuid": "094479ac9967a7c553b7ae55a75c6aea946c84e9"
   },
   "source": [
    "Basic metadata:"
   ]
  },
  {
   "cell_type": "code",
   "execution_count": null,
   "metadata": {
    "_cell_guid": "17164ee6-9f01-4451-89f6-d53a2b580c78",
    "_uuid": "48cf30c3c5603242160472529dba8e78b85a3a46"
   },
   "outputs": [],
   "source": [
    "df.shape"
   ]
  },
  {
   "cell_type": "code",
   "execution_count": null,
   "metadata": {
    "_cell_guid": "1ef85023-dde2-4b9c-9ffb-85c64f067f43",
    "_uuid": "38249892b22613a75abec38c216bc1e7075abb9e"
   },
   "outputs": [],
   "source": [
    "df.info()"
   ]
  },
  {
   "cell_type": "markdown",
   "metadata": {
    "_cell_guid": "0e30a35b-ddc7-45b5-81c4-825be2016750",
    "_uuid": "026d5ff3c9addc88fdb630e4f87552e0907f0f9c"
   },
   "source": [
    "Locate incomplete columns:"
   ]
  },
  {
   "cell_type": "code",
   "execution_count": null,
   "metadata": {
    "_cell_guid": "869570d5-6b7c-4d46-ab2b-a9588d524c47",
    "_uuid": "641cc600a50db00a26ead9b74a3847fa68a2bbad"
   },
   "outputs": [],
   "source": [
    "def incomplete_cols(df):\n",
    "    \"\"\"\n",
    "    Returns a list of incomplete columns in df and their fraction of non-null values.\n",
    "    \n",
    "    Input: pandas DataFrame\n",
    "    Returns: pandas Series\n",
    "    \"\"\"\n",
    "    cmp = df.notnull().mean().sort_values()\n",
    "    return cmp.loc[cmp<1]"
   ]
  },
  {
   "cell_type": "code",
   "execution_count": null,
   "metadata": {
    "_cell_guid": "096a9550-6c1c-4e0e-9591-d00f759e9c63",
    "_uuid": "c8153c310f14522980df6f513e9375a05584ec0d"
   },
   "outputs": [],
   "source": [
    "incomplete_cols(df)"
   ]
  },
  {
   "cell_type": "code",
   "execution_count": null,
   "metadata": {
    "_cell_guid": "500d81e7-0f3a-4cf3-98fe-7b2eaa5c3e72",
    "_uuid": "76f67ea9eeadfc8a09a36bc6c0e9cd99069b3b81"
   },
   "outputs": [],
   "source": [
    "df.sample(5) # Display some random rows"
   ]
  },
  {
   "cell_type": "markdown",
   "metadata": {
    "_cell_guid": "b4ff88b1-e15b-4d4f-b542-314fd09c7ece",
    "_uuid": "e99ff4d2c81864021628789da6d58fea21176579"
   },
   "source": [
    "# Pre-processing\n",
    "<a id='2'></a>"
   ]
  },
  {
   "cell_type": "markdown",
   "metadata": {
    "_cell_guid": "5432957e-5cd7-4bff-bb0c-61dd54c54f3f",
    "_uuid": "99db4fdd03df26b6c96a721455b4018054affc16"
   },
   "source": [
    "## Feature Extraction and Selection\n",
    "<a id='2.1'></a>"
   ]
  },
  {
   "cell_type": "markdown",
   "metadata": {
    "_cell_guid": "cf786f16-547a-41ed-89f4-6bb1fa1b606e",
    "_uuid": "127f53b6a9cea43ac45edf419b497a273241a10d"
   },
   "source": [
    "### Age"
   ]
  },
  {
   "cell_type": "code",
   "execution_count": null,
   "metadata": {
    "_cell_guid": "7439ca28-afb1-446b-b3c5-5b62d312b1f2",
    "_uuid": "7dfb8a654c2fb09cca5b8d15f2ac392058ee7c97"
   },
   "outputs": [],
   "source": [
    "df['Age'].notnull().mean()"
   ]
  },
  {
   "cell_type": "code",
   "execution_count": null,
   "metadata": {
    "_cell_guid": "1b89659a-c518-417c-9ccd-478ce19ab16d",
    "_uuid": "52de823ce8baf7e3245e0056dfadb9b72bca5d45"
   },
   "outputs": [],
   "source": [
    "df['Age_NA'] = np.uint8(df['Age'].isnull())"
   ]
  },
  {
   "cell_type": "code",
   "execution_count": null,
   "metadata": {
    "_cell_guid": "ad4b22fb-a623-4d1b-9075-4acf60655632",
    "_uuid": "cf85e2f3cca48bd7468029dfddea6542280929bd"
   },
   "outputs": [],
   "source": [
    "plt.figure(figsize=(12,4), dpi=90)\n",
    "sns.distplot(df.loc[df['Age'].notnull(), 'Age'], bins=range(0,90, 2), kde=False)\n",
    "plt.ylabel('Count')\n",
    "plt.title('Histogram of Passenger Age')"
   ]
  },
  {
   "cell_type": "markdown",
   "metadata": {
    "_cell_guid": "bf995e49-d3b8-47eb-b946-2d385e41463b",
    "_uuid": "5af969adff301f75bdcf39a0f3c83c44f2885822"
   },
   "source": [
    "### Cabin"
   ]
  },
  {
   "cell_type": "code",
   "execution_count": null,
   "metadata": {
    "_cell_guid": "c8406943-e749-4834-89d4-0fc1640aeaa4",
    "_uuid": "af0f901dca9b72dd90deab05e6ffc735c190a066"
   },
   "outputs": [],
   "source": [
    "df['Cabin'].notnull().mean()"
   ]
  },
  {
   "cell_type": "markdown",
   "metadata": {
    "_cell_guid": "ca11a261-b3bc-404b-9c0f-86605a1a1601",
    "_uuid": "02a8a2bc7c6c5d7cc1408092ecda5a779c199ad8"
   },
   "source": [
    "Extract the cabin letter (A, B, C, etc)."
   ]
  },
  {
   "cell_type": "code",
   "execution_count": null,
   "metadata": {},
   "outputs": [],
   "source": [
    "def find_cabin(s):\n",
    "    try:\n",
    "        return s[0]\n",
    "    except:\n",
    "        return 'NA'"
   ]
  },
  {
   "cell_type": "code",
   "execution_count": null,
   "metadata": {},
   "outputs": [],
   "source": [
    "df.loc[:,'Cabin'] = df['Cabin'].apply(find_cabin)"
   ]
  },
  {
   "cell_type": "code",
   "execution_count": null,
   "metadata": {},
   "outputs": [],
   "source": [
    "df['Cabin'].value_counts()"
   ]
  },
  {
   "cell_type": "markdown",
   "metadata": {
    "_cell_guid": "4da3d77e-dbec-4998-a9ac-86bdf76a1499",
    "_uuid": "4c37e1be45712c93214324f5673cff0c09dd699b"
   },
   "source": [
    "### Embarked"
   ]
  },
  {
   "cell_type": "code",
   "execution_count": null,
   "metadata": {
    "_cell_guid": "b9683013-5460-4432-81d9-77044b672052",
    "_uuid": "e47ee46af5442b2d32d69fce817c528944f3820f"
   },
   "outputs": [],
   "source": [
    "df['Embarked'].notnull().mean()"
   ]
  },
  {
   "cell_type": "code",
   "execution_count": null,
   "metadata": {
    "_cell_guid": "a33fa003-9c34-4b9f-b843-642655355aaa",
    "_uuid": "2330d2a4ed35739e0368119e61a15e11e4ef8987"
   },
   "outputs": [],
   "source": [
    "df['Embarked'].value_counts(dropna=False)"
   ]
  },
  {
   "cell_type": "code",
   "execution_count": null,
   "metadata": {
    "_cell_guid": "4c71aec8-0182-4205-b53d-8b3f11a95d44",
    "_uuid": "7ee52adc60281680b9adbe2d9fbe84b5a10beb7f"
   },
   "outputs": [],
   "source": [
    "sns.countplot(x='Embarked', data=df)\n",
    "plt.title('Passenger Ports of Embarkation')"
   ]
  },
  {
   "cell_type": "markdown",
   "metadata": {
    "_cell_guid": "56a2c730-63ba-4184-823e-b0f215ca9b4e",
    "_uuid": "c143233a6e8911e69d6a23692c162abe23f46064"
   },
   "source": [
    "### Fare"
   ]
  },
  {
   "cell_type": "code",
   "execution_count": null,
   "metadata": {
    "_cell_guid": "0ec02c10-a92a-4778-a22e-69c015d64e5a",
    "_uuid": "d4b1943c2e2d2c3788377fc336910527b2b5566a"
   },
   "outputs": [],
   "source": [
    "df['Fare'].notnull().mean()"
   ]
  },
  {
   "cell_type": "code",
   "execution_count": null,
   "metadata": {
    "_cell_guid": "527dc1b1-ce23-4b7f-8ccf-2cec94dc5798",
    "_uuid": "ccbdc89f8372b3b7e801569e2f7351751c3170ae"
   },
   "outputs": [],
   "source": [
    "plt.figure(figsize=(12,4), dpi=90)\n",
    "sns.distplot(df.loc[df['Fare'].notnull(), 'Fare'], kde=False)\n",
    "plt.ylabel('Count')\n",
    "plt.title('Histogram of Passenger Fares')"
   ]
  },
  {
   "cell_type": "code",
   "execution_count": null,
   "metadata": {},
   "outputs": [],
   "source": [
    "df['Fare'].skew()"
   ]
  },
  {
   "cell_type": "markdown",
   "metadata": {
    "_cell_guid": "90626cbc-77af-4836-97fc-1b476e2b260e",
    "_uuid": "f3b9e805fcc0282eeab21783440f4df35e115806"
   },
   "source": [
    "### Name"
   ]
  },
  {
   "cell_type": "code",
   "execution_count": null,
   "metadata": {
    "_cell_guid": "a7f75ed8-4c51-43f8-8dec-d07c24870c13",
    "_uuid": "736dbfa5f1fd5338e864122131f2f19c5f41c38f"
   },
   "outputs": [],
   "source": [
    "df['Name'].notnull().mean()"
   ]
  },
  {
   "cell_type": "code",
   "execution_count": null,
   "metadata": {
    "_cell_guid": "31159b84-819f-4471-a8c3-13e53481edb3",
    "_uuid": "f76a55b063fc6257429fda90c44ee8901b27571b"
   },
   "outputs": [],
   "source": [
    "df['Name'].sample(5)"
   ]
  },
  {
   "cell_type": "markdown",
   "metadata": {
    "_cell_guid": "c22fb2bf-7dbd-4b51-8a29-e4175c948b58",
    "_uuid": "7b9c32bfbf46a8742a8e4ef818e8ff640c03303e"
   },
   "source": [
    "Let's extract everyone's titles."
   ]
  },
  {
   "cell_type": "code",
   "execution_count": null,
   "metadata": {
    "_cell_guid": "455ec35c-054a-4119-842c-64aed32c402d",
    "_uuid": "1c8ab237976b35bafb1a61ceb1488e3c4fc320ca"
   },
   "outputs": [],
   "source": [
    "df['Title'] = df['Name'].apply(lambda s: s.split(', ')[1].split(' ')[0])"
   ]
  },
  {
   "cell_type": "code",
   "execution_count": null,
   "metadata": {
    "_cell_guid": "5e4effc8-6680-474b-b87a-8eec472d7c80",
    "_uuid": "3fe5985090680e30cb6031f1f0b71f3694192cf6"
   },
   "outputs": [],
   "source": [
    "df['Title'].nunique()"
   ]
  },
  {
   "cell_type": "markdown",
   "metadata": {
    "_cell_guid": "46429572-770a-4870-af77-f66d5d96d4d4",
    "_uuid": "1e5c5985e825d45f5864d77e0ada1145c6b1f780"
   },
   "source": [
    "Did it work?"
   ]
  },
  {
   "cell_type": "code",
   "execution_count": null,
   "metadata": {
    "_cell_guid": "f4144167-b1fc-43ee-8f45-9d5837065be3",
    "_uuid": "fa2cd3eb696113290200b96b8d399b10d567f52f"
   },
   "outputs": [],
   "source": [
    "df[['Name', 'Title']].sample(10)"
   ]
  },
  {
   "cell_type": "markdown",
   "metadata": {
    "_cell_guid": "89683a49-5d01-49d2-8ee5-6ae3f5edf932",
    "_uuid": "b3da83f2cc54037709422c2571d6c383afd4177d"
   },
   "source": [
    "Seems good. Title counts:"
   ]
  },
  {
   "cell_type": "code",
   "execution_count": null,
   "metadata": {},
   "outputs": [],
   "source": [
    "df['Title'].value_counts()"
   ]
  },
  {
   "cell_type": "markdown",
   "metadata": {
    "_cell_guid": "dc432258-bd12-4462-b766-1ae892b9526f",
    "_uuid": "a3359b575f1eb9422ffe97fbdcf769d918ee45ed"
   },
   "source": [
    "The only odd-looking value is \"the\". Let's investigate."
   ]
  },
  {
   "cell_type": "code",
   "execution_count": null,
   "metadata": {
    "_cell_guid": "5e3541e2-fe64-4f64-9f50-cbfb8537c7c2",
    "_uuid": "9014ac33d59502c6d0f56aca411dceb179674ab5"
   },
   "outputs": [],
   "source": [
    "df.loc[df['Title']=='the']"
   ]
  },
  {
   "cell_type": "markdown",
   "metadata": {
    "_cell_guid": "b43f197c-e02c-4cd8-8e7c-449d8d333347",
    "_uuid": "0349f64c2e64078f9ca01cce91089e21663f1f85"
   },
   "source": [
    "Her title is actually \"Countess.\""
   ]
  },
  {
   "cell_type": "markdown",
   "metadata": {},
   "source": [
    "There doesn't seem to be any new information in `Title`. We already know the passenger age, sex, marital status (`SibSp`), and economic class (`Pclass`). Furthermore, many of the titles have too few data points to be useful. So we're going to drop the `Name` and `Title` columns."
   ]
  },
  {
   "cell_type": "code",
   "execution_count": null,
   "metadata": {
    "_cell_guid": "0439a7ba-caae-4d9b-a6aa-cc811da29ac4",
    "_uuid": "217fc0b3b27cbeeec459220a8018b478553c9f39"
   },
   "outputs": [],
   "source": [
    "df.drop(labels=['Name','Title'], axis=1, inplace=True)"
   ]
  },
  {
   "cell_type": "markdown",
   "metadata": {
    "_cell_guid": "1dd6e81d-1e33-46f5-b17f-ea603d3ff361",
    "_uuid": "9d680ff0c687a4ecfc6e36b812b97ebb2bcbdb35"
   },
   "source": [
    "### Parch"
   ]
  },
  {
   "cell_type": "code",
   "execution_count": null,
   "metadata": {
    "_cell_guid": "88fa44d2-fdbb-4a32-bc2d-a1d45b28dddf",
    "_uuid": "f712d82526ef7869415b7b003644c6cdc9586f3b"
   },
   "outputs": [],
   "source": [
    "df['Parch'].notnull().mean()"
   ]
  },
  {
   "cell_type": "code",
   "execution_count": null,
   "metadata": {
    "_cell_guid": "c329a9de-4687-4940-8b7e-1571dd17e142",
    "_uuid": "8cd5b962de5d848b5e5171c52c5ee2e08bc2d2f8"
   },
   "outputs": [],
   "source": [
    "df['Parch'].value_counts()"
   ]
  },
  {
   "cell_type": "code",
   "execution_count": null,
   "metadata": {
    "_cell_guid": "47300d9d-3914-454b-b04b-12b21d701ce1",
    "_uuid": "0f3d62ceefc2e5db1de466cbefaa127146b146b7"
   },
   "outputs": [],
   "source": [
    "plt.figure(dpi=80)\n",
    "sns.countplot(x='Parch', data=df)\n",
    "plt.title('Number of Parents/Children')"
   ]
  },
  {
   "cell_type": "markdown",
   "metadata": {
    "_cell_guid": "188f7903-7bd9-4649-87c2-da9da4a402ce",
    "_uuid": "46616c0bead2f168033219dd195e7ed9028298e1"
   },
   "source": [
    "### PassengerId"
   ]
  },
  {
   "cell_type": "code",
   "execution_count": null,
   "metadata": {},
   "outputs": [],
   "source": [
    "df.shape[0]"
   ]
  },
  {
   "cell_type": "code",
   "execution_count": null,
   "metadata": {},
   "outputs": [],
   "source": [
    "df['PassengerId'].nunique()"
   ]
  },
  {
   "cell_type": "markdown",
   "metadata": {
    "_cell_guid": "1f6b401d-300c-43fb-b809-1ceeb9258c42",
    "_uuid": "683879abe6127babafe36fd800862ebbf8ec18db"
   },
   "source": [
    "The passenger ID will (probably) be removed in automatic variable selection."
   ]
  },
  {
   "cell_type": "markdown",
   "metadata": {
    "_cell_guid": "302b2845-bb3e-49d8-969d-18f5628a668b",
    "_uuid": "fa336232d0ac2f784fddf0f128007693fc77def6"
   },
   "source": [
    "### Pclass"
   ]
  },
  {
   "cell_type": "code",
   "execution_count": null,
   "metadata": {
    "_cell_guid": "f19fb071-c415-4f84-a971-309a286ffbcc",
    "_uuid": "e5a63e6d67f0719d77f1324bcd8b93a21b24b69e"
   },
   "outputs": [],
   "source": [
    "df['Pclass'].notnull().mean()"
   ]
  },
  {
   "cell_type": "code",
   "execution_count": null,
   "metadata": {
    "_cell_guid": "7a0422c3-0dd9-40cc-a328-a887056bf6f1",
    "_uuid": "2acde18cea3ab3d4f22a5e112436b6764bb30bbb"
   },
   "outputs": [],
   "source": [
    "df['Pclass'].value_counts()"
   ]
  },
  {
   "cell_type": "markdown",
   "metadata": {
    "_cell_guid": "2539c2e5-a7ab-47eb-a0c0-45086e9732de",
    "_uuid": "4438a75d251e871eec96ccd8c665e505c671194f"
   },
   "source": [
    "A majority of the passengers are Lower Class."
   ]
  },
  {
   "cell_type": "code",
   "execution_count": null,
   "metadata": {
    "_cell_guid": "043a8ee1-136c-4217-b4e0-74662fc9b499",
    "_uuid": "71a68671e84509617af199778ab3c71897489a68"
   },
   "outputs": [],
   "source": [
    "plt.figure(figsize=(4,4), dpi=90)\n",
    "sns.countplot(x='Pclass', data=df)\n",
    "plt.title('Passenger Ticket Class')"
   ]
  },
  {
   "cell_type": "markdown",
   "metadata": {
    "_cell_guid": "df301dfc-0e82-436d-8e7b-90518b5c3827",
    "_uuid": "ee4124fdb82b539cb913da4406d9845a3795473c"
   },
   "source": [
    "### Sex"
   ]
  },
  {
   "cell_type": "code",
   "execution_count": null,
   "metadata": {},
   "outputs": [],
   "source": [
    "df['Sex'].notnull().mean()"
   ]
  },
  {
   "cell_type": "code",
   "execution_count": null,
   "metadata": {},
   "outputs": [],
   "source": [
    "df['Sex'].value_counts()"
   ]
  },
  {
   "cell_type": "code",
   "execution_count": null,
   "metadata": {},
   "outputs": [],
   "source": [
    "plt.figure(figsize=(4,4), dpi=90)\n",
    "sns.countplot(x='Sex', data=df)\n",
    "plt.title('Passenger Sex')"
   ]
  },
  {
   "cell_type": "markdown",
   "metadata": {
    "_cell_guid": "796daaab-780a-4bbb-9315-e527d6f9a302",
    "_uuid": "3d8aa7ef91ef5adebd69e7a0bba971127ea36a14"
   },
   "source": [
    "### SibSp"
   ]
  },
  {
   "cell_type": "code",
   "execution_count": null,
   "metadata": {
    "_cell_guid": "c116eb26-2672-46a4-92c9-edd86ca7b3a8",
    "_uuid": "d688e889914b1ca5bff03bd88406589b288c6c93"
   },
   "outputs": [],
   "source": [
    "df['SibSp'].notnull().mean()"
   ]
  },
  {
   "cell_type": "code",
   "execution_count": null,
   "metadata": {
    "_cell_guid": "ccea83a5-7186-499a-9df4-27208bbb9efd",
    "_uuid": "da6c4b99a95313303f66b7bde710ef38a5a3e938"
   },
   "outputs": [],
   "source": [
    "df['SibSp'].value_counts()"
   ]
  },
  {
   "cell_type": "code",
   "execution_count": null,
   "metadata": {
    "_cell_guid": "b96506aa-d516-429a-846f-70dd60bb4cf7",
    "_uuid": "acc446036daee67234c2f64ed551a7c00b3eb929"
   },
   "outputs": [],
   "source": [
    "plt.figure(dpi=90)\n",
    "sns.countplot(x='SibSp', data=df)\n",
    "plt.title('Number of Siblings/Spouses')"
   ]
  },
  {
   "cell_type": "markdown",
   "metadata": {
    "_cell_guid": "9245c8b6-25f3-4612-a3a2-1ea05bbd29d5",
    "_uuid": "23386a78707653d63f6257942e6442eac642c0c6"
   },
   "source": [
    "### Survived"
   ]
  },
  {
   "cell_type": "markdown",
   "metadata": {
    "_cell_guid": "c7c14b92-7c42-4945-bc03-afa656d4aeeb",
    "_uuid": "203409f74da58477f510b2227d7e8beff9432d34"
   },
   "source": [
    "This is the target variable."
   ]
  },
  {
   "cell_type": "code",
   "execution_count": null,
   "metadata": {
    "_cell_guid": "58b7fe62-69bc-4722-98ae-f33b9af90402",
    "_uuid": "eea2a7033eb3058c35d2508bb9350946f7b5ec8e"
   },
   "outputs": [],
   "source": [
    "df.loc[df['Survived'].notnull(), 'Survived'].value_counts(normalize=True)"
   ]
  },
  {
   "cell_type": "markdown",
   "metadata": {
    "_cell_guid": "2a7d4d53-d2be-4520-b126-d68143380362",
    "_uuid": "1836750cbfc317d17fbe8020cf8ddee2c5111530"
   },
   "source": [
    "So there's a 38.4% survival rate in the training set."
   ]
  },
  {
   "cell_type": "code",
   "execution_count": null,
   "metadata": {
    "_cell_guid": "5b705067-30d2-44c5-9e19-4b0d0c2575b3",
    "_uuid": "6c5bac17ed2a7fcccc65e427f5466815598e2601"
   },
   "outputs": [],
   "source": [
    "plt.figure(figsize=(4,4), dpi=90)\n",
    "sns.countplot(x='Survived', data=df)\n",
    "plt.title('Passenger Survival')"
   ]
  },
  {
   "cell_type": "markdown",
   "metadata": {
    "_cell_guid": "1bac0b33-a5d8-4e40-9de2-dcc0be955ff9",
    "_uuid": "b7fb4b0d13ef8d3247f660599255156a8a8d3c50"
   },
   "source": [
    "### Ticket"
   ]
  },
  {
   "cell_type": "code",
   "execution_count": null,
   "metadata": {
    "_cell_guid": "fd354bf4-ba65-4797-a312-c43bb222c3d8",
    "_uuid": "6b2c19282a755630e4c22b90b7e8764c719e47a8"
   },
   "outputs": [],
   "source": [
    "df['Ticket'].notnull().mean()"
   ]
  },
  {
   "cell_type": "code",
   "execution_count": null,
   "metadata": {},
   "outputs": [],
   "source": [
    "df['Ticket'].nunique()"
   ]
  },
  {
   "cell_type": "code",
   "execution_count": null,
   "metadata": {},
   "outputs": [],
   "source": [
    "df.shape[0]"
   ]
  },
  {
   "cell_type": "markdown",
   "metadata": {
    "_cell_guid": "8d0204df-7fd5-42d0-8a46-492157343935",
    "_uuid": "a9c0248813bad9874f740006c0a772acaf6378cf"
   },
   "source": [
    "Apparently there are duplicate tickets...? That's weird."
   ]
  },
  {
   "cell_type": "code",
   "execution_count": null,
   "metadata": {
    "_cell_guid": "7d5d7f95-c4eb-4373-97e1-ab3e8c087490",
    "_uuid": "2944fcf09f9c7dec8d7b638689ff43cc98d7c64b"
   },
   "outputs": [],
   "source": [
    "df['Ticket'].sample(10)"
   ]
  },
  {
   "cell_type": "markdown",
   "metadata": {
    "_cell_guid": "7e46cac0-63c0-4860-826b-1ceca8bced14",
    "_uuid": "4b78129f816ebc8d3b72114bd3d90e21a077959b"
   },
   "source": [
    "Maybe the prefix on some of the tickets is important? Let's grab it."
   ]
  },
  {
   "cell_type": "code",
   "execution_count": null,
   "metadata": {
    "_cell_guid": "e1fd4540-bd71-461a-8fc2-8e4a3a9933ef",
    "_uuid": "2afb4f12537db853fea4ea3cc6c5743ed7529ea3"
   },
   "outputs": [],
   "source": [
    "def ticket_prefix(s):\n",
    "    'Find the content of the ticket before the ticket number'\n",
    "    temp = s.split(' ')\n",
    "    if len(temp) > 1:\n",
    "        return ' '.join(temp[:-1])\n",
    "    else:\n",
    "        return 'NONE'"
   ]
  },
  {
   "cell_type": "code",
   "execution_count": null,
   "metadata": {
    "_cell_guid": "39b6358e-02f4-49b7-b059-ea815ed18511",
    "_uuid": "ce2c9ad8596cd6c113d9ddb56febc2a8cbce3532"
   },
   "outputs": [],
   "source": [
    "df.loc[:,'Ticket Prefix'] = df['Ticket'].apply(ticket_prefix)"
   ]
  },
  {
   "cell_type": "code",
   "execution_count": null,
   "metadata": {
    "_cell_guid": "41fb25fe-d40a-4583-8900-08e9c36c6b76",
    "_uuid": "1d94bd26180680d130a307b816c994c66e537e14"
   },
   "outputs": [],
   "source": [
    "df['Ticket Prefix'].nunique()"
   ]
  },
  {
   "cell_type": "code",
   "execution_count": null,
   "metadata": {
    "_cell_guid": "7677b83c-795d-437c-a939-8908b9044fe4",
    "_uuid": "1dc0d42227134cfe3248cf3e41a353ddc9cfc939",
    "scrolled": true
   },
   "outputs": [],
   "source": [
    "df['Ticket Prefix'].value_counts()"
   ]
  },
  {
   "cell_type": "markdown",
   "metadata": {
    "_cell_guid": "fcf109b0-7078-4024-90b9-285c9fbc6d19",
    "_uuid": "950de308f2150a4aeaab0baeffa2101fdad1c333"
   },
   "source": [
    "Some of the prefixes are very similar. Let's assume that the characters `.`, `/`, and whitespace and not significant, and that `SC/PARIS` is the same as `SC/Paris`."
   ]
  },
  {
   "cell_type": "code",
   "execution_count": null,
   "metadata": {
    "_cell_guid": "1c7783df-7dd0-43c7-aecc-2a7a5827e9ba",
    "_uuid": "6a9dd140ec438cd3453af93a3f77d23c298d63d6"
   },
   "outputs": [],
   "source": [
    "df.loc[:,'Ticket Prefix'] = df['Ticket Prefix'].apply(lambda s: s.replace('.','').replace('/','').replace(' ','').upper())"
   ]
  },
  {
   "cell_type": "code",
   "execution_count": null,
   "metadata": {
    "_cell_guid": "31fbdcc5-38f3-49bb-908b-924fb93c4708",
    "_uuid": "077353cab5f6a90ce5000d2bdc1bd8b6b67370cd"
   },
   "outputs": [],
   "source": [
    "df['Ticket Prefix'].nunique()"
   ]
  },
  {
   "cell_type": "code",
   "execution_count": null,
   "metadata": {
    "_cell_guid": "1a245941-aaa1-43bd-939f-ef43252ca6c6",
    "_uuid": "cc7a3ff6dec657071c36739979ae774dc106fcf5",
    "scrolled": true
   },
   "outputs": [],
   "source": [
    "df['Ticket Prefix'].value_counts()"
   ]
  },
  {
   "cell_type": "markdown",
   "metadata": {},
   "source": [
    "If there are fewer than 10 occurences of a particular prefix, we'll reclassify it as \"other.\""
   ]
  },
  {
   "cell_type": "code",
   "execution_count": null,
   "metadata": {},
   "outputs": [],
   "source": [
    "vals = df['Ticket Prefix'].value_counts()\n",
    "\n",
    "def other_prefix(prefix):\n",
    "    if vals[prefix] < 10:\n",
    "        return \"OTHER\"\n",
    "    else:\n",
    "        return prefix"
   ]
  },
  {
   "cell_type": "code",
   "execution_count": null,
   "metadata": {},
   "outputs": [],
   "source": [
    "df.loc[:,'Ticket Prefix'] = df['Ticket Prefix'].apply(other_prefix)"
   ]
  },
  {
   "cell_type": "code",
   "execution_count": null,
   "metadata": {},
   "outputs": [],
   "source": [
    "df['Ticket Prefix'].value_counts()"
   ]
  },
  {
   "cell_type": "markdown",
   "metadata": {
    "_cell_guid": "f270c4fa-ec2f-4c94-b21e-d8e9ca067564",
    "_uuid": "5cf6dc7724e19d85a0919e64f7b0009062f3c7c2"
   },
   "source": [
    "Now let's extract the ticket number. As it turns out, a very small number of tickets have no ticket number, so we'll assign NaN for those tickets."
   ]
  },
  {
   "cell_type": "code",
   "execution_count": null,
   "metadata": {
    "_cell_guid": "9524e3e3-85cd-4d53-9ac5-e0b4e58e95a6",
    "_uuid": "d4aec663fcec3fcaa9a690bd31db1484ab0d5f68"
   },
   "outputs": [],
   "source": [
    "def ticket_number(s):\n",
    "    'Find the ticket number on a ticket'\n",
    "    try:\n",
    "        return np.int64(s.split(' ')[-1])\n",
    "    except:\n",
    "        return np.nan"
   ]
  },
  {
   "cell_type": "code",
   "execution_count": null,
   "metadata": {
    "_cell_guid": "37775ec0-55d3-4803-970d-7f35c5f6e796",
    "_uuid": "f7b79a8a1c1f7deef946ccda9f52710df22020f4"
   },
   "outputs": [],
   "source": [
    "df['Ticket Number'] = df['Ticket'].apply(ticket_number)"
   ]
  },
  {
   "cell_type": "code",
   "execution_count": null,
   "metadata": {
    "_cell_guid": "a9c92891-798c-474f-97d9-b8e8c0884b30",
    "_uuid": "abe42ff17b85776f0bfcf6c8d6ba1a275a90de7a"
   },
   "outputs": [],
   "source": [
    "df['Ticket Number'].isnull().sum()"
   ]
  },
  {
   "cell_type": "code",
   "execution_count": null,
   "metadata": {
    "_cell_guid": "2e548fea-98fd-46e8-96d1-dbdda2c2582c",
    "_uuid": "b8ab1de1317b4c18341105f4393a3315100d5784"
   },
   "outputs": [],
   "source": [
    "plt.figure(figsize=(12,4), dpi=90)\n",
    "sns.distplot(df.loc[df['Ticket Number'].notnull(), 'Ticket Number'], bins=400, kde=False)\n",
    "plt.ylabel('Count')\n",
    "plt.title('Histogram of Ticket Number')"
   ]
  },
  {
   "cell_type": "code",
   "execution_count": null,
   "metadata": {
    "_cell_guid": "2e548fea-98fd-46e8-96d1-dbdda2c2582c",
    "_uuid": "b8ab1de1317b4c18341105f4393a3315100d5784"
   },
   "outputs": [],
   "source": [
    "plt.figure(figsize=(12,4), dpi=90)\n",
    "sns.distplot(df.loc[df['Ticket Number'].notnull(), 'Ticket Number'], bins=500, kde=False)\n",
    "plt.xlim([0, 500000])\n",
    "plt.ylabel('Count')\n",
    "plt.title('Histogram of Ticket Number')"
   ]
  },
  {
   "cell_type": "markdown",
   "metadata": {},
   "source": [
    "We can see there are 5 classes of ticket numbers. Let's convert to those classes."
   ]
  },
  {
   "cell_type": "code",
   "execution_count": null,
   "metadata": {},
   "outputs": [],
   "source": [
    "def tick_num_class(tick_num):\n",
    "    if tick_num < 100000:\n",
    "        return 'A'\n",
    "    elif tick_num < 200000:\n",
    "        return 'B'\n",
    "    elif tick_num < 300000:\n",
    "        return 'C'\n",
    "    elif tick_num < 400000:\n",
    "        return 'D'\n",
    "    elif tick_num >= 400000:\n",
    "        return 'E'\n",
    "    else:\n",
    "        return 'NA'"
   ]
  },
  {
   "cell_type": "code",
   "execution_count": null,
   "metadata": {},
   "outputs": [],
   "source": [
    "df.loc[:,'Ticket Number'] = df['Ticket Number'].apply(tick_num_class)"
   ]
  },
  {
   "cell_type": "code",
   "execution_count": null,
   "metadata": {},
   "outputs": [],
   "source": [
    "df['Ticket Number'].value_counts()"
   ]
  },
  {
   "cell_type": "code",
   "execution_count": null,
   "metadata": {
    "_cell_guid": "62e3582f-4feb-4602-a8a6-a9892037669c",
    "_uuid": "b58fb7a5d07e46bb2f2ca3cc229d66ebc378bf3d"
   },
   "outputs": [],
   "source": [
    "df.drop(labels='Ticket', axis=1, inplace=True)"
   ]
  },
  {
   "cell_type": "markdown",
   "metadata": {
    "_cell_guid": "27db2ffd-5a2b-4cac-83d7-9b7b29688eb1",
    "_uuid": "adadf704ee1a1e511bedeb65a57b666ab7718018"
   },
   "source": [
    "## Dummy Variables\n",
    "<a id='2.2'></a>"
   ]
  },
  {
   "cell_type": "markdown",
   "metadata": {
    "_cell_guid": "e1987db1-f4dd-41b0-a008-13c9edfc2e31",
    "_uuid": "6662cb60eb7b5980342dc4516b2732402b6ae755"
   },
   "source": [
    "Create dummy variables for categorical features."
   ]
  },
  {
   "cell_type": "code",
   "execution_count": null,
   "metadata": {
    "_cell_guid": "f33798e9-2dcb-40da-8c93-678c761cfe66",
    "_uuid": "3574f532b5eec8c77ff13546a8730b9b9bd30d60"
   },
   "outputs": [],
   "source": [
    "df.sample(5)"
   ]
  },
  {
   "cell_type": "code",
   "execution_count": null,
   "metadata": {
    "_cell_guid": "005fed63-ef26-4f59-ae77-039d5c73c2b5",
    "_uuid": "5e5a9c13b73ff08d9b5b63aad6d8c65f6afc154a"
   },
   "outputs": [],
   "source": [
    "df.info()"
   ]
  },
  {
   "cell_type": "code",
   "execution_count": null,
   "metadata": {
    "_cell_guid": "404916c5-a47b-4de6-9d7a-2be03c2a5d22",
    "_uuid": "db92fb31b67c3aa4ad4872079c35aa5d60a23809"
   },
   "outputs": [],
   "source": [
    "incomplete_cols(df)"
   ]
  },
  {
   "cell_type": "code",
   "execution_count": null,
   "metadata": {
    "_cell_guid": "e193dcf9-7493-4fd2-a111-dd1ea860294e",
    "_uuid": "d5c74d93edf546975096132943910c8813fb6a4d"
   },
   "outputs": [],
   "source": [
    "df.shape"
   ]
  },
  {
   "cell_type": "code",
   "execution_count": null,
   "metadata": {
    "_cell_guid": "50f084b2-2231-403a-ac99-c4ed1ffa239f",
    "_uuid": "a667e750dab3e8e9b372c54836fb936aa744d2ad"
   },
   "outputs": [],
   "source": [
    "df = pd.get_dummies(df, drop_first=True)"
   ]
  },
  {
   "cell_type": "code",
   "execution_count": null,
   "metadata": {
    "_cell_guid": "7baf9304-ffc5-4c57-9820-129cd1b606d6",
    "_uuid": "fdb9d46c24872f75ce22fd52382131bd9d19b820"
   },
   "outputs": [],
   "source": [
    "df.shape"
   ]
  },
  {
   "cell_type": "code",
   "execution_count": null,
   "metadata": {
    "_cell_guid": "208265fa-8de0-4ecc-8845-37f7e16eed08",
    "_uuid": "94cd7b9edb2e3a5e6a6068103cf40543e0ce59ed"
   },
   "outputs": [],
   "source": [
    "df.sample(5)"
   ]
  },
  {
   "cell_type": "markdown",
   "metadata": {},
   "source": [
    "## Variable Selection"
   ]
  },
  {
   "cell_type": "code",
   "execution_count": null,
   "metadata": {},
   "outputs": [],
   "source": []
  },
  {
   "cell_type": "markdown",
   "metadata": {
    "_cell_guid": "328608c6-a46f-4082-812e-5807d272ac9c",
    "_uuid": "59636167d171b7d420ca92d0a0860f58763382f5"
   },
   "source": [
    "## Imputation with Mean Substitution\n",
    "<a id='2.4'></a>"
   ]
  },
  {
   "cell_type": "code",
   "execution_count": null,
   "metadata": {
    "_cell_guid": "7ee9e5a3-307f-4672-a5d7-348fa0ae6c0c",
    "_uuid": "bfad0c22c5489c28c764afd0d0fd6c62b403890e"
   },
   "outputs": [],
   "source": [
    "X = df.drop(labels='Survived', axis=1)\n",
    "y = df.loc[:,'Survived']"
   ]
  },
  {
   "cell_type": "code",
   "execution_count": null,
   "metadata": {
    "_cell_guid": "fb94f616-479c-4ff6-9b9e-e1e30d26cf01",
    "_uuid": "34c0873a4871cb5ccd68c14f5b7c544224e45423"
   },
   "outputs": [],
   "source": [
    "incomplete_cols(X)"
   ]
  },
  {
   "cell_type": "code",
   "execution_count": null,
   "metadata": {
    "_cell_guid": "75e07649-decd-4c1f-b095-91a7688b83c6",
    "_uuid": "c4df02bc854a239cdb7a07fce746c7a4c4d8ca34"
   },
   "outputs": [],
   "source": [
    "from sklearn.preprocessing import Imputer"
   ]
  },
  {
   "cell_type": "code",
   "execution_count": null,
   "metadata": {
    "_cell_guid": "88279fa3-319a-4e23-a4bf-36f18752ad57",
    "_uuid": "c0fdf37f598ae888bc8231a8e2e3b9844ab3e044"
   },
   "outputs": [],
   "source": [
    "imputer = Imputer().fit(X)"
   ]
  },
  {
   "cell_type": "code",
   "execution_count": null,
   "metadata": {
    "_cell_guid": "6e5786cb-b5c4-401e-8cfd-c8d885704b09",
    "_uuid": "8fe218bc5a71cba64edd273f0df8112ce1a89930"
   },
   "outputs": [],
   "source": [
    "X = pd.DataFrame(imputer.transform(X), columns=X.columns)"
   ]
  },
  {
   "cell_type": "code",
   "execution_count": null,
   "metadata": {
    "_cell_guid": "56b861aa-a6dc-4b53-83a5-3b039b9cad50",
    "_uuid": "01565b48cb3407bb402ba8131cb2a630c65976eb"
   },
   "outputs": [],
   "source": [
    "incomplete_cols(X)"
   ]
  },
  {
   "cell_type": "markdown",
   "metadata": {
    "_cell_guid": "6ad43292-73fa-4d4a-bd8d-7a59574d9f7f",
    "_uuid": "c39223e61a6d27f5f3f9268e182f66a3ec7430b0"
   },
   "source": [
    "## Standardization\n",
    "<a id='2.5'></a>"
   ]
  },
  {
   "cell_type": "markdown",
   "metadata": {
    "_cell_guid": "286b44e8-cfc5-4bcb-96be-665341374849",
    "_uuid": "884e82b20fc0cb02ff276df8528f74df11d3534d"
   },
   "source": [
    "Transform the data to have columnwise zero mean and unit variance."
   ]
  },
  {
   "cell_type": "code",
   "execution_count": null,
   "metadata": {
    "_cell_guid": "a02a0639-449d-4610-912b-f4168148f1af",
    "_uuid": "57776747d47bf523af89fd258768aaa807142c8a"
   },
   "outputs": [],
   "source": [
    "from sklearn.preprocessing import StandardScaler"
   ]
  },
  {
   "cell_type": "code",
   "execution_count": null,
   "metadata": {
    "_cell_guid": "f86eebed-353b-47ad-910b-2078e39c811e",
    "_uuid": "cafffdf1b618ab2ce8f92966d9f4808ecf77e5f4"
   },
   "outputs": [],
   "source": [
    "scaler = StandardScaler().fit(X)"
   ]
  },
  {
   "cell_type": "code",
   "execution_count": null,
   "metadata": {
    "_cell_guid": "b83467c8-4541-4f5f-ae45-e81c44fcbfca",
    "_uuid": "c2c211a54f89a076da28415d2f36e2e8a730dd8e"
   },
   "outputs": [],
   "source": [
    "X = pd.DataFrame(scaler.transform(X), columns=X.columns)"
   ]
  },
  {
   "cell_type": "markdown",
   "metadata": {
    "_cell_guid": "6875765d-a8ef-48c1-af88-1b97a7201611",
    "_uuid": "b322d535ee67d7d99f6fa262a0294b897324b74e"
   },
   "source": [
    "# Predictive Modeling\n",
    "<a id='3'></a>"
   ]
  },
  {
   "cell_type": "markdown",
   "metadata": {
    "_cell_guid": "63072724-81a6-4851-83c7-4a04ddd18906",
    "_uuid": "5dffaa7b8f12364a780764c1a46936e67b45ca14"
   },
   "source": [
    "Train/test split:"
   ]
  },
  {
   "cell_type": "code",
   "execution_count": null,
   "metadata": {
    "_cell_guid": "fe647b6d-766a-4ea4-a11f-4c15f677f8c7",
    "_uuid": "fd43bf048e54213491f43de1fb6f626bf1d6c6cd"
   },
   "outputs": [],
   "source": [
    "X_train = X.loc[y.notnull()]\n",
    "X_test = X.loc[y.isnull()]\n",
    "y_train = y[y.notnull()]"
   ]
  },
  {
   "cell_type": "markdown",
   "metadata": {
    "_cell_guid": "72f63c15-ae12-4b5b-9647-8c5848164a57",
    "_uuid": "f2dcbd79f0b4acf258e153a257803f9f90df04c3"
   },
   "source": [
    "How much training/test data is there?"
   ]
  },
  {
   "cell_type": "code",
   "execution_count": null,
   "metadata": {
    "_cell_guid": "11cc8851-d738-4adc-b778-ae2e417459c9",
    "_uuid": "13a1cd4856572b32e2daf21119a2639bc84b2a0c"
   },
   "outputs": [],
   "source": [
    "X_train.shape"
   ]
  },
  {
   "cell_type": "code",
   "execution_count": null,
   "metadata": {
    "_cell_guid": "5f1d1edd-a92e-465b-b0db-d82da0964fd1",
    "_uuid": "e48cd1cc8987cc6a4237d31cf6f71d9393130e66"
   },
   "outputs": [],
   "source": [
    "X_test.shape"
   ]
  },
  {
   "cell_type": "code",
   "execution_count": null,
   "metadata": {
    "_cell_guid": "9db82d71-360d-4fe0-a5c7-edefc7b7e272",
    "_uuid": "062e18739e985c454d32a809c76631b1bfacc8a7"
   },
   "outputs": [],
   "source": [
    "from sklearn.model_selection import GridSearchCV\n",
    "from sklearn.metrics import accuracy_score, make_scorer"
   ]
  },
  {
   "cell_type": "markdown",
   "metadata": {
    "_cell_guid": "a179f547-9c41-41ce-929a-bb739b7601c9",
    "_uuid": "251ce8ed2a832097d2802a011567d1c8e83157bd"
   },
   "source": [
    "## Random Forest\n",
    "<a id='3.1'></a>"
   ]
  },
  {
   "cell_type": "code",
   "execution_count": null,
   "metadata": {
    "_cell_guid": "752720d7-9ace-42dc-959a-436bdbd7a67f",
    "_uuid": "cca1de5abc1cdb68e9270bea170d1ad41d7ac1e7"
   },
   "outputs": [],
   "source": [
    "from sklearn.ensemble import RandomForestClassifier"
   ]
  },
  {
   "cell_type": "code",
   "execution_count": null,
   "metadata": {},
   "outputs": [],
   "source": [
    "param_grid = {}"
   ]
  },
  {
   "cell_type": "code",
   "execution_count": null,
   "metadata": {
    "_cell_guid": "a3a92229-13e8-4f1d-9098-3281e189c2f2",
    "_uuid": "6bf6fb3898b571b1cbbef90f0bea8a269e7997a3"
   },
   "outputs": [],
   "source": [
    "param_grid = {'n_estimators': [10, 50, 250],\n",
    "              'max_depth': [5, 8, 15, 25, 30, None],\n",
    "              'min_samples_split': [2, 5, 10, 15, 100],\n",
    "              'min_samples_leaf': [1, 2, 5, 10],\n",
    "              'max_features': ['log2', 'sqrt', None],\n",
    "              'n_jobs': [-1]\n",
    "             }"
   ]
  },
  {
   "cell_type": "code",
   "execution_count": null,
   "metadata": {
    "_cell_guid": "481e6cb2-1c13-41f9-bfcc-ebca1207601d",
    "_uuid": "8384a29b2dff77157c4684d99af0c4edbb6eb273"
   },
   "outputs": [],
   "source": [
    "model_rfc = GridSearchCV(estimator=RandomForestClassifier(), param_grid=param_grid, scoring=make_scorer(accuracy_score), n_jobs=-1, verbose=1)"
   ]
  },
  {
   "cell_type": "code",
   "execution_count": null,
   "metadata": {
    "_cell_guid": "b601067c-098b-4995-be03-a246c450051e",
    "_uuid": "a3a005f8f16125d56b36d0742be29b0f2cef6261"
   },
   "outputs": [],
   "source": [
    "model_rfc.fit(X_train, y_train)"
   ]
  },
  {
   "cell_type": "code",
   "execution_count": null,
   "metadata": {
    "_cell_guid": "ef44e665-38fe-4770-a6b8-4b0f425b6b66",
    "_uuid": "e83ea2ceafc9cc711e2d64228558179c269cafcc"
   },
   "outputs": [],
   "source": [
    "model_rfc.best_params_"
   ]
  },
  {
   "cell_type": "code",
   "execution_count": null,
   "metadata": {
    "_cell_guid": "f9a8dbb3-69ce-417d-962d-8894645fd352",
    "_uuid": "4842cda3b0dd6fafe4af8e187ce136b3e8544e34"
   },
   "outputs": [],
   "source": [
    "model_rfc.best_score_"
   ]
  },
  {
   "cell_type": "code",
   "execution_count": null,
   "metadata": {},
   "outputs": [],
   "source": [
    "plt.figure(figsize=(4,12), dpi=90)\n",
    "sns.barplot(y=X_train.columns, x=model_rfc.best_estimator_.feature_importances_, color='darkblue', orient='h')\n",
    "plt.xlabel('Feature')\n",
    "plt.ylabel('RF Importance')\n",
    "plt.title('Random Forest Feature Importances')"
   ]
  },
  {
   "cell_type": "markdown",
   "metadata": {
    "_cell_guid": "64bee6ad-bed2-4f18-9904-a8517b1ae6b5",
    "_uuid": "a674b7d7985cf8b6bd71abfff08f574a18541b4e"
   },
   "source": [
    "## Gradient Boosting\n",
    "<a id='3.2'></a>"
   ]
  },
  {
   "cell_type": "code",
   "execution_count": null,
   "metadata": {
    "_cell_guid": "eef1124b-3fd7-4f67-b23f-2af728779915",
    "_uuid": "cc6c5a454a7f1b0af474b2d7c56d33ed067809ea"
   },
   "outputs": [],
   "source": [
    "from sklearn.ensemble import GradientBoostingClassifier"
   ]
  },
  {
   "cell_type": "code",
   "execution_count": null,
   "metadata": {
    "_cell_guid": "3e3c85c1-324a-4d24-9e97-5ee04f292cee",
    "_uuid": "e775717f496cb38df95c432237e995aa3c4137d8"
   },
   "outputs": [],
   "source": [
    "param_grid = {'max_depth': [3, 12, 25],\n",
    "              'subsample': [0.6, 0.8, 1.0],\n",
    "              'max_features': [None, 'sqrt', 'log2']\n",
    "             }"
   ]
  },
  {
   "cell_type": "code",
   "execution_count": null,
   "metadata": {
    "_cell_guid": "442cc37a-f443-4e42-a603-0719d5d0ab88",
    "_uuid": "cdd7484f620bbee294d9b5036c3ea499e60bb586"
   },
   "outputs": [],
   "source": [
    "model_gb = GridSearchCV(estimator=GradientBoostingClassifier(), param_grid=param_grid, scoring=make_scorer(accuracy_score), \n",
    "                        n_jobs=-1, verbose=1)"
   ]
  },
  {
   "cell_type": "code",
   "execution_count": null,
   "metadata": {
    "_cell_guid": "be3f204b-6935-47e4-a269-c861726c3501",
    "_uuid": "5a6bc45e1d92d106a36409eb952dd6c82f600fda"
   },
   "outputs": [],
   "source": [
    "model_gb.fit(X_train, y_train)"
   ]
  },
  {
   "cell_type": "code",
   "execution_count": null,
   "metadata": {
    "_cell_guid": "d329193c-3d54-4efd-8245-f8046e5db321",
    "_uuid": "c690cab3cd8d93ea526745b59ebcaf4c64cb4b9c"
   },
   "outputs": [],
   "source": [
    "model_gb.best_params_"
   ]
  },
  {
   "cell_type": "code",
   "execution_count": null,
   "metadata": {
    "_cell_guid": "edccb66d-793d-4a7b-8aaa-c310e0fe6779",
    "_uuid": "90afd19f2b74734fdba4f620bac5e5c258186155"
   },
   "outputs": [],
   "source": [
    "model_gb.best_score_"
   ]
  },
  {
   "cell_type": "markdown",
   "metadata": {
    "_cell_guid": "3a3dcfd8-a3c7-4ee7-9376-e8b4f93bdb65",
    "_uuid": "4648f866a7604dfc064938747464720765b4f649"
   },
   "source": [
    "## Logistic Regression\n",
    "<a id='3.3'></a>"
   ]
  },
  {
   "cell_type": "code",
   "execution_count": null,
   "metadata": {
    "_cell_guid": "7aac652d-820a-4243-a370-f0d90bb0aa81",
    "_uuid": "d00cb8e4a3edff746bc74a9ea2b699e6bbe991ff"
   },
   "outputs": [],
   "source": [
    "from sklearn.linear_model import LogisticRegression"
   ]
  },
  {
   "cell_type": "code",
   "execution_count": null,
   "metadata": {
    "_cell_guid": "8bc0a44b-58c1-4476-b06a-fdcdba0b7687",
    "_uuid": "40aac63531e463a2bb68a804cc29646d2658705b"
   },
   "outputs": [],
   "source": [
    "param_grid = {'penalty': ['l1', 'l2'],\n",
    "              'C': [10**k for k in range(-3,3)],\n",
    "              'class_weight': [None, 'balanced'],\n",
    "              'warm_start': [True]\n",
    "             }"
   ]
  },
  {
   "cell_type": "code",
   "execution_count": null,
   "metadata": {
    "_cell_guid": "2d7e0c9f-0352-46d2-bd0d-e5d9a4cadc67",
    "_uuid": "7bf9f7039fdf478a4a619f5ce652fe352aff84fd"
   },
   "outputs": [],
   "source": [
    "model_logreg = GridSearchCV(estimator=LogisticRegression(), param_grid=param_grid, scoring=make_scorer(accuracy_score), \n",
    "                            n_jobs=-1, verbose=1)"
   ]
  },
  {
   "cell_type": "code",
   "execution_count": null,
   "metadata": {
    "_cell_guid": "86bcafe3-3a88-48b3-a278-dd0672640d29",
    "_uuid": "d303f752b83aeaaf3faf9d4ce1d795486a66040b"
   },
   "outputs": [],
   "source": [
    "model_logreg.fit(X_train, y_train)"
   ]
  },
  {
   "cell_type": "code",
   "execution_count": null,
   "metadata": {
    "_cell_guid": "3c816c8b-4e63-4a26-aa53-21269d5f79ab",
    "_uuid": "5dc012df5faff20ba31f3c6c77bb17d8c4f9c76f"
   },
   "outputs": [],
   "source": [
    "model_logreg.best_params_"
   ]
  },
  {
   "cell_type": "code",
   "execution_count": null,
   "metadata": {
    "_cell_guid": "1ea29b5e-1011-4381-b4d2-c43c6b633917",
    "_uuid": "f55919ca7e72f5c3022aef31dd481b389da37c71"
   },
   "outputs": [],
   "source": [
    "model_logreg.best_score_"
   ]
  },
  {
   "cell_type": "markdown",
   "metadata": {
    "_cell_guid": "9e5a4526-fb07-426d-b477-f287011d1fdb",
    "_uuid": "5ebe1afad97d4333b697e21582a32c2630d5ccc8"
   },
   "source": [
    "## Gaussian Naive Bayes\n",
    "<a id='3.4'></a>"
   ]
  },
  {
   "cell_type": "code",
   "execution_count": null,
   "metadata": {
    "_cell_guid": "aa8aef86-ef17-4d38-b122-a3f98e7d871e",
    "_uuid": "b39aefd475e1bfd98e199570943e669464a95efd"
   },
   "outputs": [],
   "source": [
    "from sklearn.naive_bayes import GaussianNB"
   ]
  },
  {
   "cell_type": "code",
   "execution_count": null,
   "metadata": {
    "_cell_guid": "318f1bd3-d0b8-4744-b853-c8b9492a96dc",
    "_uuid": "2284e8d9ab1ab6ca04fe839bfac784301367d49d"
   },
   "outputs": [],
   "source": [
    "model_gnb = GaussianNB()"
   ]
  },
  {
   "cell_type": "code",
   "execution_count": null,
   "metadata": {
    "_cell_guid": "98753cad-ed66-44d4-aa34-6a3a3ceb8ca9",
    "_uuid": "2d965fa5bd8b364b6aee796309bb318aa10b97a9"
   },
   "outputs": [],
   "source": [
    "model_gnb.fit(X_train, y_train)"
   ]
  },
  {
   "cell_type": "code",
   "execution_count": null,
   "metadata": {
    "_cell_guid": "27349fad-35a3-4434-aac2-a2805da748ed",
    "_uuid": "c6c01e0bf2dac73eedf49f695de17e035c3ddcce"
   },
   "outputs": [],
   "source": [
    "accuracy_score(y_train, model_gnb.predict(X_train))"
   ]
  },
  {
   "cell_type": "markdown",
   "metadata": {
    "_cell_guid": "d9519f5a-5cc4-425e-a1bf-e603950e6523",
    "_uuid": "12fd3e802f3dc4b27019a8095b7566d81172da1a"
   },
   "source": [
    "## Support Vector Classifier\n",
    "<a id='3.5'></a>"
   ]
  },
  {
   "cell_type": "code",
   "execution_count": null,
   "metadata": {
    "_cell_guid": "f0e812a1-ddac-4331-8047-f0acd4fe2b34",
    "_uuid": "9a5d1cad16bd3b6bc90f779a5acb49ab150ca7e5"
   },
   "outputs": [],
   "source": [
    "from sklearn.svm import SVC"
   ]
  },
  {
   "cell_type": "code",
   "execution_count": null,
   "metadata": {
    "_cell_guid": "921be59f-ae57-49b3-96d9-6b54e8cc1bea",
    "_uuid": "07b5bd55e71e409f7133290d91eafa91b2b4a644"
   },
   "outputs": [],
   "source": [
    "param_grid = {'C': [10**k for k in range(-3,4)],\n",
    "              'class_weight': [None, 'balanced'],\n",
    "              'shrinking': [True, False]\n",
    "             }"
   ]
  },
  {
   "cell_type": "code",
   "execution_count": null,
   "metadata": {
    "_cell_guid": "6e10f8ac-6ad8-42d9-b03f-83f20aa36172",
    "_uuid": "4564db4cda9209e76d3b2cd0ee5d95c34aa4eaec"
   },
   "outputs": [],
   "source": [
    "model_svc = GridSearchCV(estimator=SVC(), param_grid=param_grid, scoring=make_scorer(accuracy_score), \n",
    "                         n_jobs=-1, verbose=1)"
   ]
  },
  {
   "cell_type": "code",
   "execution_count": null,
   "metadata": {
    "_cell_guid": "02d64840-953a-4702-9cb5-78b14c9c7b20",
    "_uuid": "04431df8508da0702c9490f59bc3bc79d2ddcabf"
   },
   "outputs": [],
   "source": [
    "model_svc.fit(X_train, y_train)"
   ]
  },
  {
   "cell_type": "code",
   "execution_count": null,
   "metadata": {
    "_cell_guid": "097a7c5a-aa30-4b25-a0e0-2320250e5c15",
    "_uuid": "396992fc127cc82cd996b893c0687344ba1454cd"
   },
   "outputs": [],
   "source": [
    "model_svc.best_params_"
   ]
  },
  {
   "cell_type": "code",
   "execution_count": null,
   "metadata": {
    "_cell_guid": "f6835b71-6cb8-490f-b15a-649772afc17a",
    "_uuid": "da0c96b2f1797ac386177f6889f5675f5b227dae"
   },
   "outputs": [],
   "source": [
    "model_svc.best_score_"
   ]
  },
  {
   "cell_type": "markdown",
   "metadata": {
    "_cell_guid": "20a1b934-1f7e-444f-8c41-591e1e249cd5",
    "_uuid": "7bf6462534b8edbbb2f9157215597a1d42a66c32"
   },
   "source": [
    "## k-Nearest Neighbors\n",
    "<a id='3.6'></a>"
   ]
  },
  {
   "cell_type": "code",
   "execution_count": null,
   "metadata": {
    "_cell_guid": "afddb9c2-b8bf-496a-a954-c6907f067d97",
    "_uuid": "13238a65541195d5bcc36af5bcdd42d5d84dff46"
   },
   "outputs": [],
   "source": [
    "from sklearn.neighbors import KNeighborsClassifier"
   ]
  },
  {
   "cell_type": "code",
   "execution_count": null,
   "metadata": {
    "_cell_guid": "ee763ea0-b83d-456d-9977-cdd8afa727bc",
    "_uuid": "b34530581f817152cae8565b58cf24ab213385d4"
   },
   "outputs": [],
   "source": [
    "param_grid = {'n_neighbors': [1, 2, 4, 8, 16, 32, 64, 128, 256],\n",
    "              'weights': ['uniform', 'distance'],\n",
    "              'p': [1, 2, 3, 4, 5]\n",
    "             }"
   ]
  },
  {
   "cell_type": "code",
   "execution_count": null,
   "metadata": {
    "_cell_guid": "6e3ae28d-4f81-461f-b8e9-6bc95985acd5",
    "_uuid": "4a3e862739ced66586a59106725078a45a38e10e"
   },
   "outputs": [],
   "source": [
    "model_knn = GridSearchCV(estimator=KNeighborsClassifier(), param_grid=param_grid, scoring=make_scorer(accuracy_score), \n",
    "                    n_jobs=-1, verbose=1, return_train_score=True)"
   ]
  },
  {
   "cell_type": "code",
   "execution_count": null,
   "metadata": {
    "_cell_guid": "76644168-db2e-460d-9366-40ec4a5760f3",
    "_uuid": "014986b616e087a356bf21805cb8df888021c1c5"
   },
   "outputs": [],
   "source": [
    "model_knn.fit(X_train, y_train)"
   ]
  },
  {
   "cell_type": "code",
   "execution_count": null,
   "metadata": {
    "_cell_guid": "ad3e78ef-3fdb-475c-b635-f6c7f1bd45e6",
    "_uuid": "3d72711097beae24c68633c61164ceb4b6786215"
   },
   "outputs": [],
   "source": [
    "model_knn.best_params_"
   ]
  },
  {
   "cell_type": "code",
   "execution_count": null,
   "metadata": {
    "_cell_guid": "d1de56a5-4e49-402e-9269-66f225309df6",
    "_uuid": "b087dc1aef4a70d6a1aeab28aad96d35e9f9c780"
   },
   "outputs": [],
   "source": [
    "model_knn.best_score_"
   ]
  },
  {
   "cell_type": "markdown",
   "metadata": {
    "_cell_guid": "4571b3d2-7aaf-4195-ab7d-c2322143192b",
    "_uuid": "db4534bae04478139856c67fb979245435a37665"
   },
   "source": [
    "# Conclusion\n",
    "<a id='4'></a>"
   ]
  },
  {
   "cell_type": "markdown",
   "metadata": {
    "_cell_guid": "4b22bd3f-2663-4954-979d-b77f77c00814",
    "_uuid": "8e436ffe56a1139142ff0b25a051485ca71a2786"
   },
   "source": [
    "## Results Summary\n",
    "<a id='4.1'></a>"
   ]
  },
  {
   "cell_type": "code",
   "execution_count": null,
   "metadata": {
    "_cell_guid": "f029e839-5cfa-4c9e-a151-60799ee5e32a",
    "_uuid": "dbbad8f6d3ffbcc4b323e2047ded29b761c50c94"
   },
   "outputs": [],
   "source": [
    "print('Training Accuracy Scores')\n",
    "print('Random Forest: ', model_rfc.best_score_)\n",
    "print('Gradient Boosting: ', model_gb.best_score_)\n",
    "print('Logistic Regression: ', model_logreg.best_score_)\n",
    "print('Gaussian Naive Bayes: ', accuracy_score(y_train, model_gnb.predict(X_train)))\n",
    "print('Support Vector Classifier: ', model_svc.best_score_)\n",
    "print('k-Nearest Neighbors: ', model_knn.best_score_)"
   ]
  },
  {
   "cell_type": "markdown",
   "metadata": {
    "_cell_guid": "de559c9b-53d6-4d74-8211-31d6f45cc875",
    "_uuid": "e1c5c30d07668ff331a8866f326410358d3af965"
   },
   "source": [
    "The Random Forest is our best-performing model."
   ]
  },
  {
   "cell_type": "markdown",
   "metadata": {
    "_cell_guid": "feb2a13b-b0e7-4125-b3d7-ce3701b11401",
    "_uuid": "297ce8fcdf1a4cefe7aca44e13b6ea1ab94756a5"
   },
   "source": [
    "## Test Set Predictions\n",
    "<a id='4.2'></a>"
   ]
  },
  {
   "cell_type": "code",
   "execution_count": null,
   "metadata": {
    "_cell_guid": "b6bdc424-e3bf-4f30-93f8-ee382b787c69",
    "_uuid": "43132aba2a1e0b6e2e4099d58ed302f14665b3a7"
   },
   "outputs": [],
   "source": [
    "y_preds = model_rfc.predict(X_test)"
   ]
  },
  {
   "cell_type": "code",
   "execution_count": null,
   "metadata": {
    "_cell_guid": "4d132704-a097-4414-8f58-08ccd5a00a01",
    "_uuid": "90cea7aba198e4511c0e0b216239fb0ab72f0e26"
   },
   "outputs": [],
   "source": [
    "submission = pd.DataFrame({'PassengerId':TestPassengerId, 'Survived':np.uint8(y_preds)})"
   ]
  },
  {
   "cell_type": "code",
   "execution_count": null,
   "metadata": {
    "_cell_guid": "b6a0a118-cf83-4ec8-8cde-83f2b719d2c3",
    "_uuid": "db11bcc992164a59ff5a0cc111a2ed061c26789e"
   },
   "outputs": [],
   "source": [
    "submission.shape"
   ]
  },
  {
   "cell_type": "code",
   "execution_count": null,
   "metadata": {
    "_cell_guid": "225a7755-6b45-4142-98f2-fc7f6dffd39e",
    "_uuid": "9afa72772db377e682b9eb85eb2a8f5f49041eaa"
   },
   "outputs": [],
   "source": [
    "submission.sample(5)"
   ]
  },
  {
   "cell_type": "code",
   "execution_count": null,
   "metadata": {
    "_cell_guid": "11c5c376-2d0b-4a4d-9fb9-38dedc57f5fb",
    "_uuid": "f95f4ca7852b1de1b9730da2cbe668203e6709f7"
   },
   "outputs": [],
   "source": [
    "submission.to_csv('submission.csv', index=False)"
   ]
  }
 ],
 "metadata": {
  "kernelspec": {
   "display_name": "Python 3",
   "language": "python",
   "name": "python3"
  },
  "language_info": {
   "codemirror_mode": {
    "name": "ipython",
    "version": 3
   },
   "file_extension": ".py",
   "mimetype": "text/x-python",
   "name": "python",
   "nbconvert_exporter": "python",
   "pygments_lexer": "ipython3",
   "version": "3.6.4"
  }
 },
 "nbformat": 4,
 "nbformat_minor": 1
}
