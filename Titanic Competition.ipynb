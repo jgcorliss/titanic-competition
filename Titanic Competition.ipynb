{
 "cells": [
  {
   "cell_type": "markdown",
   "metadata": {
    "_cell_guid": "90a1c88a-d4a7-48ca-b4b3-74c250e27fd5",
    "_uuid": "213592d544cbb34b454281467efafbad48736d31"
   },
   "source": [
    "# Titanic: Machine Learning from Disaster\n",
    "\n",
    "***By Joe Corliss***"
   ]
  },
  {
   "cell_type": "markdown",
   "metadata": {
    "_cell_guid": "37f53c0e-7466-4ce4-b54e-4819e7f2f66a",
    "_uuid": "784c07fe0f703e35ebec603f1a4f3800c552966a"
   },
   "source": [
    "## Table of Contents"
   ]
  },
  {
   "cell_type": "markdown",
   "metadata": {
    "_cell_guid": "5077cc0e-50e3-4554-ae19-238a34576115",
    "_uuid": "9f1df6a4940e81711ac57e29cc078378bc871e13"
   },
   "source": [
    "* [1 Introduction](#1)\n",
    "* [2 Getting Started](#2)\n",
    "    * [2.1 Imports](#2.1)\n",
    "    * [2.2 Read In the Data](#2.2)\n",
    "* [3 Pre-processing](#3)\n",
    "    * [3.1 Feature Engineering](#3.1)\n",
    "    * [3.2 One-Hot Encoding](#3.2)\n",
    "    * [3.3 Imputation with Mean Substitution](#3.3)\n",
    "    * [3.4 Standardization](#3.4)\n",
    "    * [3.5 Recursive Feature Elimination](#3.5)\n",
    "* [4 Predictive Modeling](#4)\n",
    "    * [4.1 Random Forest](#4.1)\n",
    "    * [4.2 Gradient Boosting](#4.2)\n",
    "    * [4.3 Logistic Regression](#4.3)\n",
    "    * [4.4 Gaussian Naive Bayes](#4.4)\n",
    "    * [4.5 Support Vector Classifier](#4.5)\n",
    "    * [4.6 k-Nearest Neighbors](#4.6)\n",
    "* [5 Conclusion](#5)\n",
    "    * [5.1 Results Summary](#5.1)\n",
    "    * [5.2 Test Set Predictions](#5.2)"
   ]
  },
  {
   "cell_type": "markdown",
   "metadata": {},
   "source": [
    "# 1 Introduction\n",
    "<a id='1'></a>"
   ]
  },
  {
   "cell_type": "markdown",
   "metadata": {
    "_cell_guid": "90a1c88a-d4a7-48ca-b4b3-74c250e27fd5",
    "_uuid": "213592d544cbb34b454281467efafbad48736d31"
   },
   "source": [
    "[Kaggle competition](https://www.kaggle.com/c/titanic) - The competition page on Kaggle\n",
    "\n",
    "[Kaggle notebook](https://www.kaggle.com/pileatedperch/titanic-predicting-survival) - This notebook hosted on Kaggle\n",
    "\n",
    "[GitHub repository](https://github.com/jgcorliss/titanic-competition) - GitHub repo for this project\n",
    "\n",
    "\"The sinking of the RMS Titanic is one of the most infamous shipwrecks in history.  On April 15, 1912, during her maiden voyage, the Titanic sank after colliding with an iceberg, killing 1502 out of 2224 passengers and crew. This sensational tragedy shocked the international community and led to better safety regulations for ships.\n",
    "\n",
    "One of the reasons that the shipwreck led to such loss of life was that there were not enough lifeboats for the passengers and crew. Although there was some element of luck involved in surviving the sinking, some groups of people were more likely to survive than others, such as women, children, and the upper-class.\n",
    "\n",
    "In this challenge, we ask you to complete the analysis of what sorts of people were likely to survive. In particular, we ask you to apply the tools of machine learning to predict which passengers survived the tragedy.\n",
    "\n",
    "Your score is the percentage of passengers you correctly predict. This is known simply as 'accuracy.'\""
   ]
  },
  {
   "cell_type": "markdown",
   "metadata": {
    "_cell_guid": "4206781a-4d77-4f05-8c80-118aa3435b97",
    "_uuid": "59bcf9970c0270cdbdbee5bef3e6e75769fe0fdb"
   },
   "source": [
    "# 2 Getting Started\n",
    "<a id='2'></a>"
   ]
  },
  {
   "cell_type": "markdown",
   "metadata": {
    "_cell_guid": "4854dd55-5520-43e2-aca6-bb8b6e03da7b",
    "_uuid": "4b5e6c4c800de224b736daa05dfcdf67148b113b"
   },
   "source": [
    "## 2.1 Imports\n",
    "<a id='2.1'></a>"
   ]
  },
  {
   "cell_type": "code",
   "execution_count": 1,
   "metadata": {
    "_cell_guid": "8420f9fa-de58-4f21-a90a-115d1c4a2011",
    "_uuid": "ffb7d06a14aec97edaec81d0cb54908da444edf3"
   },
   "outputs": [],
   "source": [
    "import numpy as np\n",
    "import scipy as sp\n",
    "import pandas as pd\n",
    "import matplotlib as mpl\n",
    "import matplotlib.pyplot as plt\n",
    "import seaborn as sns\n",
    "\n",
    "# Pandas options\n",
    "pd.set_option('display.max_colwidth', 1000, 'display.max_rows', None, 'display.max_columns', None)\n",
    "\n",
    "# Plotting options\n",
    "%matplotlib inline\n",
    "mpl.style.use('ggplot')\n",
    "sns.set(style='whitegrid')"
   ]
  },
  {
   "cell_type": "markdown",
   "metadata": {
    "_cell_guid": "2e5433d5-fe95-4ebb-bce1-414436082bb4",
    "_uuid": "478b69fc0bd0274d36af44ffe2c4bd8463ea05ca"
   },
   "source": [
    "## 2.2 Read In the Data\n",
    "<a id='2.2'></a>"
   ]
  },
  {
   "cell_type": "code",
   "execution_count": 2,
   "metadata": {
    "_cell_guid": "02e20ec7-d0c6-4c6e-ae31-cff681a87829",
    "_uuid": "43d7e435bffdc4679e32cf849d56a36ce6c7ecff"
   },
   "outputs": [],
   "source": [
    "df_train = pd.read_csv('train.csv')\n",
    "df_test = pd.read_csv('test.csv')"
   ]
  },
  {
   "cell_type": "code",
   "execution_count": 3,
   "metadata": {},
   "outputs": [
    {
     "data": {
      "text/plain": [
       "(891, 12)"
      ]
     },
     "execution_count": 3,
     "metadata": {},
     "output_type": "execute_result"
    }
   ],
   "source": [
    "df_train.shape"
   ]
  },
  {
   "cell_type": "code",
   "execution_count": 4,
   "metadata": {},
   "outputs": [
    {
     "data": {
      "text/plain": [
       "(418, 11)"
      ]
     },
     "execution_count": 4,
     "metadata": {},
     "output_type": "execute_result"
    }
   ],
   "source": [
    "df_test.shape"
   ]
  },
  {
   "cell_type": "markdown",
   "metadata": {},
   "source": [
    "Save the test set passenders IDs for later:"
   ]
  },
  {
   "cell_type": "code",
   "execution_count": 5,
   "metadata": {
    "_cell_guid": "436a57e4-3c43-43ac-b771-af61e202c793",
    "_uuid": "84c91238e4e9988d53f00f94a64f8c25296c9e08"
   },
   "outputs": [],
   "source": [
    "TestPassengerId = df_test.loc[:,'PassengerId']"
   ]
  },
  {
   "cell_type": "markdown",
   "metadata": {
    "_cell_guid": "e4602e11-2fe6-4b73-88a0-e130a92d1d97",
    "_uuid": "eaf68050fc43e3cc63237e77b0831bf3ff74ee20"
   },
   "source": [
    "Concatenate the train and test sets together:"
   ]
  },
  {
   "cell_type": "code",
   "execution_count": 6,
   "metadata": {
    "_cell_guid": "9dfd7979-5352-43a2-8099-ce51f930ca61",
    "_uuid": "5f387da6c09e77e5739b2e28a2261dcf46359c61"
   },
   "outputs": [],
   "source": [
    "df = df_train.append(df_test, ignore_index=True)"
   ]
  },
  {
   "cell_type": "markdown",
   "metadata": {
    "_cell_guid": "66719bbe-55f3-4df6-8bfb-ab7ac27ea1c5",
    "_uuid": "094479ac9967a7c553b7ae55a75c6aea946c84e9"
   },
   "source": [
    "Basic metadata:"
   ]
  },
  {
   "cell_type": "code",
   "execution_count": 7,
   "metadata": {
    "_cell_guid": "17164ee6-9f01-4451-89f6-d53a2b580c78",
    "_uuid": "48cf30c3c5603242160472529dba8e78b85a3a46"
   },
   "outputs": [
    {
     "data": {
      "text/plain": [
       "(1309, 12)"
      ]
     },
     "execution_count": 7,
     "metadata": {},
     "output_type": "execute_result"
    }
   ],
   "source": [
    "df.shape"
   ]
  },
  {
   "cell_type": "code",
   "execution_count": 8,
   "metadata": {
    "_cell_guid": "1ef85023-dde2-4b9c-9ffb-85c64f067f43",
    "_uuid": "38249892b22613a75abec38c216bc1e7075abb9e"
   },
   "outputs": [
    {
     "name": "stdout",
     "output_type": "stream",
     "text": [
      "<class 'pandas.core.frame.DataFrame'>\n",
      "RangeIndex: 1309 entries, 0 to 1308\n",
      "Data columns (total 12 columns):\n",
      "Age            1046 non-null float64\n",
      "Cabin          295 non-null object\n",
      "Embarked       1307 non-null object\n",
      "Fare           1308 non-null float64\n",
      "Name           1309 non-null object\n",
      "Parch          1309 non-null int64\n",
      "PassengerId    1309 non-null int64\n",
      "Pclass         1309 non-null int64\n",
      "Sex            1309 non-null object\n",
      "SibSp          1309 non-null int64\n",
      "Survived       891 non-null float64\n",
      "Ticket         1309 non-null object\n",
      "dtypes: float64(3), int64(4), object(5)\n",
      "memory usage: 122.8+ KB\n"
     ]
    }
   ],
   "source": [
    "df.info()"
   ]
  },
  {
   "cell_type": "markdown",
   "metadata": {
    "_cell_guid": "0e30a35b-ddc7-45b5-81c4-825be2016750",
    "_uuid": "026d5ff3c9addc88fdb630e4f87552e0907f0f9c"
   },
   "source": [
    "Find incomplete columns:"
   ]
  },
  {
   "cell_type": "code",
   "execution_count": 9,
   "metadata": {
    "_cell_guid": "869570d5-6b7c-4d46-ab2b-a9588d524c47",
    "_uuid": "641cc600a50db00a26ead9b74a3847fa68a2bbad"
   },
   "outputs": [],
   "source": [
    "def incomplete_cols(df):\n",
    "    \"\"\"\n",
    "    Returns a list of incomplete columns in df and their fraction of non-null values.\n",
    "    \n",
    "    Input: pandas DataFrame\n",
    "    Returns: pandas Series\n",
    "    \"\"\"\n",
    "    cmp = df.notnull().mean().sort_values()\n",
    "    return cmp.loc[cmp<1]"
   ]
  },
  {
   "cell_type": "code",
   "execution_count": 10,
   "metadata": {
    "_cell_guid": "096a9550-6c1c-4e0e-9591-d00f759e9c63",
    "_uuid": "c8153c310f14522980df6f513e9375a05584ec0d"
   },
   "outputs": [
    {
     "data": {
      "text/plain": [
       "Cabin       0.225363\n",
       "Survived    0.680672\n",
       "Age         0.799083\n",
       "Embarked    0.998472\n",
       "Fare        0.999236\n",
       "dtype: float64"
      ]
     },
     "execution_count": 10,
     "metadata": {},
     "output_type": "execute_result"
    }
   ],
   "source": [
    "incomplete_cols(df)"
   ]
  },
  {
   "cell_type": "code",
   "execution_count": 11,
   "metadata": {
    "_cell_guid": "500d81e7-0f3a-4cf3-98fe-7b2eaa5c3e72",
    "_uuid": "76f67ea9eeadfc8a09a36bc6c0e9cd99069b3b81"
   },
   "outputs": [
    {
     "data": {
      "text/html": [
       "<div>\n",
       "<style scoped>\n",
       "    .dataframe tbody tr th:only-of-type {\n",
       "        vertical-align: middle;\n",
       "    }\n",
       "\n",
       "    .dataframe tbody tr th {\n",
       "        vertical-align: top;\n",
       "    }\n",
       "\n",
       "    .dataframe thead th {\n",
       "        text-align: right;\n",
       "    }\n",
       "</style>\n",
       "<table border=\"1\" class=\"dataframe\">\n",
       "  <thead>\n",
       "    <tr style=\"text-align: right;\">\n",
       "      <th></th>\n",
       "      <th>Age</th>\n",
       "      <th>Cabin</th>\n",
       "      <th>Embarked</th>\n",
       "      <th>Fare</th>\n",
       "      <th>Name</th>\n",
       "      <th>Parch</th>\n",
       "      <th>PassengerId</th>\n",
       "      <th>Pclass</th>\n",
       "      <th>Sex</th>\n",
       "      <th>SibSp</th>\n",
       "      <th>Survived</th>\n",
       "      <th>Ticket</th>\n",
       "    </tr>\n",
       "  </thead>\n",
       "  <tbody>\n",
       "    <tr>\n",
       "      <th>651</th>\n",
       "      <td>18.0</td>\n",
       "      <td>NaN</td>\n",
       "      <td>S</td>\n",
       "      <td>23.0000</td>\n",
       "      <td>Doling, Miss. Elsie</td>\n",
       "      <td>1</td>\n",
       "      <td>652</td>\n",
       "      <td>2</td>\n",
       "      <td>female</td>\n",
       "      <td>0</td>\n",
       "      <td>1.0</td>\n",
       "      <td>231919</td>\n",
       "    </tr>\n",
       "    <tr>\n",
       "      <th>752</th>\n",
       "      <td>33.0</td>\n",
       "      <td>NaN</td>\n",
       "      <td>S</td>\n",
       "      <td>9.5000</td>\n",
       "      <td>Vande Velde, Mr. Johannes Joseph</td>\n",
       "      <td>0</td>\n",
       "      <td>753</td>\n",
       "      <td>3</td>\n",
       "      <td>male</td>\n",
       "      <td>0</td>\n",
       "      <td>0.0</td>\n",
       "      <td>345780</td>\n",
       "    </tr>\n",
       "    <tr>\n",
       "      <th>1211</th>\n",
       "      <td>26.0</td>\n",
       "      <td>NaN</td>\n",
       "      <td>S</td>\n",
       "      <td>7.7750</td>\n",
       "      <td>Andersson, Mr. Johan Samuel</td>\n",
       "      <td>0</td>\n",
       "      <td>1212</td>\n",
       "      <td>3</td>\n",
       "      <td>male</td>\n",
       "      <td>0</td>\n",
       "      <td>NaN</td>\n",
       "      <td>347075</td>\n",
       "    </tr>\n",
       "    <tr>\n",
       "      <th>975</th>\n",
       "      <td>NaN</td>\n",
       "      <td>NaN</td>\n",
       "      <td>Q</td>\n",
       "      <td>10.7083</td>\n",
       "      <td>Lamb, Mr. John Joseph</td>\n",
       "      <td>0</td>\n",
       "      <td>976</td>\n",
       "      <td>2</td>\n",
       "      <td>male</td>\n",
       "      <td>0</td>\n",
       "      <td>NaN</td>\n",
       "      <td>240261</td>\n",
       "    </tr>\n",
       "    <tr>\n",
       "      <th>142</th>\n",
       "      <td>24.0</td>\n",
       "      <td>NaN</td>\n",
       "      <td>S</td>\n",
       "      <td>15.8500</td>\n",
       "      <td>Hakkarainen, Mrs. Pekka Pietari (Elin Matilda Dolck)</td>\n",
       "      <td>0</td>\n",
       "      <td>143</td>\n",
       "      <td>3</td>\n",
       "      <td>female</td>\n",
       "      <td>1</td>\n",
       "      <td>1.0</td>\n",
       "      <td>STON/O2. 3101279</td>\n",
       "    </tr>\n",
       "  </tbody>\n",
       "</table>\n",
       "</div>"
      ],
      "text/plain": [
       "       Age Cabin Embarked     Fare  \\\n",
       "651   18.0   NaN        S  23.0000   \n",
       "752   33.0   NaN        S   9.5000   \n",
       "1211  26.0   NaN        S   7.7750   \n",
       "975    NaN   NaN        Q  10.7083   \n",
       "142   24.0   NaN        S  15.8500   \n",
       "\n",
       "                                                      Name  Parch  \\\n",
       "651                                    Doling, Miss. Elsie      1   \n",
       "752                       Vande Velde, Mr. Johannes Joseph      0   \n",
       "1211                           Andersson, Mr. Johan Samuel      0   \n",
       "975                                  Lamb, Mr. John Joseph      0   \n",
       "142   Hakkarainen, Mrs. Pekka Pietari (Elin Matilda Dolck)      0   \n",
       "\n",
       "      PassengerId  Pclass     Sex  SibSp  Survived            Ticket  \n",
       "651           652       2  female      0       1.0            231919  \n",
       "752           753       3    male      0       0.0            345780  \n",
       "1211         1212       3    male      0       NaN            347075  \n",
       "975           976       2    male      0       NaN            240261  \n",
       "142           143       3  female      1       1.0  STON/O2. 3101279  "
      ]
     },
     "execution_count": 11,
     "metadata": {},
     "output_type": "execute_result"
    }
   ],
   "source": [
    "df.sample(5) # Display some random rows"
   ]
  },
  {
   "cell_type": "markdown",
   "metadata": {
    "_cell_guid": "b4ff88b1-e15b-4d4f-b542-314fd09c7ece",
    "_uuid": "e99ff4d2c81864021628789da6d58fea21176579"
   },
   "source": [
    "# 3 Pre-processing\n",
    "<a id='3'></a>"
   ]
  },
  {
   "cell_type": "markdown",
   "metadata": {
    "_cell_guid": "5432957e-5cd7-4bff-bb0c-61dd54c54f3f",
    "_uuid": "99db4fdd03df26b6c96a721455b4018054affc16"
   },
   "source": [
    "## 3.1 Feature Engineering\n",
    "<a id='3.1'></a>"
   ]
  },
  {
   "cell_type": "markdown",
   "metadata": {
    "_cell_guid": "cf786f16-547a-41ed-89f4-6bb1fa1b606e",
    "_uuid": "127f53b6a9cea43ac45edf419b497a273241a10d"
   },
   "source": [
    "### Age"
   ]
  },
  {
   "cell_type": "code",
   "execution_count": 12,
   "metadata": {
    "_cell_guid": "7439ca28-afb1-446b-b3c5-5b62d312b1f2",
    "_uuid": "7dfb8a654c2fb09cca5b8d15f2ac392058ee7c97"
   },
   "outputs": [
    {
     "data": {
      "text/plain": [
       "0.799083269671505"
      ]
     },
     "execution_count": 12,
     "metadata": {},
     "output_type": "execute_result"
    }
   ],
   "source": [
    "df['Age'].notnull().mean()"
   ]
  },
  {
   "cell_type": "code",
   "execution_count": 13,
   "metadata": {
    "_cell_guid": "1b89659a-c518-417c-9ccd-478ce19ab16d",
    "_uuid": "52de823ce8baf7e3245e0056dfadb9b72bca5d45"
   },
   "outputs": [],
   "source": [
    "df['Age_NA'] = df['Age'].isnull()"
   ]
  },
  {
   "cell_type": "code",
   "execution_count": 14,
   "metadata": {
    "_cell_guid": "ad4b22fb-a623-4d1b-9075-4acf60655632",
    "_uuid": "cf85e2f3cca48bd7468029dfddea6542280929bd"
   },
   "outputs": [
    {
     "data": {
      "text/plain": [
       "Text(0.5,1,'Histogram of Passenger Age')"
      ]
     },
     "execution_count": 14,
     "metadata": {},
     "output_type": "execute_result"
    },
    {
     "data": {
      "image/png": "[encoded data removed]",
      "text/plain": [
       "<matplotlib.figure.Figure at 0x1df145f3198>"
      ]
     },
     "metadata": {},
     "output_type": "display_data"
    }
   ],
   "source": [
    "plt.figure(figsize=(12,4), dpi=90)\n",
    "sns.distplot(df.loc[df['Age'].notnull(), 'Age'], bins=range(0, 90, 2), kde=False)\n",
    "plt.ylabel('Count')\n",
    "plt.title('Histogram of Passenger Age')"
   ]
  },
  {
   "cell_type": "markdown",
   "metadata": {
    "_cell_guid": "bf995e49-d3b8-47eb-b946-2d385e41463b",
    "_uuid": "5af969adff301f75bdcf39a0f3c83c44f2885822"
   },
   "source": [
    "### Cabin"
   ]
  },
  {
   "cell_type": "code",
   "execution_count": 15,
   "metadata": {
    "_cell_guid": "c8406943-e749-4834-89d4-0fc1640aeaa4",
    "_uuid": "af0f901dca9b72dd90deab05e6ffc735c190a066"
   },
   "outputs": [
    {
     "data": {
      "text/plain": [
       "0.22536287242169595"
      ]
     },
     "execution_count": 15,
     "metadata": {},
     "output_type": "execute_result"
    }
   ],
   "source": [
    "df['Cabin'].notnull().mean()"
   ]
  },
  {
   "cell_type": "markdown",
   "metadata": {
    "_cell_guid": "ca11a261-b3bc-404b-9c0f-86605a1a1601",
    "_uuid": "02a8a2bc7c6c5d7cc1408092ecda5a779c199ad8"
   },
   "source": [
    "Extract the cabin letter (A, B, C, etc), or NA if the cabin data is missing."
   ]
  },
  {
   "cell_type": "code",
   "execution_count": 16,
   "metadata": {},
   "outputs": [],
   "source": [
    "def find_cabin(s):\n",
    "    try:\n",
    "        return s[0]\n",
    "    except:\n",
    "        return 'NA'"
   ]
  },
  {
   "cell_type": "code",
   "execution_count": 17,
   "metadata": {},
   "outputs": [],
   "source": [
    "df.loc[:,'Cabin'] = df['Cabin'].apply(find_cabin)"
   ]
  },
  {
   "cell_type": "code",
   "execution_count": 18,
   "metadata": {},
   "outputs": [
    {
     "data": {
      "text/plain": [
       "NA    1014\n",
       "C       94\n",
       "B       65\n",
       "D       46\n",
       "E       41\n",
       "A       22\n",
       "F       21\n",
       "G        5\n",
       "T        1\n",
       "Name: Cabin, dtype: int64"
      ]
     },
     "execution_count": 18,
     "metadata": {},
     "output_type": "execute_result"
    }
   ],
   "source": [
    "df['Cabin'].value_counts()"
   ]
  },
  {
   "cell_type": "markdown",
   "metadata": {
    "_cell_guid": "4da3d77e-dbec-4998-a9ac-86bdf76a1499",
    "_uuid": "4c37e1be45712c93214324f5673cff0c09dd699b"
   },
   "source": [
    "### Embarked"
   ]
  },
  {
   "cell_type": "code",
   "execution_count": 19,
   "metadata": {
    "_cell_guid": "a33fa003-9c34-4b9f-b843-642655355aaa",
    "_uuid": "2330d2a4ed35739e0368119e61a15e11e4ef8987"
   },
   "outputs": [
    {
     "data": {
      "text/plain": [
       "S      914\n",
       "C      270\n",
       "Q      123\n",
       "NaN      2\n",
       "Name: Embarked, dtype: int64"
      ]
     },
     "execution_count": 19,
     "metadata": {},
     "output_type": "execute_result"
    }
   ],
   "source": [
    "df['Embarked'].value_counts(dropna=False)"
   ]
  },
  {
   "cell_type": "markdown",
   "metadata": {},
   "source": [
    "Only 2 passengers do not have a port of embarkation."
   ]
  },
  {
   "cell_type": "code",
   "execution_count": 20,
   "metadata": {
    "_cell_guid": "4c71aec8-0182-4205-b53d-8b3f11a95d44",
    "_uuid": "7ee52adc60281680b9adbe2d9fbe84b5a10beb7f"
   },
   "outputs": [
    {
     "data": {
      "text/plain": [
       "Text(0.5,1,'Passenger Ports of Embarkation')"
      ]
     },
     "execution_count": 20,
     "metadata": {},
     "output_type": "execute_result"
    },
    {
     "data": {
      "image/png": "[encoded data removed]",
      "text/plain": [
       "<matplotlib.figure.Figure at 0x1df145f30f0>"
      ]
     },
     "metadata": {},
     "output_type": "display_data"
    }
   ],
   "source": [
    "sns.countplot(x='Embarked', data=df)\n",
    "plt.title('Passenger Ports of Embarkation')"
   ]
  },
  {
   "cell_type": "markdown",
   "metadata": {
    "_cell_guid": "56a2c730-63ba-4184-823e-b0f215ca9b4e",
    "_uuid": "c143233a6e8911e69d6a23692c162abe23f46064"
   },
   "source": [
    "### Fare"
   ]
  },
  {
   "cell_type": "code",
   "execution_count": 21,
   "metadata": {
    "_cell_guid": "0ec02c10-a92a-4778-a22e-69c015d64e5a",
    "_uuid": "d4b1943c2e2d2c3788377fc336910527b2b5566a"
   },
   "outputs": [
    {
     "data": {
      "text/plain": [
       "1"
      ]
     },
     "execution_count": 21,
     "metadata": {},
     "output_type": "execute_result"
    }
   ],
   "source": [
    "df['Fare'].isnull().sum()"
   ]
  },
  {
   "cell_type": "markdown",
   "metadata": {},
   "source": [
    "Only one fare is missing. Who is that?"
   ]
  },
  {
   "cell_type": "code",
   "execution_count": 22,
   "metadata": {},
   "outputs": [
    {
     "data": {
      "text/html": [
       "<div>\n",
       "<style scoped>\n",
       "    .dataframe tbody tr th:only-of-type {\n",
       "        vertical-align: middle;\n",
       "    }\n",
       "\n",
       "    .dataframe tbody tr th {\n",
       "        vertical-align: top;\n",
       "    }\n",
       "\n",
       "    .dataframe thead th {\n",
       "        text-align: right;\n",
       "    }\n",
       "</style>\n",
       "<table border=\"1\" class=\"dataframe\">\n",
       "  <thead>\n",
       "    <tr style=\"text-align: right;\">\n",
       "      <th></th>\n",
       "      <th>Age</th>\n",
       "      <th>Cabin</th>\n",
       "      <th>Embarked</th>\n",
       "      <th>Fare</th>\n",
       "      <th>Name</th>\n",
       "      <th>Parch</th>\n",
       "      <th>PassengerId</th>\n",
       "      <th>Pclass</th>\n",
       "      <th>Sex</th>\n",
       "      <th>SibSp</th>\n",
       "      <th>Survived</th>\n",
       "      <th>Ticket</th>\n",
       "      <th>Age_NA</th>\n",
       "    </tr>\n",
       "  </thead>\n",
       "  <tbody>\n",
       "    <tr>\n",
       "      <th>1043</th>\n",
       "      <td>60.5</td>\n",
       "      <td>NA</td>\n",
       "      <td>S</td>\n",
       "      <td>NaN</td>\n",
       "      <td>Storey, Mr. Thomas</td>\n",
       "      <td>0</td>\n",
       "      <td>1044</td>\n",
       "      <td>3</td>\n",
       "      <td>male</td>\n",
       "      <td>0</td>\n",
       "      <td>NaN</td>\n",
       "      <td>3701</td>\n",
       "      <td>False</td>\n",
       "    </tr>\n",
       "  </tbody>\n",
       "</table>\n",
       "</div>"
      ],
      "text/plain": [
       "       Age Cabin Embarked  Fare                Name  Parch  PassengerId  \\\n",
       "1043  60.5    NA        S   NaN  Storey, Mr. Thomas      0         1044   \n",
       "\n",
       "      Pclass   Sex  SibSp  Survived Ticket  Age_NA  \n",
       "1043       3  male      0       NaN   3701   False  "
      ]
     },
     "execution_count": 22,
     "metadata": {},
     "output_type": "execute_result"
    }
   ],
   "source": [
    "df.loc[df['Fare'].isnull()]"
   ]
  },
  {
   "cell_type": "markdown",
   "metadata": {},
   "source": [
    "Not sure why his fare is missing. Let's plot the fares:"
   ]
  },
  {
   "cell_type": "code",
   "execution_count": 23,
   "metadata": {
    "_cell_guid": "527dc1b1-ce23-4b7f-8ccf-2cec94dc5798",
    "_uuid": "ccbdc89f8372b3b7e801569e2f7351751c3170ae"
   },
   "outputs": [
    {
     "data": {
      "text/plain": [
       "Text(0.5,1,'Histogram of Passenger Fares')"
      ]
     },
     "execution_count": 23,
     "metadata": {},
     "output_type": "execute_result"
    },
    {
     "data": {
      "image/png": "[encoded data removed]",
      "text/plain": [
       "<matplotlib.figure.Figure at 0x1df14782240>"
      ]
     },
     "metadata": {},
     "output_type": "display_data"
    }
   ],
   "source": [
    "plt.figure(figsize=(12,4), dpi=90)\n",
    "sns.distplot(df.loc[df['Fare'].notnull(), 'Fare'], kde=False)\n",
    "plt.ylabel('Count')\n",
    "plt.title('Histogram of Passenger Fares')"
   ]
  },
  {
   "cell_type": "code",
   "execution_count": 24,
   "metadata": {},
   "outputs": [
    {
     "data": {
      "text/plain": [
       "4.367709134122922"
      ]
     },
     "execution_count": 24,
     "metadata": {},
     "output_type": "execute_result"
    }
   ],
   "source": [
    "df['Fare'].skew()"
   ]
  },
  {
   "cell_type": "markdown",
   "metadata": {},
   "source": [
    "The fares are right-skewed."
   ]
  },
  {
   "cell_type": "markdown",
   "metadata": {
    "_cell_guid": "90626cbc-77af-4836-97fc-1b476e2b260e",
    "_uuid": "f3b9e805fcc0282eeab21783440f4df35e115806"
   },
   "source": [
    "### Name"
   ]
  },
  {
   "cell_type": "code",
   "execution_count": 25,
   "metadata": {
    "_cell_guid": "a7f75ed8-4c51-43f8-8dec-d07c24870c13",
    "_uuid": "736dbfa5f1fd5338e864122131f2f19c5f41c38f"
   },
   "outputs": [
    {
     "data": {
      "text/plain": [
       "1.0"
      ]
     },
     "execution_count": 25,
     "metadata": {},
     "output_type": "execute_result"
    }
   ],
   "source": [
    "df['Name'].notnull().mean()"
   ]
  },
  {
   "cell_type": "code",
   "execution_count": 26,
   "metadata": {
    "_cell_guid": "31159b84-819f-4471-a8c3-13e53481edb3",
    "_uuid": "f76a55b063fc6257429fda90c44ee8901b27571b"
   },
   "outputs": [
    {
     "data": {
      "text/plain": [
       "1002                 Shine, Miss. Ellen Natalia\n",
       "1083          van Billiard, Master. Walter John\n",
       "930                               Hee, Mr. Ling\n",
       "1259    Gibson, Mrs. Leonard (Pauline C Boeson)\n",
       "1067                       Sincock, Miss. Maude\n",
       "Name: Name, dtype: object"
      ]
     },
     "execution_count": 26,
     "metadata": {},
     "output_type": "execute_result"
    }
   ],
   "source": [
    "df['Name'].sample(5)"
   ]
  },
  {
   "cell_type": "markdown",
   "metadata": {
    "_cell_guid": "c22fb2bf-7dbd-4b51-8a29-e4175c948b58",
    "_uuid": "7b9c32bfbf46a8742a8e4ef818e8ff640c03303e"
   },
   "source": [
    "Let's extract everyone's titles."
   ]
  },
  {
   "cell_type": "code",
   "execution_count": 27,
   "metadata": {
    "_cell_guid": "455ec35c-054a-4119-842c-64aed32c402d",
    "_uuid": "1c8ab237976b35bafb1a61ceb1488e3c4fc320ca"
   },
   "outputs": [],
   "source": [
    "df['Title'] = df['Name'].apply(lambda s: s.split(', ')[1].split(' ')[0])"
   ]
  },
  {
   "cell_type": "code",
   "execution_count": 28,
   "metadata": {
    "_cell_guid": "5e4effc8-6680-474b-b87a-8eec472d7c80",
    "_uuid": "3fe5985090680e30cb6031f1f0b71f3694192cf6"
   },
   "outputs": [
    {
     "data": {
      "text/plain": [
       "18"
      ]
     },
     "execution_count": 28,
     "metadata": {},
     "output_type": "execute_result"
    }
   ],
   "source": [
    "df['Title'].nunique()"
   ]
  },
  {
   "cell_type": "markdown",
   "metadata": {
    "_cell_guid": "46429572-770a-4870-af77-f66d5d96d4d4",
    "_uuid": "1e5c5985e825d45f5864d77e0ada1145c6b1f780"
   },
   "source": [
    "Did it work?"
   ]
  },
  {
   "cell_type": "code",
   "execution_count": 29,
   "metadata": {
    "_cell_guid": "f4144167-b1fc-43ee-8f45-9d5837065be3",
    "_uuid": "fa2cd3eb696113290200b96b8d399b10d567f52f"
   },
   "outputs": [
    {
     "data": {
      "text/html": [
       "<div>\n",
       "<style scoped>\n",
       "    .dataframe tbody tr th:only-of-type {\n",
       "        vertical-align: middle;\n",
       "    }\n",
       "\n",
       "    .dataframe tbody tr th {\n",
       "        vertical-align: top;\n",
       "    }\n",
       "\n",
       "    .dataframe thead th {\n",
       "        text-align: right;\n",
       "    }\n",
       "</style>\n",
       "<table border=\"1\" class=\"dataframe\">\n",
       "  <thead>\n",
       "    <tr style=\"text-align: right;\">\n",
       "      <th></th>\n",
       "      <th>Name</th>\n",
       "      <th>Title</th>\n",
       "    </tr>\n",
       "  </thead>\n",
       "  <tbody>\n",
       "    <tr>\n",
       "      <th>1210</th>\n",
       "      <td>Jefferys, Mr. Ernest Wilfred</td>\n",
       "      <td>Mr.</td>\n",
       "    </tr>\n",
       "    <tr>\n",
       "      <th>377</th>\n",
       "      <td>Widener, Mr. Harry Elkins</td>\n",
       "      <td>Mr.</td>\n",
       "    </tr>\n",
       "    <tr>\n",
       "      <th>288</th>\n",
       "      <td>Hosono, Mr. Masabumi</td>\n",
       "      <td>Mr.</td>\n",
       "    </tr>\n",
       "    <tr>\n",
       "      <th>1227</th>\n",
       "      <td>de Brito, Mr. Jose Joaquim</td>\n",
       "      <td>Mr.</td>\n",
       "    </tr>\n",
       "    <tr>\n",
       "      <th>921</th>\n",
       "      <td>Louch, Mr. Charles Alexander</td>\n",
       "      <td>Mr.</td>\n",
       "    </tr>\n",
       "    <tr>\n",
       "      <th>490</th>\n",
       "      <td>Hagland, Mr. Konrad Mathias Reiersen</td>\n",
       "      <td>Mr.</td>\n",
       "    </tr>\n",
       "    <tr>\n",
       "      <th>1209</th>\n",
       "      <td>Jonsson, Mr. Nils Hilding</td>\n",
       "      <td>Mr.</td>\n",
       "    </tr>\n",
       "    <tr>\n",
       "      <th>139</th>\n",
       "      <td>Giglio, Mr. Victor</td>\n",
       "      <td>Mr.</td>\n",
       "    </tr>\n",
       "    <tr>\n",
       "      <th>859</th>\n",
       "      <td>Razi, Mr. Raihed</td>\n",
       "      <td>Mr.</td>\n",
       "    </tr>\n",
       "    <tr>\n",
       "      <th>723</th>\n",
       "      <td>Hodges, Mr. Henry Price</td>\n",
       "      <td>Mr.</td>\n",
       "    </tr>\n",
       "  </tbody>\n",
       "</table>\n",
       "</div>"
      ],
      "text/plain": [
       "                                      Name Title\n",
       "1210          Jefferys, Mr. Ernest Wilfred   Mr.\n",
       "377              Widener, Mr. Harry Elkins   Mr.\n",
       "288                   Hosono, Mr. Masabumi   Mr.\n",
       "1227            de Brito, Mr. Jose Joaquim   Mr.\n",
       "921           Louch, Mr. Charles Alexander   Mr.\n",
       "490   Hagland, Mr. Konrad Mathias Reiersen   Mr.\n",
       "1209             Jonsson, Mr. Nils Hilding   Mr.\n",
       "139                     Giglio, Mr. Victor   Mr.\n",
       "859                       Razi, Mr. Raihed   Mr.\n",
       "723                Hodges, Mr. Henry Price   Mr."
      ]
     },
     "execution_count": 29,
     "metadata": {},
     "output_type": "execute_result"
    }
   ],
   "source": [
    "df[['Name', 'Title']].sample(10)"
   ]
  },
  {
   "cell_type": "markdown",
   "metadata": {
    "_cell_guid": "89683a49-5d01-49d2-8ee5-6ae3f5edf932",
    "_uuid": "b3da83f2cc54037709422c2571d6c383afd4177d"
   },
   "source": [
    "Seems good. Title value counts:"
   ]
  },
  {
   "cell_type": "code",
   "execution_count": 30,
   "metadata": {},
   "outputs": [
    {
     "data": {
      "text/plain": [
       "Mr.          757\n",
       "Miss.        260\n",
       "Mrs.         197\n",
       "Master.       61\n",
       "Rev.           8\n",
       "Dr.            8\n",
       "Col.           4\n",
       "Major.         2\n",
       "Ms.            2\n",
       "Mlle.          2\n",
       "Lady.          1\n",
       "the            1\n",
       "Dona.          1\n",
       "Sir.           1\n",
       "Mme.           1\n",
       "Capt.          1\n",
       "Don.           1\n",
       "Jonkheer.      1\n",
       "Name: Title, dtype: int64"
      ]
     },
     "execution_count": 30,
     "metadata": {},
     "output_type": "execute_result"
    }
   ],
   "source": [
    "df['Title'].value_counts()"
   ]
  },
  {
   "cell_type": "markdown",
   "metadata": {
    "_cell_guid": "dc432258-bd12-4462-b766-1ae892b9526f",
    "_uuid": "a3359b575f1eb9422ffe97fbdcf769d918ee45ed"
   },
   "source": [
    "The only odd-looking value is \"the\". Let's investigate."
   ]
  },
  {
   "cell_type": "code",
   "execution_count": 31,
   "metadata": {
    "_cell_guid": "5e3541e2-fe64-4f64-9f50-cbfb8537c7c2",
    "_uuid": "9014ac33d59502c6d0f56aca411dceb179674ab5"
   },
   "outputs": [
    {
     "data": {
      "text/html": [
       "<div>\n",
       "<style scoped>\n",
       "    .dataframe tbody tr th:only-of-type {\n",
       "        vertical-align: middle;\n",
       "    }\n",
       "\n",
       "    .dataframe tbody tr th {\n",
       "        vertical-align: top;\n",
       "    }\n",
       "\n",
       "    .dataframe thead th {\n",
       "        text-align: right;\n",
       "    }\n",
       "</style>\n",
       "<table border=\"1\" class=\"dataframe\">\n",
       "  <thead>\n",
       "    <tr style=\"text-align: right;\">\n",
       "      <th></th>\n",
       "      <th>Age</th>\n",
       "      <th>Cabin</th>\n",
       "      <th>Embarked</th>\n",
       "      <th>Fare</th>\n",
       "      <th>Name</th>\n",
       "      <th>Parch</th>\n",
       "      <th>PassengerId</th>\n",
       "      <th>Pclass</th>\n",
       "      <th>Sex</th>\n",
       "      <th>SibSp</th>\n",
       "      <th>Survived</th>\n",
       "      <th>Ticket</th>\n",
       "      <th>Age_NA</th>\n",
       "      <th>Title</th>\n",
       "    </tr>\n",
       "  </thead>\n",
       "  <tbody>\n",
       "    <tr>\n",
       "      <th>759</th>\n",
       "      <td>33.0</td>\n",
       "      <td>B</td>\n",
       "      <td>S</td>\n",
       "      <td>86.5</td>\n",
       "      <td>Rothes, the Countess. of (Lucy Noel Martha Dyer-Edwards)</td>\n",
       "      <td>0</td>\n",
       "      <td>760</td>\n",
       "      <td>1</td>\n",
       "      <td>female</td>\n",
       "      <td>0</td>\n",
       "      <td>1.0</td>\n",
       "      <td>110152</td>\n",
       "      <td>False</td>\n",
       "      <td>the</td>\n",
       "    </tr>\n",
       "  </tbody>\n",
       "</table>\n",
       "</div>"
      ],
      "text/plain": [
       "      Age Cabin Embarked  Fare  \\\n",
       "759  33.0     B        S  86.5   \n",
       "\n",
       "                                                         Name  Parch  \\\n",
       "759  Rothes, the Countess. of (Lucy Noel Martha Dyer-Edwards)      0   \n",
       "\n",
       "     PassengerId  Pclass     Sex  SibSp  Survived  Ticket  Age_NA Title  \n",
       "759          760       1  female      0       1.0  110152   False   the  "
      ]
     },
     "execution_count": 31,
     "metadata": {},
     "output_type": "execute_result"
    }
   ],
   "source": [
    "df.loc[df['Title']=='the']"
   ]
  },
  {
   "cell_type": "markdown",
   "metadata": {
    "_cell_guid": "b43f197c-e02c-4cd8-8e7c-449d8d333347",
    "_uuid": "0349f64c2e64078f9ca01cce91089e21663f1f85"
   },
   "source": [
    "Her title is actually \"Countess.\""
   ]
  },
  {
   "cell_type": "markdown",
   "metadata": {},
   "source": [
    "There doesn't seem to be any new information in `Title`. We already know the passenger age, sex, marital status (`SibSp`), and economic class (`Pclass`). Furthermore, many of the titles have too few data points to be useful. So we're going to drop the `Name` and `Title` columns."
   ]
  },
  {
   "cell_type": "code",
   "execution_count": 32,
   "metadata": {
    "_cell_guid": "0439a7ba-caae-4d9b-a6aa-cc811da29ac4",
    "_uuid": "217fc0b3b27cbeeec459220a8018b478553c9f39"
   },
   "outputs": [],
   "source": [
    "df.drop(labels=['Name','Title'], axis=1, inplace=True)"
   ]
  },
  {
   "cell_type": "markdown",
   "metadata": {
    "_cell_guid": "1dd6e81d-1e33-46f5-b17f-ea603d3ff361",
    "_uuid": "9d680ff0c687a4ecfc6e36b812b97ebb2bcbdb35"
   },
   "source": [
    "### Parch"
   ]
  },
  {
   "cell_type": "code",
   "execution_count": 33,
   "metadata": {
    "_cell_guid": "88fa44d2-fdbb-4a32-bc2d-a1d45b28dddf",
    "_uuid": "f712d82526ef7869415b7b003644c6cdc9586f3b"
   },
   "outputs": [
    {
     "data": {
      "text/plain": [
       "1.0"
      ]
     },
     "execution_count": 33,
     "metadata": {},
     "output_type": "execute_result"
    }
   ],
   "source": [
    "df['Parch'].notnull().mean()"
   ]
  },
  {
   "cell_type": "code",
   "execution_count": 34,
   "metadata": {
    "_cell_guid": "c329a9de-4687-4940-8b7e-1571dd17e142",
    "_uuid": "8cd5b962de5d848b5e5171c52c5ee2e08bc2d2f8"
   },
   "outputs": [
    {
     "data": {
      "text/plain": [
       "0    1002\n",
       "1     170\n",
       "2     113\n",
       "3       8\n",
       "5       6\n",
       "4       6\n",
       "9       2\n",
       "6       2\n",
       "Name: Parch, dtype: int64"
      ]
     },
     "execution_count": 34,
     "metadata": {},
     "output_type": "execute_result"
    }
   ],
   "source": [
    "df['Parch'].value_counts()"
   ]
  },
  {
   "cell_type": "code",
   "execution_count": 35,
   "metadata": {
    "_cell_guid": "47300d9d-3914-454b-b04b-12b21d701ce1",
    "_uuid": "0f3d62ceefc2e5db1de466cbefaa127146b146b7"
   },
   "outputs": [
    {
     "data": {
      "text/plain": [
       "Text(0.5,1,'Number of Parents/Children')"
      ]
     },
     "execution_count": 35,
     "metadata": {},
     "output_type": "execute_result"
    },
    {
     "data": {
      "image/png": "[encoded data removed]",
      "text/plain": [
       "<matplotlib.figure.Figure at 0x1df14afa9b0>"
      ]
     },
     "metadata": {},
     "output_type": "display_data"
    }
   ],
   "source": [
    "plt.figure(dpi=80)\n",
    "sns.countplot(x='Parch', data=df)\n",
    "plt.title('Number of Parents/Children')"
   ]
  },
  {
   "cell_type": "markdown",
   "metadata": {
    "_cell_guid": "188f7903-7bd9-4649-87c2-da9da4a402ce",
    "_uuid": "46616c0bead2f168033219dd195e7ed9028298e1"
   },
   "source": [
    "### PassengerId"
   ]
  },
  {
   "cell_type": "code",
   "execution_count": 36,
   "metadata": {},
   "outputs": [
    {
     "data": {
      "text/plain": [
       "1309"
      ]
     },
     "execution_count": 36,
     "metadata": {},
     "output_type": "execute_result"
    }
   ],
   "source": [
    "df.shape[0]"
   ]
  },
  {
   "cell_type": "code",
   "execution_count": 37,
   "metadata": {},
   "outputs": [
    {
     "data": {
      "text/plain": [
       "1309"
      ]
     },
     "execution_count": 37,
     "metadata": {},
     "output_type": "execute_result"
    }
   ],
   "source": [
    "df['PassengerId'].nunique()"
   ]
  },
  {
   "cell_type": "markdown",
   "metadata": {
    "_cell_guid": "1f6b401d-300c-43fb-b809-1ceeb9258c42",
    "_uuid": "683879abe6127babafe36fd800862ebbf8ec18db"
   },
   "source": [
    "All passenger IDs are unique. The IDs will (probably) be removed in automatic variable selection."
   ]
  },
  {
   "cell_type": "markdown",
   "metadata": {
    "_cell_guid": "302b2845-bb3e-49d8-969d-18f5628a668b",
    "_uuid": "fa336232d0ac2f784fddf0f128007693fc77def6"
   },
   "source": [
    "### Pclass"
   ]
  },
  {
   "cell_type": "code",
   "execution_count": 38,
   "metadata": {
    "_cell_guid": "f19fb071-c415-4f84-a971-309a286ffbcc",
    "_uuid": "e5a63e6d67f0719d77f1324bcd8b93a21b24b69e"
   },
   "outputs": [
    {
     "data": {
      "text/plain": [
       "1.0"
      ]
     },
     "execution_count": 38,
     "metadata": {},
     "output_type": "execute_result"
    }
   ],
   "source": [
    "df['Pclass'].notnull().mean()"
   ]
  },
  {
   "cell_type": "code",
   "execution_count": 39,
   "metadata": {
    "_cell_guid": "7a0422c3-0dd9-40cc-a328-a887056bf6f1",
    "_uuid": "2acde18cea3ab3d4f22a5e112436b6764bb30bbb"
   },
   "outputs": [
    {
     "data": {
      "text/plain": [
       "3    709\n",
       "1    323\n",
       "2    277\n",
       "Name: Pclass, dtype: int64"
      ]
     },
     "execution_count": 39,
     "metadata": {},
     "output_type": "execute_result"
    }
   ],
   "source": [
    "df['Pclass'].value_counts()"
   ]
  },
  {
   "cell_type": "markdown",
   "metadata": {
    "_cell_guid": "2539c2e5-a7ab-47eb-a0c0-45086e9732de",
    "_uuid": "4438a75d251e871eec96ccd8c665e505c671194f"
   },
   "source": [
    "A majority of the passengers are Lower Class."
   ]
  },
  {
   "cell_type": "code",
   "execution_count": 40,
   "metadata": {
    "_cell_guid": "043a8ee1-136c-4217-b4e0-74662fc9b499",
    "_uuid": "71a68671e84509617af199778ab3c71897489a68"
   },
   "outputs": [
    {
     "data": {
      "text/plain": [
       "Text(0.5,1,'Passenger Ticket Class')"
      ]
     },
     "execution_count": 40,
     "metadata": {},
     "output_type": "execute_result"
    },
    {
     "data": {
      "image/png": "[encoded data removed]",
      "text/plain": [
       "<matplotlib.figure.Figure at 0x1df14af2860>"
      ]
     },
     "metadata": {},
     "output_type": "display_data"
    }
   ],
   "source": [
    "plt.figure(figsize=(4,4), dpi=90)\n",
    "sns.countplot(x='Pclass', data=df)\n",
    "plt.title('Passenger Ticket Class')"
   ]
  },
  {
   "cell_type": "markdown",
   "metadata": {
    "_cell_guid": "df301dfc-0e82-436d-8e7b-90518b5c3827",
    "_uuid": "ee4124fdb82b539cb913da4406d9845a3795473c"
   },
   "source": [
    "### Sex"
   ]
  },
  {
   "cell_type": "code",
   "execution_count": 41,
   "metadata": {},
   "outputs": [
    {
     "data": {
      "text/plain": [
       "1.0"
      ]
     },
     "execution_count": 41,
     "metadata": {},
     "output_type": "execute_result"
    }
   ],
   "source": [
    "df['Sex'].notnull().mean()"
   ]
  },
  {
   "cell_type": "code",
   "execution_count": 42,
   "metadata": {},
   "outputs": [
    {
     "data": {
      "text/plain": [
       "male      0.644003\n",
       "female    0.355997\n",
       "Name: Sex, dtype: float64"
      ]
     },
     "execution_count": 42,
     "metadata": {},
     "output_type": "execute_result"
    }
   ],
   "source": [
    "df['Sex'].value_counts(normalize=True)"
   ]
  },
  {
   "cell_type": "markdown",
   "metadata": {},
   "source": [
    "The passengers are 64.4% male."
   ]
  },
  {
   "cell_type": "markdown",
   "metadata": {
    "_cell_guid": "796daaab-780a-4bbb-9315-e527d6f9a302",
    "_uuid": "3d8aa7ef91ef5adebd69e7a0bba971127ea36a14"
   },
   "source": [
    "### SibSp"
   ]
  },
  {
   "cell_type": "code",
   "execution_count": 43,
   "metadata": {
    "_cell_guid": "c116eb26-2672-46a4-92c9-edd86ca7b3a8",
    "_uuid": "d688e889914b1ca5bff03bd88406589b288c6c93"
   },
   "outputs": [
    {
     "data": {
      "text/plain": [
       "1.0"
      ]
     },
     "execution_count": 43,
     "metadata": {},
     "output_type": "execute_result"
    }
   ],
   "source": [
    "df['SibSp'].notnull().mean()"
   ]
  },
  {
   "cell_type": "code",
   "execution_count": 44,
   "metadata": {
    "_cell_guid": "ccea83a5-7186-499a-9df4-27208bbb9efd",
    "_uuid": "da6c4b99a95313303f66b7bde710ef38a5a3e938"
   },
   "outputs": [
    {
     "data": {
      "text/plain": [
       "0    891\n",
       "1    319\n",
       "2     42\n",
       "4     22\n",
       "3     20\n",
       "8      9\n",
       "5      6\n",
       "Name: SibSp, dtype: int64"
      ]
     },
     "execution_count": 44,
     "metadata": {},
     "output_type": "execute_result"
    }
   ],
   "source": [
    "df['SibSp'].value_counts()"
   ]
  },
  {
   "cell_type": "code",
   "execution_count": 45,
   "metadata": {
    "_cell_guid": "b96506aa-d516-429a-846f-70dd60bb4cf7",
    "_uuid": "acc446036daee67234c2f64ed551a7c00b3eb929"
   },
   "outputs": [
    {
     "data": {
      "text/plain": [
       "Text(0.5,1,'Number of Siblings/Spouses')"
      ]
     },
     "execution_count": 45,
     "metadata": {},
     "output_type": "execute_result"
    },
    {
     "data": {
      "image/png": "[encoded data removed]",
      "text/plain": [
       "<matplotlib.figure.Figure at 0x1df14d576d8>"
      ]
     },
     "metadata": {},
     "output_type": "display_data"
    }
   ],
   "source": [
    "plt.figure(dpi=90)\n",
    "sns.countplot(x='SibSp', data=df)\n",
    "plt.title('Number of Siblings/Spouses')"
   ]
  },
  {
   "cell_type": "markdown",
   "metadata": {
    "_cell_guid": "9245c8b6-25f3-4612-a3a2-1ea05bbd29d5",
    "_uuid": "23386a78707653d63f6257942e6442eac642c0c6"
   },
   "source": [
    "### Survived"
   ]
  },
  {
   "cell_type": "markdown",
   "metadata": {
    "_cell_guid": "c7c14b92-7c42-4945-bc03-afa656d4aeeb",
    "_uuid": "203409f74da58477f510b2227d7e8beff9432d34"
   },
   "source": [
    "This is the target variable."
   ]
  },
  {
   "cell_type": "code",
   "execution_count": 46,
   "metadata": {
    "_cell_guid": "58b7fe62-69bc-4722-98ae-f33b9af90402",
    "_uuid": "eea2a7033eb3058c35d2508bb9350946f7b5ec8e"
   },
   "outputs": [
    {
     "data": {
      "text/plain": [
       "0.0    0.616162\n",
       "1.0    0.383838\n",
       "Name: Survived, dtype: float64"
      ]
     },
     "execution_count": 46,
     "metadata": {},
     "output_type": "execute_result"
    }
   ],
   "source": [
    "df.loc[df['Survived'].notnull(), 'Survived'].value_counts(normalize=True)"
   ]
  },
  {
   "cell_type": "markdown",
   "metadata": {
    "_cell_guid": "2a7d4d53-d2be-4520-b126-d68143380362",
    "_uuid": "1836750cbfc317d17fbe8020cf8ddee2c5111530"
   },
   "source": [
    "So there's a 38.4% survival rate in the training set."
   ]
  },
  {
   "cell_type": "markdown",
   "metadata": {
    "_cell_guid": "1bac0b33-a5d8-4e40-9de2-dcc0be955ff9",
    "_uuid": "b7fb4b0d13ef8d3247f660599255156a8a8d3c50"
   },
   "source": [
    "### Ticket"
   ]
  },
  {
   "cell_type": "code",
   "execution_count": 47,
   "metadata": {
    "_cell_guid": "fd354bf4-ba65-4797-a312-c43bb222c3d8",
    "_uuid": "6b2c19282a755630e4c22b90b7e8764c719e47a8"
   },
   "outputs": [
    {
     "data": {
      "text/plain": [
       "1.0"
      ]
     },
     "execution_count": 47,
     "metadata": {},
     "output_type": "execute_result"
    }
   ],
   "source": [
    "df['Ticket'].notnull().mean()"
   ]
  },
  {
   "cell_type": "code",
   "execution_count": 48,
   "metadata": {},
   "outputs": [
    {
     "data": {
      "text/plain": [
       "(929, 1309)"
      ]
     },
     "execution_count": 48,
     "metadata": {},
     "output_type": "execute_result"
    }
   ],
   "source": [
    "(df['Ticket'].nunique(), df.shape[0])"
   ]
  },
  {
   "cell_type": "markdown",
   "metadata": {
    "_cell_guid": "8d0204df-7fd5-42d0-8a46-492157343935",
    "_uuid": "a9c0248813bad9874f740006c0a772acaf6378cf"
   },
   "source": [
    "Apparently there are duplicate tickets...? That's weird."
   ]
  },
  {
   "cell_type": "code",
   "execution_count": 49,
   "metadata": {
    "_cell_guid": "7d5d7f95-c4eb-4373-97e1-ab3e8c087490",
    "_uuid": "2944fcf09f9c7dec8d7b638689ff43cc98d7c64b"
   },
   "outputs": [
    {
     "data": {
      "text/plain": [
       "730           24160\n",
       "793        PC 17600\n",
       "454        A/5 2817\n",
       "335          349225\n",
       "510          382651\n",
       "150     S.O.P. 1166\n",
       "823          392096\n",
       "1010    SC/AH 29037\n",
       "444           65306\n",
       "957          330963\n",
       "Name: Ticket, dtype: object"
      ]
     },
     "execution_count": 49,
     "metadata": {},
     "output_type": "execute_result"
    }
   ],
   "source": [
    "df['Ticket'].sample(10)"
   ]
  },
  {
   "cell_type": "markdown",
   "metadata": {
    "_cell_guid": "7e46cac0-63c0-4860-826b-1ceca8bced14",
    "_uuid": "4b78129f816ebc8d3b72114bd3d90e21a077959b"
   },
   "source": [
    "Maybe the prefix on some of the tickets is important? Let's grab it."
   ]
  },
  {
   "cell_type": "code",
   "execution_count": 50,
   "metadata": {
    "_cell_guid": "e1fd4540-bd71-461a-8fc2-8e4a3a9933ef",
    "_uuid": "2afb4f12537db853fea4ea3cc6c5743ed7529ea3"
   },
   "outputs": [],
   "source": [
    "def ticket_prefix(s):\n",
    "    'Find the content of the ticket before the ticket number'\n",
    "    temp = s.split(' ')\n",
    "    if len(temp) > 1:\n",
    "        return ' '.join(temp[:-1])\n",
    "    else:\n",
    "        return 'NONE'"
   ]
  },
  {
   "cell_type": "code",
   "execution_count": 51,
   "metadata": {
    "_cell_guid": "39b6358e-02f4-49b7-b059-ea815ed18511",
    "_uuid": "ce2c9ad8596cd6c113d9ddb56febc2a8cbce3532"
   },
   "outputs": [],
   "source": [
    "df.loc[:,'Ticket Prefix'] = df['Ticket'].apply(ticket_prefix)"
   ]
  },
  {
   "cell_type": "code",
   "execution_count": 52,
   "metadata": {
    "_cell_guid": "41fb25fe-d40a-4583-8900-08e9c36c6b76",
    "_uuid": "1d94bd26180680d130a307b816c994c66e537e14"
   },
   "outputs": [
    {
     "data": {
      "text/plain": [
       "51"
      ]
     },
     "execution_count": 52,
     "metadata": {},
     "output_type": "execute_result"
    }
   ],
   "source": [
    "df['Ticket Prefix'].nunique()"
   ]
  },
  {
   "cell_type": "code",
   "execution_count": 53,
   "metadata": {
    "_cell_guid": "7677b83c-795d-437c-a939-8908b9044fe4",
    "_uuid": "1dc0d42227134cfe3248cf3e41a353ddc9cfc939",
    "scrolled": true
   },
   "outputs": [
    {
     "data": {
      "text/plain": [
       "NONE           961\n",
       "PC              92\n",
       "C.A.            46\n",
       "SOTON/O.Q.      16\n",
       "W./C.           14\n",
       "STON/O 2.       14\n",
       "A/5             12\n",
       "CA.             12\n",
       "SC/PARIS        11\n",
       "CA              10\n",
       "A/5.            10\n",
       "F.C.C.           9\n",
       "C                8\n",
       "SOTON/OQ         8\n",
       "S.O.C.           7\n",
       "S.O./P.P.        7\n",
       "STON/O2.         7\n",
       "A/4              6\n",
       "SC/Paris         5\n",
       "SC/AH            4\n",
       "PP               4\n",
       "A/4.             3\n",
       "A.5.             3\n",
       "A./5.            3\n",
       "SOTON/O2         3\n",
       "S.C./PARIS       3\n",
       "F.C.             3\n",
       "P/PP             2\n",
       "W.E.P.           2\n",
       "WE/P             2\n",
       "SC               2\n",
       "STON/OQ.         1\n",
       "A/S              1\n",
       "A4.              1\n",
       "SCO/W            1\n",
       "LP               1\n",
       "SW/PP            1\n",
       "Fa               1\n",
       "SO/C             1\n",
       "S.P.             1\n",
       "SC/AH Basle      1\n",
       "C.A./SOTON       1\n",
       "S.O.P.           1\n",
       "SC/A.3           1\n",
       "S.C./A.4.        1\n",
       "AQ/3.            1\n",
       "A. 2.            1\n",
       "W/C              1\n",
       "SC/A4            1\n",
       "S.W./PP          1\n",
       "AQ/4             1\n",
       "Name: Ticket Prefix, dtype: int64"
      ]
     },
     "execution_count": 53,
     "metadata": {},
     "output_type": "execute_result"
    }
   ],
   "source": [
    "df['Ticket Prefix'].value_counts()"
   ]
  },
  {
   "cell_type": "markdown",
   "metadata": {
    "_cell_guid": "fcf109b0-7078-4024-90b9-285c9fbc6d19",
    "_uuid": "950de308f2150a4aeaab0baeffa2101fdad1c333"
   },
   "source": [
    "Some of the prefixes are very similar. Let's assume that the characters `.`, `/`, and whitespace and not significant, and that `SC/PARIS` is the same as `SC/Paris`."
   ]
  },
  {
   "cell_type": "code",
   "execution_count": 54,
   "metadata": {
    "_cell_guid": "1c7783df-7dd0-43c7-aecc-2a7a5827e9ba",
    "_uuid": "6a9dd140ec438cd3453af93a3f77d23c298d63d6"
   },
   "outputs": [],
   "source": [
    "df.loc[:,'Ticket Prefix'] = df['Ticket Prefix'].apply(lambda s: s.replace('.','').replace('/','').replace(' ','').upper())"
   ]
  },
  {
   "cell_type": "code",
   "execution_count": 55,
   "metadata": {
    "_cell_guid": "31fbdcc5-38f3-49bb-908b-924fb93c4708",
    "_uuid": "077353cab5f6a90ce5000d2bdc1bd8b6b67370cd"
   },
   "outputs": [
    {
     "data": {
      "text/plain": [
       "35"
      ]
     },
     "execution_count": 55,
     "metadata": {},
     "output_type": "execute_result"
    }
   ],
   "source": [
    "df['Ticket Prefix'].nunique()"
   ]
  },
  {
   "cell_type": "code",
   "execution_count": 56,
   "metadata": {
    "_cell_guid": "1a245941-aaa1-43bd-939f-ef43252ca6c6",
    "_uuid": "cc7a3ff6dec657071c36739979ae774dc106fcf5",
    "scrolled": true
   },
   "outputs": [
    {
     "data": {
      "text/plain": [
       "NONE         961\n",
       "PC            92\n",
       "CA            68\n",
       "A5            28\n",
       "SOTONOQ       24\n",
       "STONO2        21\n",
       "SCPARIS       19\n",
       "WC            15\n",
       "A4            10\n",
       "FCC            9\n",
       "C              8\n",
       "SOC            8\n",
       "SOPP           7\n",
       "PP             4\n",
       "SCAH           4\n",
       "WEP            4\n",
       "FC             3\n",
       "SOTONO2        3\n",
       "SWPP           2\n",
       "PPP            2\n",
       "SCA4           2\n",
       "SC             2\n",
       "FA             1\n",
       "AQ4            1\n",
       "SCOW           1\n",
       "SP             1\n",
       "CASOTON        1\n",
       "AS             1\n",
       "STONOQ         1\n",
       "LP             1\n",
       "SCA3           1\n",
       "A2             1\n",
       "SOP            1\n",
       "AQ3            1\n",
       "SCAHBASLE      1\n",
       "Name: Ticket Prefix, dtype: int64"
      ]
     },
     "execution_count": 56,
     "metadata": {},
     "output_type": "execute_result"
    }
   ],
   "source": [
    "df['Ticket Prefix'].value_counts()"
   ]
  },
  {
   "cell_type": "markdown",
   "metadata": {},
   "source": [
    "If there are fewer than 10 occurences of a particular prefix, we'll reclassify it as \"other.\""
   ]
  },
  {
   "cell_type": "code",
   "execution_count": 57,
   "metadata": {},
   "outputs": [],
   "source": [
    "vals = df['Ticket Prefix'].value_counts()\n",
    "\n",
    "def other_prefix(prefix):\n",
    "    if vals[prefix] < 10:\n",
    "        return \"OTHER\"\n",
    "    else:\n",
    "        return prefix"
   ]
  },
  {
   "cell_type": "code",
   "execution_count": 58,
   "metadata": {},
   "outputs": [],
   "source": [
    "df.loc[:,'Ticket Prefix'] = df['Ticket Prefix'].apply(other_prefix)"
   ]
  },
  {
   "cell_type": "code",
   "execution_count": 59,
   "metadata": {},
   "outputs": [
    {
     "data": {
      "text/plain": [
       "NONE       961\n",
       "PC          92\n",
       "OTHER       71\n",
       "CA          68\n",
       "A5          28\n",
       "SOTONOQ     24\n",
       "STONO2      21\n",
       "SCPARIS     19\n",
       "WC          15\n",
       "A4          10\n",
       "Name: Ticket Prefix, dtype: int64"
      ]
     },
     "execution_count": 59,
     "metadata": {},
     "output_type": "execute_result"
    }
   ],
   "source": [
    "df['Ticket Prefix'].value_counts()"
   ]
  },
  {
   "cell_type": "markdown",
   "metadata": {
    "_cell_guid": "f270c4fa-ec2f-4c94-b21e-d8e9ca067564",
    "_uuid": "5cf6dc7724e19d85a0919e64f7b0009062f3c7c2"
   },
   "source": [
    "Now let's extract the ticket number. As it turns out, a very small number of tickets have no ticket number, so we'll assign NaN for those tickets."
   ]
  },
  {
   "cell_type": "code",
   "execution_count": 60,
   "metadata": {
    "_cell_guid": "9524e3e3-85cd-4d53-9ac5-e0b4e58e95a6",
    "_uuid": "d4aec663fcec3fcaa9a690bd31db1484ab0d5f68"
   },
   "outputs": [],
   "source": [
    "def ticket_number(s):\n",
    "    'Find the ticket number on a ticket'\n",
    "    try:\n",
    "        return np.int64(s.split(' ')[-1])\n",
    "    except:\n",
    "        return np.nan"
   ]
  },
  {
   "cell_type": "code",
   "execution_count": 61,
   "metadata": {
    "_cell_guid": "37775ec0-55d3-4803-970d-7f35c5f6e796",
    "_uuid": "f7b79a8a1c1f7deef946ccda9f52710df22020f4"
   },
   "outputs": [],
   "source": [
    "df['Ticket Number'] = df['Ticket'].apply(ticket_number)"
   ]
  },
  {
   "cell_type": "code",
   "execution_count": 62,
   "metadata": {
    "_cell_guid": "a9c92891-798c-474f-97d9-b8e8c0884b30",
    "_uuid": "abe42ff17b85776f0bfcf6c8d6ba1a275a90de7a"
   },
   "outputs": [
    {
     "data": {
      "text/plain": [
       "4"
      ]
     },
     "execution_count": 62,
     "metadata": {},
     "output_type": "execute_result"
    }
   ],
   "source": [
    "df['Ticket Number'].isnull().sum()"
   ]
  },
  {
   "cell_type": "markdown",
   "metadata": {},
   "source": [
    "There are 4 tickets with no ticket number. Let's look at those:"
   ]
  },
  {
   "cell_type": "code",
   "execution_count": 63,
   "metadata": {},
   "outputs": [
    {
     "data": {
      "text/html": [
       "<div>\n",
       "<style scoped>\n",
       "    .dataframe tbody tr th:only-of-type {\n",
       "        vertical-align: middle;\n",
       "    }\n",
       "\n",
       "    .dataframe tbody tr th {\n",
       "        vertical-align: top;\n",
       "    }\n",
       "\n",
       "    .dataframe thead th {\n",
       "        text-align: right;\n",
       "    }\n",
       "</style>\n",
       "<table border=\"1\" class=\"dataframe\">\n",
       "  <thead>\n",
       "    <tr style=\"text-align: right;\">\n",
       "      <th></th>\n",
       "      <th>Age</th>\n",
       "      <th>Cabin</th>\n",
       "      <th>Embarked</th>\n",
       "      <th>Fare</th>\n",
       "      <th>Parch</th>\n",
       "      <th>PassengerId</th>\n",
       "      <th>Pclass</th>\n",
       "      <th>Sex</th>\n",
       "      <th>SibSp</th>\n",
       "      <th>Survived</th>\n",
       "      <th>Ticket</th>\n",
       "      <th>Age_NA</th>\n",
       "      <th>Ticket Prefix</th>\n",
       "      <th>Ticket Number</th>\n",
       "    </tr>\n",
       "  </thead>\n",
       "  <tbody>\n",
       "    <tr>\n",
       "      <th>179</th>\n",
       "      <td>36.0</td>\n",
       "      <td>NA</td>\n",
       "      <td>S</td>\n",
       "      <td>0.0</td>\n",
       "      <td>0</td>\n",
       "      <td>180</td>\n",
       "      <td>3</td>\n",
       "      <td>male</td>\n",
       "      <td>0</td>\n",
       "      <td>0.0</td>\n",
       "      <td>LINE</td>\n",
       "      <td>False</td>\n",
       "      <td>NONE</td>\n",
       "      <td>NaN</td>\n",
       "    </tr>\n",
       "    <tr>\n",
       "      <th>271</th>\n",
       "      <td>25.0</td>\n",
       "      <td>NA</td>\n",
       "      <td>S</td>\n",
       "      <td>0.0</td>\n",
       "      <td>0</td>\n",
       "      <td>272</td>\n",
       "      <td>3</td>\n",
       "      <td>male</td>\n",
       "      <td>0</td>\n",
       "      <td>1.0</td>\n",
       "      <td>LINE</td>\n",
       "      <td>False</td>\n",
       "      <td>NONE</td>\n",
       "      <td>NaN</td>\n",
       "    </tr>\n",
       "    <tr>\n",
       "      <th>302</th>\n",
       "      <td>19.0</td>\n",
       "      <td>NA</td>\n",
       "      <td>S</td>\n",
       "      <td>0.0</td>\n",
       "      <td>0</td>\n",
       "      <td>303</td>\n",
       "      <td>3</td>\n",
       "      <td>male</td>\n",
       "      <td>0</td>\n",
       "      <td>0.0</td>\n",
       "      <td>LINE</td>\n",
       "      <td>False</td>\n",
       "      <td>NONE</td>\n",
       "      <td>NaN</td>\n",
       "    </tr>\n",
       "    <tr>\n",
       "      <th>597</th>\n",
       "      <td>49.0</td>\n",
       "      <td>NA</td>\n",
       "      <td>S</td>\n",
       "      <td>0.0</td>\n",
       "      <td>0</td>\n",
       "      <td>598</td>\n",
       "      <td>3</td>\n",
       "      <td>male</td>\n",
       "      <td>0</td>\n",
       "      <td>0.0</td>\n",
       "      <td>LINE</td>\n",
       "      <td>False</td>\n",
       "      <td>NONE</td>\n",
       "      <td>NaN</td>\n",
       "    </tr>\n",
       "  </tbody>\n",
       "</table>\n",
       "</div>"
      ],
      "text/plain": [
       "      Age Cabin Embarked  Fare  Parch  PassengerId  Pclass   Sex  SibSp  \\\n",
       "179  36.0    NA        S   0.0      0          180       3  male      0   \n",
       "271  25.0    NA        S   0.0      0          272       3  male      0   \n",
       "302  19.0    NA        S   0.0      0          303       3  male      0   \n",
       "597  49.0    NA        S   0.0      0          598       3  male      0   \n",
       "\n",
       "     Survived Ticket  Age_NA Ticket Prefix  Ticket Number  \n",
       "179       0.0   LINE   False          NONE            NaN  \n",
       "271       1.0   LINE   False          NONE            NaN  \n",
       "302       0.0   LINE   False          NONE            NaN  \n",
       "597       0.0   LINE   False          NONE            NaN  "
      ]
     },
     "execution_count": 63,
     "metadata": {},
     "output_type": "execute_result"
    }
   ],
   "source": [
    "df.loc[df['Ticket Number'].isnull()]"
   ]
  },
  {
   "cell_type": "markdown",
   "metadata": {},
   "source": [
    "Their ticket just says \"LINE.\" What does that mean?"
   ]
  },
  {
   "cell_type": "markdown",
   "metadata": {},
   "source": [
    "Let's plot the ticket numbers."
   ]
  },
  {
   "cell_type": "code",
   "execution_count": 64,
   "metadata": {
    "_cell_guid": "2e548fea-98fd-46e8-96d1-dbdda2c2582c",
    "_uuid": "b8ab1de1317b4c18341105f4393a3315100d5784"
   },
   "outputs": [
    {
     "data": {
      "text/plain": [
       "Text(0.5,1,'Histogram of Ticket Number')"
      ]
     },
     "execution_count": 64,
     "metadata": {},
     "output_type": "execute_result"
    },
    {
     "data": {
      "image/png": "[encoded data removed]",
      "text/plain": [
       "<matplotlib.figure.Figure at 0x1df14df27b8>"
      ]
     },
     "metadata": {},
     "output_type": "display_data"
    }
   ],
   "source": [
    "plt.figure(figsize=(12,4), dpi=90)\n",
    "sns.distplot(df.loc[df['Ticket Number'].notnull(), 'Ticket Number'], bins=400, kde=False)\n",
    "plt.ylabel('Count')\n",
    "plt.title('Histogram of Ticket Number')"
   ]
  },
  {
   "cell_type": "code",
   "execution_count": 65,
   "metadata": {
    "_cell_guid": "2e548fea-98fd-46e8-96d1-dbdda2c2582c",
    "_uuid": "b8ab1de1317b4c18341105f4393a3315100d5784"
   },
   "outputs": [
    {
     "data": {
      "text/plain": [
       "Text(0.5,1,'Histogram of Ticket Number')"
      ]
     },
     "execution_count": 65,
     "metadata": {},
     "output_type": "execute_result"
    },
    {
     "data": {
      "image/png": "[encoded data removed]",
      "text/plain": [
       "<matplotlib.figure.Figure at 0x1df14fdd400>"
      ]
     },
     "metadata": {},
     "output_type": "display_data"
    }
   ],
   "source": [
    "plt.figure(figsize=(12,4), dpi=90)\n",
    "sns.distplot(df.loc[df['Ticket Number'].notnull(), 'Ticket Number'], bins=500, kde=False)\n",
    "plt.xlim([0, 500000])\n",
    "plt.ylabel('Count')\n",
    "plt.title('Histogram of Ticket Number')"
   ]
  },
  {
   "cell_type": "markdown",
   "metadata": {},
   "source": [
    "There are 5 \"classes\" of ticket numbers. Let's convert the ticket numbers into these categorical classes."
   ]
  },
  {
   "cell_type": "code",
   "execution_count": 66,
   "metadata": {},
   "outputs": [],
   "source": [
    "def tick_num_class(tick_num):\n",
    "    if tick_num < 100000:\n",
    "        return 'A'\n",
    "    elif tick_num < 200000:\n",
    "        return 'B'\n",
    "    elif tick_num < 300000:\n",
    "        return 'C'\n",
    "    elif tick_num < 400000:\n",
    "        return 'D'\n",
    "    elif tick_num >= 400000:\n",
    "        return 'E'\n",
    "    else:\n",
    "        return 'NA'"
   ]
  },
  {
   "cell_type": "code",
   "execution_count": 67,
   "metadata": {},
   "outputs": [],
   "source": [
    "df.loc[:,'Ticket Number'] = df['Ticket Number'].apply(tick_num_class)"
   ]
  },
  {
   "cell_type": "code",
   "execution_count": 68,
   "metadata": {},
   "outputs": [
    {
     "data": {
      "text/plain": [
       "A     639\n",
       "D     380\n",
       "C     125\n",
       "B     101\n",
       "E      60\n",
       "NA      4\n",
       "Name: Ticket Number, dtype: int64"
      ]
     },
     "execution_count": 68,
     "metadata": {},
     "output_type": "execute_result"
    }
   ],
   "source": [
    "df['Ticket Number'].value_counts()"
   ]
  },
  {
   "cell_type": "code",
   "execution_count": 69,
   "metadata": {
    "_cell_guid": "62e3582f-4feb-4602-a8a6-a9892037669c",
    "_uuid": "b58fb7a5d07e46bb2f2ca3cc229d66ebc378bf3d"
   },
   "outputs": [],
   "source": [
    "df.drop(labels='Ticket', axis=1, inplace=True)"
   ]
  },
  {
   "cell_type": "markdown",
   "metadata": {
    "_cell_guid": "27db2ffd-5a2b-4cac-83d7-9b7b29688eb1",
    "_uuid": "adadf704ee1a1e511bedeb65a57b666ab7718018"
   },
   "source": [
    "## 3.2 One-Hot Encoding\n",
    "<a id='3.2'></a>"
   ]
  },
  {
   "cell_type": "markdown",
   "metadata": {
    "_cell_guid": "e1987db1-f4dd-41b0-a008-13c9edfc2e31",
    "_uuid": "6662cb60eb7b5980342dc4516b2732402b6ae755"
   },
   "source": [
    "Convert categorical features to binary features via one-hot encoding."
   ]
  },
  {
   "cell_type": "code",
   "execution_count": 70,
   "metadata": {
    "_cell_guid": "f33798e9-2dcb-40da-8c93-678c761cfe66",
    "_uuid": "3574f532b5eec8c77ff13546a8730b9b9bd30d60"
   },
   "outputs": [
    {
     "data": {
      "text/html": [
       "<div>\n",
       "<style scoped>\n",
       "    .dataframe tbody tr th:only-of-type {\n",
       "        vertical-align: middle;\n",
       "    }\n",
       "\n",
       "    .dataframe tbody tr th {\n",
       "        vertical-align: top;\n",
       "    }\n",
       "\n",
       "    .dataframe thead th {\n",
       "        text-align: right;\n",
       "    }\n",
       "</style>\n",
       "<table border=\"1\" class=\"dataframe\">\n",
       "  <thead>\n",
       "    <tr style=\"text-align: right;\">\n",
       "      <th></th>\n",
       "      <th>Age</th>\n",
       "      <th>Cabin</th>\n",
       "      <th>Embarked</th>\n",
       "      <th>Fare</th>\n",
       "      <th>Parch</th>\n",
       "      <th>PassengerId</th>\n",
       "      <th>Pclass</th>\n",
       "      <th>Sex</th>\n",
       "      <th>SibSp</th>\n",
       "      <th>Survived</th>\n",
       "      <th>Age_NA</th>\n",
       "      <th>Ticket Prefix</th>\n",
       "      <th>Ticket Number</th>\n",
       "    </tr>\n",
       "  </thead>\n",
       "  <tbody>\n",
       "    <tr>\n",
       "      <th>658</th>\n",
       "      <td>23.0</td>\n",
       "      <td>NA</td>\n",
       "      <td>S</td>\n",
       "      <td>13.0000</td>\n",
       "      <td>0</td>\n",
       "      <td>659</td>\n",
       "      <td>2</td>\n",
       "      <td>male</td>\n",
       "      <td>0</td>\n",
       "      <td>0.0</td>\n",
       "      <td>False</td>\n",
       "      <td>NONE</td>\n",
       "      <td>A</td>\n",
       "    </tr>\n",
       "    <tr>\n",
       "      <th>691</th>\n",
       "      <td>4.0</td>\n",
       "      <td>NA</td>\n",
       "      <td>C</td>\n",
       "      <td>13.4167</td>\n",
       "      <td>1</td>\n",
       "      <td>692</td>\n",
       "      <td>3</td>\n",
       "      <td>female</td>\n",
       "      <td>0</td>\n",
       "      <td>1.0</td>\n",
       "      <td>False</td>\n",
       "      <td>NONE</td>\n",
       "      <td>D</td>\n",
       "    </tr>\n",
       "    <tr>\n",
       "      <th>1130</th>\n",
       "      <td>48.0</td>\n",
       "      <td>C</td>\n",
       "      <td>C</td>\n",
       "      <td>106.4250</td>\n",
       "      <td>0</td>\n",
       "      <td>1131</td>\n",
       "      <td>1</td>\n",
       "      <td>female</td>\n",
       "      <td>1</td>\n",
       "      <td>NaN</td>\n",
       "      <td>False</td>\n",
       "      <td>PC</td>\n",
       "      <td>A</td>\n",
       "    </tr>\n",
       "    <tr>\n",
       "      <th>317</th>\n",
       "      <td>54.0</td>\n",
       "      <td>NA</td>\n",
       "      <td>S</td>\n",
       "      <td>14.0000</td>\n",
       "      <td>0</td>\n",
       "      <td>318</td>\n",
       "      <td>2</td>\n",
       "      <td>male</td>\n",
       "      <td>0</td>\n",
       "      <td>0.0</td>\n",
       "      <td>False</td>\n",
       "      <td>NONE</td>\n",
       "      <td>A</td>\n",
       "    </tr>\n",
       "    <tr>\n",
       "      <th>162</th>\n",
       "      <td>26.0</td>\n",
       "      <td>NA</td>\n",
       "      <td>S</td>\n",
       "      <td>7.7750</td>\n",
       "      <td>0</td>\n",
       "      <td>163</td>\n",
       "      <td>3</td>\n",
       "      <td>male</td>\n",
       "      <td>0</td>\n",
       "      <td>0.0</td>\n",
       "      <td>False</td>\n",
       "      <td>NONE</td>\n",
       "      <td>D</td>\n",
       "    </tr>\n",
       "  </tbody>\n",
       "</table>\n",
       "</div>"
      ],
      "text/plain": [
       "       Age Cabin Embarked      Fare  Parch  PassengerId  Pclass     Sex  \\\n",
       "658   23.0    NA        S   13.0000      0          659       2    male   \n",
       "691    4.0    NA        C   13.4167      1          692       3  female   \n",
       "1130  48.0     C        C  106.4250      0         1131       1  female   \n",
       "317   54.0    NA        S   14.0000      0          318       2    male   \n",
       "162   26.0    NA        S    7.7750      0          163       3    male   \n",
       "\n",
       "      SibSp  Survived  Age_NA Ticket Prefix Ticket Number  \n",
       "658       0       0.0   False          NONE             A  \n",
       "691       0       1.0   False          NONE             D  \n",
       "1130      1       NaN   False            PC             A  \n",
       "317       0       0.0   False          NONE             A  \n",
       "162       0       0.0   False          NONE             D  "
      ]
     },
     "execution_count": 70,
     "metadata": {},
     "output_type": "execute_result"
    }
   ],
   "source": [
    "df.sample(5)"
   ]
  },
  {
   "cell_type": "code",
   "execution_count": 71,
   "metadata": {
    "_cell_guid": "005fed63-ef26-4f59-ae77-039d5c73c2b5",
    "_uuid": "5e5a9c13b73ff08d9b5b63aad6d8c65f6afc154a"
   },
   "outputs": [
    {
     "name": "stdout",
     "output_type": "stream",
     "text": [
      "<class 'pandas.core.frame.DataFrame'>\n",
      "RangeIndex: 1309 entries, 0 to 1308\n",
      "Data columns (total 13 columns):\n",
      "Age              1046 non-null float64\n",
      "Cabin            1309 non-null object\n",
      "Embarked         1307 non-null object\n",
      "Fare             1308 non-null float64\n",
      "Parch            1309 non-null int64\n",
      "PassengerId      1309 non-null int64\n",
      "Pclass           1309 non-null int64\n",
      "Sex              1309 non-null object\n",
      "SibSp            1309 non-null int64\n",
      "Survived         891 non-null float64\n",
      "Age_NA           1309 non-null bool\n",
      "Ticket Prefix    1309 non-null object\n",
      "Ticket Number    1309 non-null object\n",
      "dtypes: bool(1), float64(3), int64(4), object(5)\n",
      "memory usage: 124.1+ KB\n"
     ]
    }
   ],
   "source": [
    "df.info()"
   ]
  },
  {
   "cell_type": "markdown",
   "metadata": {},
   "source": [
    "Five columns will be one-hot encoded: `Cabin`, `Embarked`, `Sex`, `Ticket Prefix`, and `Ticket Number`. Are any of these columns incomplete?"
   ]
  },
  {
   "cell_type": "code",
   "execution_count": 72,
   "metadata": {
    "_cell_guid": "404916c5-a47b-4de6-9d7a-2be03c2a5d22",
    "_uuid": "db92fb31b67c3aa4ad4872079c35aa5d60a23809"
   },
   "outputs": [
    {
     "data": {
      "text/plain": [
       "Survived    0.680672\n",
       "Age         0.799083\n",
       "Embarked    0.998472\n",
       "Fare        0.999236\n",
       "dtype: float64"
      ]
     },
     "execution_count": 72,
     "metadata": {},
     "output_type": "execute_result"
    }
   ],
   "source": [
    "incomplete_cols(df)"
   ]
  },
  {
   "cell_type": "markdown",
   "metadata": {},
   "source": [
    "Only `Embarked` is. But only 2 values were missing in that column, so we won't create columns for NA values."
   ]
  },
  {
   "cell_type": "code",
   "execution_count": 73,
   "metadata": {
    "_cell_guid": "e193dcf9-7493-4fd2-a111-dd1ea860294e",
    "_uuid": "d5c74d93edf546975096132943910c8813fb6a4d"
   },
   "outputs": [
    {
     "data": {
      "text/plain": [
       "(1309, 13)"
      ]
     },
     "execution_count": 73,
     "metadata": {},
     "output_type": "execute_result"
    }
   ],
   "source": [
    "df.shape"
   ]
  },
  {
   "cell_type": "code",
   "execution_count": 74,
   "metadata": {
    "_cell_guid": "50f084b2-2231-403a-ac99-c4ed1ffa239f",
    "_uuid": "a667e750dab3e8e9b372c54836fb936aa744d2ad"
   },
   "outputs": [],
   "source": [
    "df = pd.get_dummies(df, drop_first=True)"
   ]
  },
  {
   "cell_type": "code",
   "execution_count": 75,
   "metadata": {
    "_cell_guid": "7baf9304-ffc5-4c57-9820-129cd1b606d6",
    "_uuid": "fdb9d46c24872f75ce22fd52382131bd9d19b820"
   },
   "outputs": [
    {
     "data": {
      "text/plain": [
       "(1309, 33)"
      ]
     },
     "execution_count": 75,
     "metadata": {},
     "output_type": "execute_result"
    }
   ],
   "source": [
    "df.shape"
   ]
  },
  {
   "cell_type": "code",
   "execution_count": 76,
   "metadata": {
    "_cell_guid": "208265fa-8de0-4ecc-8845-37f7e16eed08",
    "_uuid": "94cd7b9edb2e3a5e6a6068103cf40543e0ce59ed"
   },
   "outputs": [
    {
     "data": {
      "text/html": [
       "<div>\n",
       "<style scoped>\n",
       "    .dataframe tbody tr th:only-of-type {\n",
       "        vertical-align: middle;\n",
       "    }\n",
       "\n",
       "    .dataframe tbody tr th {\n",
       "        vertical-align: top;\n",
       "    }\n",
       "\n",
       "    .dataframe thead th {\n",
       "        text-align: right;\n",
       "    }\n",
       "</style>\n",
       "<table border=\"1\" class=\"dataframe\">\n",
       "  <thead>\n",
       "    <tr style=\"text-align: right;\">\n",
       "      <th></th>\n",
       "      <th>Age</th>\n",
       "      <th>Fare</th>\n",
       "      <th>Parch</th>\n",
       "      <th>PassengerId</th>\n",
       "      <th>Pclass</th>\n",
       "      <th>SibSp</th>\n",
       "      <th>Survived</th>\n",
       "      <th>Age_NA</th>\n",
       "      <th>Cabin_B</th>\n",
       "      <th>Cabin_C</th>\n",
       "      <th>Cabin_D</th>\n",
       "      <th>Cabin_E</th>\n",
       "      <th>Cabin_F</th>\n",
       "      <th>Cabin_G</th>\n",
       "      <th>Cabin_NA</th>\n",
       "      <th>Cabin_T</th>\n",
       "      <th>Embarked_Q</th>\n",
       "      <th>Embarked_S</th>\n",
       "      <th>Sex_male</th>\n",
       "      <th>Ticket Prefix_A5</th>\n",
       "      <th>Ticket Prefix_CA</th>\n",
       "      <th>Ticket Prefix_NONE</th>\n",
       "      <th>Ticket Prefix_OTHER</th>\n",
       "      <th>Ticket Prefix_PC</th>\n",
       "      <th>Ticket Prefix_SCPARIS</th>\n",
       "      <th>Ticket Prefix_SOTONOQ</th>\n",
       "      <th>Ticket Prefix_STONO2</th>\n",
       "      <th>Ticket Prefix_WC</th>\n",
       "      <th>Ticket Number_B</th>\n",
       "      <th>Ticket Number_C</th>\n",
       "      <th>Ticket Number_D</th>\n",
       "      <th>Ticket Number_E</th>\n",
       "      <th>Ticket Number_NA</th>\n",
       "    </tr>\n",
       "  </thead>\n",
       "  <tbody>\n",
       "    <tr>\n",
       "      <th>619</th>\n",
       "      <td>26.0</td>\n",
       "      <td>10.5</td>\n",
       "      <td>0</td>\n",
       "      <td>620</td>\n",
       "      <td>2</td>\n",
       "      <td>0</td>\n",
       "      <td>0.0</td>\n",
       "      <td>False</td>\n",
       "      <td>0</td>\n",
       "      <td>0</td>\n",
       "      <td>0</td>\n",
       "      <td>0</td>\n",
       "      <td>0</td>\n",
       "      <td>0</td>\n",
       "      <td>1</td>\n",
       "      <td>0</td>\n",
       "      <td>0</td>\n",
       "      <td>1</td>\n",
       "      <td>1</td>\n",
       "      <td>0</td>\n",
       "      <td>0</td>\n",
       "      <td>1</td>\n",
       "      <td>0</td>\n",
       "      <td>0</td>\n",
       "      <td>0</td>\n",
       "      <td>0</td>\n",
       "      <td>0</td>\n",
       "      <td>0</td>\n",
       "      <td>0</td>\n",
       "      <td>0</td>\n",
       "      <td>0</td>\n",
       "      <td>0</td>\n",
       "      <td>0</td>\n",
       "    </tr>\n",
       "    <tr>\n",
       "      <th>360</th>\n",
       "      <td>40.0</td>\n",
       "      <td>27.9</td>\n",
       "      <td>4</td>\n",
       "      <td>361</td>\n",
       "      <td>3</td>\n",
       "      <td>1</td>\n",
       "      <td>0.0</td>\n",
       "      <td>False</td>\n",
       "      <td>0</td>\n",
       "      <td>0</td>\n",
       "      <td>0</td>\n",
       "      <td>0</td>\n",
       "      <td>0</td>\n",
       "      <td>0</td>\n",
       "      <td>1</td>\n",
       "      <td>0</td>\n",
       "      <td>0</td>\n",
       "      <td>1</td>\n",
       "      <td>1</td>\n",
       "      <td>0</td>\n",
       "      <td>0</td>\n",
       "      <td>1</td>\n",
       "      <td>0</td>\n",
       "      <td>0</td>\n",
       "      <td>0</td>\n",
       "      <td>0</td>\n",
       "      <td>0</td>\n",
       "      <td>0</td>\n",
       "      <td>0</td>\n",
       "      <td>0</td>\n",
       "      <td>1</td>\n",
       "      <td>0</td>\n",
       "      <td>0</td>\n",
       "    </tr>\n",
       "    <tr>\n",
       "      <th>53</th>\n",
       "      <td>29.0</td>\n",
       "      <td>26.0</td>\n",
       "      <td>0</td>\n",
       "      <td>54</td>\n",
       "      <td>2</td>\n",
       "      <td>1</td>\n",
       "      <td>1.0</td>\n",
       "      <td>False</td>\n",
       "      <td>0</td>\n",
       "      <td>0</td>\n",
       "      <td>0</td>\n",
       "      <td>0</td>\n",
       "      <td>0</td>\n",
       "      <td>0</td>\n",
       "      <td>1</td>\n",
       "      <td>0</td>\n",
       "      <td>0</td>\n",
       "      <td>1</td>\n",
       "      <td>0</td>\n",
       "      <td>0</td>\n",
       "      <td>0</td>\n",
       "      <td>1</td>\n",
       "      <td>0</td>\n",
       "      <td>0</td>\n",
       "      <td>0</td>\n",
       "      <td>0</td>\n",
       "      <td>0</td>\n",
       "      <td>0</td>\n",
       "      <td>0</td>\n",
       "      <td>0</td>\n",
       "      <td>0</td>\n",
       "      <td>0</td>\n",
       "      <td>0</td>\n",
       "    </tr>\n",
       "    <tr>\n",
       "      <th>556</th>\n",
       "      <td>48.0</td>\n",
       "      <td>39.6</td>\n",
       "      <td>0</td>\n",
       "      <td>557</td>\n",
       "      <td>1</td>\n",
       "      <td>1</td>\n",
       "      <td>1.0</td>\n",
       "      <td>False</td>\n",
       "      <td>0</td>\n",
       "      <td>0</td>\n",
       "      <td>0</td>\n",
       "      <td>0</td>\n",
       "      <td>0</td>\n",
       "      <td>0</td>\n",
       "      <td>0</td>\n",
       "      <td>0</td>\n",
       "      <td>0</td>\n",
       "      <td>0</td>\n",
       "      <td>0</td>\n",
       "      <td>0</td>\n",
       "      <td>0</td>\n",
       "      <td>1</td>\n",
       "      <td>0</td>\n",
       "      <td>0</td>\n",
       "      <td>0</td>\n",
       "      <td>0</td>\n",
       "      <td>0</td>\n",
       "      <td>0</td>\n",
       "      <td>0</td>\n",
       "      <td>0</td>\n",
       "      <td>0</td>\n",
       "      <td>0</td>\n",
       "      <td>0</td>\n",
       "    </tr>\n",
       "    <tr>\n",
       "      <th>1094</th>\n",
       "      <td>8.0</td>\n",
       "      <td>26.0</td>\n",
       "      <td>1</td>\n",
       "      <td>1095</td>\n",
       "      <td>2</td>\n",
       "      <td>1</td>\n",
       "      <td>NaN</td>\n",
       "      <td>False</td>\n",
       "      <td>0</td>\n",
       "      <td>0</td>\n",
       "      <td>0</td>\n",
       "      <td>0</td>\n",
       "      <td>0</td>\n",
       "      <td>0</td>\n",
       "      <td>1</td>\n",
       "      <td>0</td>\n",
       "      <td>0</td>\n",
       "      <td>1</td>\n",
       "      <td>0</td>\n",
       "      <td>0</td>\n",
       "      <td>0</td>\n",
       "      <td>1</td>\n",
       "      <td>0</td>\n",
       "      <td>0</td>\n",
       "      <td>0</td>\n",
       "      <td>0</td>\n",
       "      <td>0</td>\n",
       "      <td>0</td>\n",
       "      <td>0</td>\n",
       "      <td>0</td>\n",
       "      <td>0</td>\n",
       "      <td>0</td>\n",
       "      <td>0</td>\n",
       "    </tr>\n",
       "  </tbody>\n",
       "</table>\n",
       "</div>"
      ],
      "text/plain": [
       "       Age  Fare  Parch  PassengerId  Pclass  SibSp  Survived  Age_NA  \\\n",
       "619   26.0  10.5      0          620       2      0       0.0   False   \n",
       "360   40.0  27.9      4          361       3      1       0.0   False   \n",
       "53    29.0  26.0      0           54       2      1       1.0   False   \n",
       "556   48.0  39.6      0          557       1      1       1.0   False   \n",
       "1094   8.0  26.0      1         1095       2      1       NaN   False   \n",
       "\n",
       "      Cabin_B  Cabin_C  Cabin_D  Cabin_E  Cabin_F  Cabin_G  Cabin_NA  Cabin_T  \\\n",
       "619         0        0        0        0        0        0         1        0   \n",
       "360         0        0        0        0        0        0         1        0   \n",
       "53          0        0        0        0        0        0         1        0   \n",
       "556         0        0        0        0        0        0         0        0   \n",
       "1094        0        0        0        0        0        0         1        0   \n",
       "\n",
       "      Embarked_Q  Embarked_S  Sex_male  Ticket Prefix_A5  Ticket Prefix_CA  \\\n",
       "619            0           1         1                 0                 0   \n",
       "360            0           1         1                 0                 0   \n",
       "53             0           1         0                 0                 0   \n",
       "556            0           0         0                 0                 0   \n",
       "1094           0           1         0                 0                 0   \n",
       "\n",
       "      Ticket Prefix_NONE  Ticket Prefix_OTHER  Ticket Prefix_PC  \\\n",
       "619                    1                    0                 0   \n",
       "360                    1                    0                 0   \n",
       "53                     1                    0                 0   \n",
       "556                    1                    0                 0   \n",
       "1094                   1                    0                 0   \n",
       "\n",
       "      Ticket Prefix_SCPARIS  Ticket Prefix_SOTONOQ  Ticket Prefix_STONO2  \\\n",
       "619                       0                      0                     0   \n",
       "360                       0                      0                     0   \n",
       "53                        0                      0                     0   \n",
       "556                       0                      0                     0   \n",
       "1094                      0                      0                     0   \n",
       "\n",
       "      Ticket Prefix_WC  Ticket Number_B  Ticket Number_C  Ticket Number_D  \\\n",
       "619                  0                0                0                0   \n",
       "360                  0                0                0                1   \n",
       "53                   0                0                0                0   \n",
       "556                  0                0                0                0   \n",
       "1094                 0                0                0                0   \n",
       "\n",
       "      Ticket Number_E  Ticket Number_NA  \n",
       "619                 0                 0  \n",
       "360                 0                 0  \n",
       "53                  0                 0  \n",
       "556                 0                 0  \n",
       "1094                0                 0  "
      ]
     },
     "execution_count": 76,
     "metadata": {},
     "output_type": "execute_result"
    }
   ],
   "source": [
    "df.sample(5)"
   ]
  },
  {
   "cell_type": "markdown",
   "metadata": {
    "_cell_guid": "328608c6-a46f-4082-812e-5807d272ac9c",
    "_uuid": "59636167d171b7d420ca92d0a0860f58763382f5"
   },
   "source": [
    "## 3.3 Imputation with Mean Substitution\n",
    "<a id='3.3'></a>"
   ]
  },
  {
   "cell_type": "code",
   "execution_count": 77,
   "metadata": {
    "_cell_guid": "7ee9e5a3-307f-4672-a5d7-348fa0ae6c0c",
    "_uuid": "bfad0c22c5489c28c764afd0d0fd6c62b403890e"
   },
   "outputs": [],
   "source": [
    "X = df.drop(labels='Survived', axis=1)\n",
    "y = df.loc[:,'Survived']"
   ]
  },
  {
   "cell_type": "code",
   "execution_count": 78,
   "metadata": {
    "_cell_guid": "fb94f616-479c-4ff6-9b9e-e1e30d26cf01",
    "_uuid": "34c0873a4871cb5ccd68c14f5b7c544224e45423"
   },
   "outputs": [
    {
     "data": {
      "text/plain": [
       "Age     0.799083\n",
       "Fare    0.999236\n",
       "dtype: float64"
      ]
     },
     "execution_count": 78,
     "metadata": {},
     "output_type": "execute_result"
    }
   ],
   "source": [
    "incomplete_cols(X)"
   ]
  },
  {
   "cell_type": "code",
   "execution_count": 79,
   "metadata": {
    "_cell_guid": "75e07649-decd-4c1f-b095-91a7688b83c6",
    "_uuid": "c4df02bc854a239cdb7a07fce746c7a4c4d8ca34"
   },
   "outputs": [],
   "source": [
    "from sklearn.preprocessing import Imputer"
   ]
  },
  {
   "cell_type": "code",
   "execution_count": 80,
   "metadata": {
    "_cell_guid": "88279fa3-319a-4e23-a4bf-36f18752ad57",
    "_uuid": "c0fdf37f598ae888bc8231a8e2e3b9844ab3e044"
   },
   "outputs": [],
   "source": [
    "imputer = Imputer().fit(X)"
   ]
  },
  {
   "cell_type": "code",
   "execution_count": 81,
   "metadata": {
    "_cell_guid": "6e5786cb-b5c4-401e-8cfd-c8d885704b09",
    "_uuid": "8fe218bc5a71cba64edd273f0df8112ce1a89930"
   },
   "outputs": [],
   "source": [
    "X = pd.DataFrame(imputer.transform(X), columns=X.columns)"
   ]
  },
  {
   "cell_type": "code",
   "execution_count": 82,
   "metadata": {
    "_cell_guid": "56b861aa-a6dc-4b53-83a5-3b039b9cad50",
    "_uuid": "01565b48cb3407bb402ba8131cb2a630c65976eb"
   },
   "outputs": [
    {
     "data": {
      "text/plain": [
       "Series([], dtype: float64)"
      ]
     },
     "execution_count": 82,
     "metadata": {},
     "output_type": "execute_result"
    }
   ],
   "source": [
    "incomplete_cols(X)"
   ]
  },
  {
   "cell_type": "markdown",
   "metadata": {
    "_cell_guid": "6ad43292-73fa-4d4a-bd8d-7a59574d9f7f",
    "_uuid": "c39223e61a6d27f5f3f9268e182f66a3ec7430b0"
   },
   "source": [
    "## 3.4 Standardization\n",
    "<a id='3.4'></a>"
   ]
  },
  {
   "cell_type": "markdown",
   "metadata": {
    "_cell_guid": "286b44e8-cfc5-4bcb-96be-665341374849",
    "_uuid": "884e82b20fc0cb02ff276df8528f74df11d3534d"
   },
   "source": [
    "Transform all the features to zero mean and unit variance."
   ]
  },
  {
   "cell_type": "code",
   "execution_count": 83,
   "metadata": {
    "_cell_guid": "a02a0639-449d-4610-912b-f4168148f1af",
    "_uuid": "57776747d47bf523af89fd258768aaa807142c8a"
   },
   "outputs": [],
   "source": [
    "from sklearn.preprocessing import StandardScaler"
   ]
  },
  {
   "cell_type": "code",
   "execution_count": 84,
   "metadata": {
    "_cell_guid": "f86eebed-353b-47ad-910b-2078e39c811e",
    "_uuid": "cafffdf1b618ab2ce8f92966d9f4808ecf77e5f4"
   },
   "outputs": [],
   "source": [
    "scaler = StandardScaler().fit(X)"
   ]
  },
  {
   "cell_type": "code",
   "execution_count": 85,
   "metadata": {
    "_cell_guid": "b83467c8-4541-4f5f-ae45-e81c44fcbfca",
    "_uuid": "c2c211a54f89a076da28415d2f36e2e8a730dd8e"
   },
   "outputs": [],
   "source": [
    "X = pd.DataFrame(scaler.transform(X), columns=X.columns)"
   ]
  },
  {
   "cell_type": "code",
   "execution_count": 86,
   "metadata": {},
   "outputs": [
    {
     "data": {
      "text/html": [
       "<div>\n",
       "<style scoped>\n",
       "    .dataframe tbody tr th:only-of-type {\n",
       "        vertical-align: middle;\n",
       "    }\n",
       "\n",
       "    .dataframe tbody tr th {\n",
       "        vertical-align: top;\n",
       "    }\n",
       "\n",
       "    .dataframe thead th {\n",
       "        text-align: right;\n",
       "    }\n",
       "</style>\n",
       "<table border=\"1\" class=\"dataframe\">\n",
       "  <thead>\n",
       "    <tr style=\"text-align: right;\">\n",
       "      <th></th>\n",
       "      <th>Age</th>\n",
       "      <th>Fare</th>\n",
       "      <th>Parch</th>\n",
       "      <th>PassengerId</th>\n",
       "      <th>Pclass</th>\n",
       "      <th>SibSp</th>\n",
       "      <th>Age_NA</th>\n",
       "      <th>Cabin_B</th>\n",
       "      <th>Cabin_C</th>\n",
       "      <th>Cabin_D</th>\n",
       "      <th>Cabin_E</th>\n",
       "      <th>Cabin_F</th>\n",
       "      <th>Cabin_G</th>\n",
       "      <th>Cabin_NA</th>\n",
       "      <th>Cabin_T</th>\n",
       "      <th>Embarked_Q</th>\n",
       "      <th>Embarked_S</th>\n",
       "      <th>Sex_male</th>\n",
       "      <th>Ticket Prefix_A5</th>\n",
       "      <th>Ticket Prefix_CA</th>\n",
       "      <th>Ticket Prefix_NONE</th>\n",
       "      <th>Ticket Prefix_OTHER</th>\n",
       "      <th>Ticket Prefix_PC</th>\n",
       "      <th>Ticket Prefix_SCPARIS</th>\n",
       "      <th>Ticket Prefix_SOTONOQ</th>\n",
       "      <th>Ticket Prefix_STONO2</th>\n",
       "      <th>Ticket Prefix_WC</th>\n",
       "      <th>Ticket Number_B</th>\n",
       "      <th>Ticket Number_C</th>\n",
       "      <th>Ticket Number_D</th>\n",
       "      <th>Ticket Number_E</th>\n",
       "      <th>Ticket Number_NA</th>\n",
       "    </tr>\n",
       "  </thead>\n",
       "  <tbody>\n",
       "    <tr>\n",
       "      <th>382</th>\n",
       "      <td>0.164530</td>\n",
       "      <td>-0.490544</td>\n",
       "      <td>-0.445000</td>\n",
       "      <td>-0.719814</td>\n",
       "      <td>0.841916</td>\n",
       "      <td>-0.479087</td>\n",
       "      <td>-0.501432</td>\n",
       "      <td>-0.228584</td>\n",
       "      <td>-0.278148</td>\n",
       "      <td>-0.190843</td>\n",
       "      <td>-0.179818</td>\n",
       "      <td>-0.127688</td>\n",
       "      <td>-0.061922</td>\n",
       "      <td>0.539377</td>\n",
       "      <td>-0.02765</td>\n",
       "      <td>-0.32204</td>\n",
       "      <td>0.657394</td>\n",
       "      <td>0.743497</td>\n",
       "      <td>-0.147844</td>\n",
       "      <td>-0.234082</td>\n",
       "      <td>-1.661774</td>\n",
       "      <td>-0.23948</td>\n",
       "      <td>-0.274947</td>\n",
       "      <td>-0.121362</td>\n",
       "      <td>-0.136664</td>\n",
       "      <td>7.831560</td>\n",
       "      <td>-0.107666</td>\n",
       "      <td>-0.289153</td>\n",
       "      <td>-0.324922</td>\n",
       "      <td>-0.639564</td>\n",
       "      <td>4.562529</td>\n",
       "      <td>-0.055364</td>\n",
       "    </tr>\n",
       "    <tr>\n",
       "      <th>110</th>\n",
       "      <td>1.329283</td>\n",
       "      <td>0.361656</td>\n",
       "      <td>-0.445000</td>\n",
       "      <td>-1.439627</td>\n",
       "      <td>-1.546098</td>\n",
       "      <td>-0.479087</td>\n",
       "      <td>-0.501432</td>\n",
       "      <td>-0.228584</td>\n",
       "      <td>3.595210</td>\n",
       "      <td>-0.190843</td>\n",
       "      <td>-0.179818</td>\n",
       "      <td>-0.127688</td>\n",
       "      <td>-0.061922</td>\n",
       "      <td>-1.853992</td>\n",
       "      <td>-0.02765</td>\n",
       "      <td>-0.32204</td>\n",
       "      <td>0.657394</td>\n",
       "      <td>0.743497</td>\n",
       "      <td>-0.147844</td>\n",
       "      <td>-0.234082</td>\n",
       "      <td>0.601766</td>\n",
       "      <td>-0.23948</td>\n",
       "      <td>-0.274947</td>\n",
       "      <td>-0.121362</td>\n",
       "      <td>-0.136664</td>\n",
       "      <td>-0.127688</td>\n",
       "      <td>-0.107666</td>\n",
       "      <td>3.458381</td>\n",
       "      <td>-0.324922</td>\n",
       "      <td>-0.639564</td>\n",
       "      <td>-0.219177</td>\n",
       "      <td>-0.055364</td>\n",
       "    </tr>\n",
       "    <tr>\n",
       "      <th>41</th>\n",
       "      <td>-0.223721</td>\n",
       "      <td>-0.237736</td>\n",
       "      <td>-0.445000</td>\n",
       "      <td>-1.622227</td>\n",
       "      <td>-0.352091</td>\n",
       "      <td>0.481288</td>\n",
       "      <td>-0.501432</td>\n",
       "      <td>-0.228584</td>\n",
       "      <td>-0.278148</td>\n",
       "      <td>-0.190843</td>\n",
       "      <td>-0.179818</td>\n",
       "      <td>-0.127688</td>\n",
       "      <td>-0.061922</td>\n",
       "      <td>0.539377</td>\n",
       "      <td>-0.02765</td>\n",
       "      <td>-0.32204</td>\n",
       "      <td>0.657394</td>\n",
       "      <td>-1.344995</td>\n",
       "      <td>-0.147844</td>\n",
       "      <td>-0.234082</td>\n",
       "      <td>0.601766</td>\n",
       "      <td>-0.23948</td>\n",
       "      <td>-0.274947</td>\n",
       "      <td>-0.121362</td>\n",
       "      <td>-0.136664</td>\n",
       "      <td>-0.127688</td>\n",
       "      <td>-0.107666</td>\n",
       "      <td>-0.289153</td>\n",
       "      <td>-0.324922</td>\n",
       "      <td>-0.639564</td>\n",
       "      <td>-0.219177</td>\n",
       "      <td>-0.055364</td>\n",
       "    </tr>\n",
       "    <tr>\n",
       "      <th>779</th>\n",
       "      <td>1.018682</td>\n",
       "      <td>3.442480</td>\n",
       "      <td>0.710763</td>\n",
       "      <td>0.330797</td>\n",
       "      <td>-1.546098</td>\n",
       "      <td>-0.479087</td>\n",
       "      <td>-0.501432</td>\n",
       "      <td>4.374753</td>\n",
       "      <td>-0.278148</td>\n",
       "      <td>-0.190843</td>\n",
       "      <td>-0.179818</td>\n",
       "      <td>-0.127688</td>\n",
       "      <td>-0.061922</td>\n",
       "      <td>-1.853992</td>\n",
       "      <td>-0.02765</td>\n",
       "      <td>-0.32204</td>\n",
       "      <td>0.657394</td>\n",
       "      <td>-1.344995</td>\n",
       "      <td>-0.147844</td>\n",
       "      <td>-0.234082</td>\n",
       "      <td>0.601766</td>\n",
       "      <td>-0.23948</td>\n",
       "      <td>-0.274947</td>\n",
       "      <td>-0.121362</td>\n",
       "      <td>-0.136664</td>\n",
       "      <td>-0.127688</td>\n",
       "      <td>-0.107666</td>\n",
       "      <td>-0.289153</td>\n",
       "      <td>-0.324922</td>\n",
       "      <td>-0.639564</td>\n",
       "      <td>-0.219177</td>\n",
       "      <td>-0.055364</td>\n",
       "    </tr>\n",
       "    <tr>\n",
       "      <th>631</th>\n",
       "      <td>1.639883</td>\n",
       "      <td>-0.507381</td>\n",
       "      <td>-0.445000</td>\n",
       "      <td>-0.060867</td>\n",
       "      <td>0.841916</td>\n",
       "      <td>-0.479087</td>\n",
       "      <td>-0.501432</td>\n",
       "      <td>-0.228584</td>\n",
       "      <td>-0.278148</td>\n",
       "      <td>-0.190843</td>\n",
       "      <td>-0.179818</td>\n",
       "      <td>-0.127688</td>\n",
       "      <td>-0.061922</td>\n",
       "      <td>0.539377</td>\n",
       "      <td>-0.02765</td>\n",
       "      <td>-0.32204</td>\n",
       "      <td>0.657394</td>\n",
       "      <td>0.743497</td>\n",
       "      <td>-0.147844</td>\n",
       "      <td>-0.234082</td>\n",
       "      <td>0.601766</td>\n",
       "      <td>-0.23948</td>\n",
       "      <td>-0.274947</td>\n",
       "      <td>-0.121362</td>\n",
       "      <td>-0.136664</td>\n",
       "      <td>-0.127688</td>\n",
       "      <td>-0.107666</td>\n",
       "      <td>-0.289153</td>\n",
       "      <td>-0.324922</td>\n",
       "      <td>1.563565</td>\n",
       "      <td>-0.219177</td>\n",
       "      <td>-0.055364</td>\n",
       "    </tr>\n",
       "  </tbody>\n",
       "</table>\n",
       "</div>"
      ],
      "text/plain": [
       "          Age      Fare     Parch  PassengerId    Pclass     SibSp    Age_NA  \\\n",
       "382  0.164530 -0.490544 -0.445000    -0.719814  0.841916 -0.479087 -0.501432   \n",
       "110  1.329283  0.361656 -0.445000    -1.439627 -1.546098 -0.479087 -0.501432   \n",
       "41  -0.223721 -0.237736 -0.445000    -1.622227 -0.352091  0.481288 -0.501432   \n",
       "779  1.018682  3.442480  0.710763     0.330797 -1.546098 -0.479087 -0.501432   \n",
       "631  1.639883 -0.507381 -0.445000    -0.060867  0.841916 -0.479087 -0.501432   \n",
       "\n",
       "      Cabin_B   Cabin_C   Cabin_D   Cabin_E   Cabin_F   Cabin_G  Cabin_NA  \\\n",
       "382 -0.228584 -0.278148 -0.190843 -0.179818 -0.127688 -0.061922  0.539377   \n",
       "110 -0.228584  3.595210 -0.190843 -0.179818 -0.127688 -0.061922 -1.853992   \n",
       "41  -0.228584 -0.278148 -0.190843 -0.179818 -0.127688 -0.061922  0.539377   \n",
       "779  4.374753 -0.278148 -0.190843 -0.179818 -0.127688 -0.061922 -1.853992   \n",
       "631 -0.228584 -0.278148 -0.190843 -0.179818 -0.127688 -0.061922  0.539377   \n",
       "\n",
       "     Cabin_T  Embarked_Q  Embarked_S  Sex_male  Ticket Prefix_A5  \\\n",
       "382 -0.02765    -0.32204    0.657394  0.743497         -0.147844   \n",
       "110 -0.02765    -0.32204    0.657394  0.743497         -0.147844   \n",
       "41  -0.02765    -0.32204    0.657394 -1.344995         -0.147844   \n",
       "779 -0.02765    -0.32204    0.657394 -1.344995         -0.147844   \n",
       "631 -0.02765    -0.32204    0.657394  0.743497         -0.147844   \n",
       "\n",
       "     Ticket Prefix_CA  Ticket Prefix_NONE  Ticket Prefix_OTHER  \\\n",
       "382         -0.234082           -1.661774             -0.23948   \n",
       "110         -0.234082            0.601766             -0.23948   \n",
       "41          -0.234082            0.601766             -0.23948   \n",
       "779         -0.234082            0.601766             -0.23948   \n",
       "631         -0.234082            0.601766             -0.23948   \n",
       "\n",
       "     Ticket Prefix_PC  Ticket Prefix_SCPARIS  Ticket Prefix_SOTONOQ  \\\n",
       "382         -0.274947              -0.121362              -0.136664   \n",
       "110         -0.274947              -0.121362              -0.136664   \n",
       "41          -0.274947              -0.121362              -0.136664   \n",
       "779         -0.274947              -0.121362              -0.136664   \n",
       "631         -0.274947              -0.121362              -0.136664   \n",
       "\n",
       "     Ticket Prefix_STONO2  Ticket Prefix_WC  Ticket Number_B  Ticket Number_C  \\\n",
       "382              7.831560         -0.107666        -0.289153        -0.324922   \n",
       "110             -0.127688         -0.107666         3.458381        -0.324922   \n",
       "41              -0.127688         -0.107666        -0.289153        -0.324922   \n",
       "779             -0.127688         -0.107666        -0.289153        -0.324922   \n",
       "631             -0.127688         -0.107666        -0.289153        -0.324922   \n",
       "\n",
       "     Ticket Number_D  Ticket Number_E  Ticket Number_NA  \n",
       "382        -0.639564         4.562529         -0.055364  \n",
       "110        -0.639564        -0.219177         -0.055364  \n",
       "41         -0.639564        -0.219177         -0.055364  \n",
       "779        -0.639564        -0.219177         -0.055364  \n",
       "631         1.563565        -0.219177         -0.055364  "
      ]
     },
     "execution_count": 86,
     "metadata": {},
     "output_type": "execute_result"
    }
   ],
   "source": [
    "X.sample(5)"
   ]
  },
  {
   "cell_type": "markdown",
   "metadata": {},
   "source": [
    "## 3.5 Recursive Feature Elimination\n",
    "<a id='3.5'></a>"
   ]
  },
  {
   "cell_type": "markdown",
   "metadata": {
    "_cell_guid": "63072724-81a6-4851-83c7-4a04ddd18906",
    "_uuid": "5dffaa7b8f12364a780764c1a46936e67b45ca14"
   },
   "source": [
    "Train/test split:"
   ]
  },
  {
   "cell_type": "code",
   "execution_count": 87,
   "metadata": {
    "_cell_guid": "fe647b6d-766a-4ea4-a11f-4c15f677f8c7",
    "_uuid": "fd43bf048e54213491f43de1fb6f626bf1d6c6cd"
   },
   "outputs": [],
   "source": [
    "X_train = X.loc[y.notnull()]\n",
    "X_test = X.loc[y.isnull()]\n",
    "y_train = y[y.notnull()].apply(np.bool)"
   ]
  },
  {
   "cell_type": "markdown",
   "metadata": {},
   "source": [
    "Recursive feature elimination using a Linear Support Vector Classifier:"
   ]
  },
  {
   "cell_type": "code",
   "execution_count": 88,
   "metadata": {},
   "outputs": [],
   "source": [
    "from sklearn.svm import LinearSVC\n",
    "from sklearn.feature_selection import RFECV"
   ]
  },
  {
   "cell_type": "code",
   "execution_count": 89,
   "metadata": {},
   "outputs": [],
   "source": [
    "selector = RFECV(estimator=LinearSVC(), scoring='accuracy', verbose=0, n_jobs=-1)"
   ]
  },
  {
   "cell_type": "code",
   "execution_count": 90,
   "metadata": {},
   "outputs": [
    {
     "data": {
      "text/plain": [
       "RFECV(cv=None,\n",
       "   estimator=LinearSVC(C=1.0, class_weight=None, dual=True, fit_intercept=True,\n",
       "     intercept_scaling=1, loss='squared_hinge', max_iter=1000,\n",
       "     multi_class='ovr', penalty='l2', random_state=None, tol=0.0001,\n",
       "     verbose=0),\n",
       "   n_jobs=-1, scoring='accuracy', step=1, verbose=0)"
      ]
     },
     "execution_count": 90,
     "metadata": {},
     "output_type": "execute_result"
    }
   ],
   "source": [
    "selector.fit(X_train, y_train)"
   ]
  },
  {
   "cell_type": "markdown",
   "metadata": {},
   "source": [
    "How many features were retained?"
   ]
  },
  {
   "cell_type": "code",
   "execution_count": 91,
   "metadata": {},
   "outputs": [
    {
     "data": {
      "text/plain": [
       "14"
      ]
     },
     "execution_count": 91,
     "metadata": {},
     "output_type": "execute_result"
    }
   ],
   "source": [
    "selector.n_features_"
   ]
  },
  {
   "cell_type": "markdown",
   "metadata": {},
   "source": [
    "Which features were retained?"
   ]
  },
  {
   "cell_type": "code",
   "execution_count": 92,
   "metadata": {},
   "outputs": [
    {
     "data": {
      "text/plain": [
       "Index(['Age', 'Pclass', 'SibSp', 'Cabin_C', 'Cabin_E', 'Cabin_NA',\n",
       "       'Embarked_S', 'Sex_male', 'Ticket Prefix_CA', 'Ticket Prefix_NONE',\n",
       "       'Ticket Prefix_STONO2', 'Ticket Prefix_WC', 'Ticket Number_B',\n",
       "       'Ticket Number_D'],\n",
       "      dtype='object')"
      ]
     },
     "execution_count": 92,
     "metadata": {},
     "output_type": "execute_result"
    }
   ],
   "source": [
    "X_train.columns[selector.support_]"
   ]
  },
  {
   "cell_type": "markdown",
   "metadata": {},
   "source": [
    "Score of the underlying LinearSVC on the training set:"
   ]
  },
  {
   "cell_type": "code",
   "execution_count": 93,
   "metadata": {},
   "outputs": [
    {
     "data": {
      "text/plain": [
       "0.8181818181818182"
      ]
     },
     "execution_count": 93,
     "metadata": {},
     "output_type": "execute_result"
    }
   ],
   "source": [
    "selector.score(X_train, y_train)"
   ]
  },
  {
   "cell_type": "markdown",
   "metadata": {},
   "source": [
    "Reduce our data to the retained features:"
   ]
  },
  {
   "cell_type": "code",
   "execution_count": 94,
   "metadata": {},
   "outputs": [],
   "source": [
    "X_train = X_train.loc[:,selector.support_]\n",
    "X_test = X_test.loc[:,selector.support_]"
   ]
  },
  {
   "cell_type": "markdown",
   "metadata": {
    "_cell_guid": "6875765d-a8ef-48c1-af88-1b97a7201611",
    "_uuid": "b322d535ee67d7d99f6fa262a0294b897324b74e"
   },
   "source": [
    "# 4 Predictive Modeling\n",
    "<a id='4'></a>"
   ]
  },
  {
   "cell_type": "code",
   "execution_count": 95,
   "metadata": {
    "_cell_guid": "9db82d71-360d-4fe0-a5c7-edefc7b7e272",
    "_uuid": "062e18739e985c454d32a809c76631b1bfacc8a7"
   },
   "outputs": [],
   "source": [
    "from sklearn.model_selection import GridSearchCV\n",
    "from sklearn.metrics import accuracy_score, make_scorer"
   ]
  },
  {
   "cell_type": "markdown",
   "metadata": {
    "_cell_guid": "a179f547-9c41-41ce-929a-bb739b7601c9",
    "_uuid": "251ce8ed2a832097d2802a011567d1c8e83157bd"
   },
   "source": [
    "## 4.1 Random Forest\n",
    "<a id='4.1'></a>"
   ]
  },
  {
   "cell_type": "code",
   "execution_count": 96,
   "metadata": {
    "_cell_guid": "752720d7-9ace-42dc-959a-436bdbd7a67f",
    "_uuid": "cca1de5abc1cdb68e9270bea170d1ad41d7ac1e7"
   },
   "outputs": [],
   "source": [
    "from sklearn.ensemble import RandomForestClassifier"
   ]
  },
  {
   "cell_type": "code",
   "execution_count": 97,
   "metadata": {
    "_cell_guid": "a3a92229-13e8-4f1d-9098-3281e189c2f2",
    "_uuid": "6bf6fb3898b571b1cbbef90f0bea8a269e7997a3"
   },
   "outputs": [],
   "source": [
    "param_grid = {'n_estimators': [10, 55, 100],\n",
    "              'max_features': ['log2', 'sqrt', None],\n",
    "              'max_depth': [5, 15, 30, None],\n",
    "              'min_samples_split': [2, 10, 50],\n",
    "              'min_samples_leaf': [1, 5, 10]\n",
    "             }"
   ]
  },
  {
   "cell_type": "code",
   "execution_count": 98,
   "metadata": {
    "_cell_guid": "481e6cb2-1c13-41f9-bfcc-ebca1207601d",
    "_uuid": "8384a29b2dff77157c4684d99af0c4edbb6eb273"
   },
   "outputs": [],
   "source": [
    "model_rfc = GridSearchCV(estimator=RandomForestClassifier(n_jobs=-1), param_grid=param_grid, scoring=make_scorer(accuracy_score), n_jobs=-1, verbose=1)"
   ]
  },
  {
   "cell_type": "code",
   "execution_count": 99,
   "metadata": {
    "_cell_guid": "b601067c-098b-4995-be03-a246c450051e",
    "_uuid": "a3a005f8f16125d56b36d0742be29b0f2cef6261"
   },
   "outputs": [
    {
     "name": "stdout",
     "output_type": "stream",
     "text": [
      "Fitting 3 folds for each of 324 candidates, totalling 972 fits\n"
     ]
    },
    {
     "name": "stderr",
     "output_type": "stream",
     "text": [
      "[Parallel(n_jobs=-1)]: Done  42 tasks      | elapsed:    8.0s\n",
      "[Parallel(n_jobs=-1)]: Done 192 tasks      | elapsed:   22.3s\n",
      "[Parallel(n_jobs=-1)]: Done 442 tasks      | elapsed:   46.1s\n",
      "[Parallel(n_jobs=-1)]: Done 792 tasks      | elapsed:  1.4min\n",
      "[Parallel(n_jobs=-1)]: Done 972 out of 972 | elapsed:  1.7min finished\n"
     ]
    },
    {
     "data": {
      "text/plain": [
       "GridSearchCV(cv=None, error_score='raise',\n",
       "       estimator=RandomForestClassifier(bootstrap=True, class_weight=None, criterion='gini',\n",
       "            max_depth=None, max_features='auto', max_leaf_nodes=None,\n",
       "            min_impurity_decrease=0.0, min_impurity_split=None,\n",
       "            min_samples_leaf=1, min_samples_split=2,\n",
       "            min_weight_fraction_leaf=0.0, n_estimators=10, n_jobs=-1,\n",
       "            oob_score=False, random_state=None, verbose=0,\n",
       "            warm_start=False),\n",
       "       fit_params=None, iid=True, n_jobs=-1,\n",
       "       param_grid={'n_estimators': [10, 55, 100], 'max_features': ['log2', 'sqrt', None], 'max_depth': [5, 15, 30, None], 'min_samples_split': [2, 10, 50], 'min_samples_leaf': [1, 5, 10]},\n",
       "       pre_dispatch='2*n_jobs', refit=True, return_train_score='warn',\n",
       "       scoring=make_scorer(accuracy_score), verbose=1)"
      ]
     },
     "execution_count": 99,
     "metadata": {},
     "output_type": "execute_result"
    }
   ],
   "source": [
    "model_rfc.fit(X_train, y_train)"
   ]
  },
  {
   "cell_type": "code",
   "execution_count": 100,
   "metadata": {
    "_cell_guid": "ef44e665-38fe-4770-a6b8-4b0f425b6b66",
    "_uuid": "e83ea2ceafc9cc711e2d64228558179c269cafcc"
   },
   "outputs": [
    {
     "data": {
      "text/plain": [
       "{'max_depth': 5,\n",
       " 'max_features': None,\n",
       " 'min_samples_leaf': 1,\n",
       " 'min_samples_split': 2,\n",
       " 'n_estimators': 100}"
      ]
     },
     "execution_count": 100,
     "metadata": {},
     "output_type": "execute_result"
    }
   ],
   "source": [
    "model_rfc.best_params_"
   ]
  },
  {
   "cell_type": "code",
   "execution_count": 101,
   "metadata": {
    "_cell_guid": "f9a8dbb3-69ce-417d-962d-8894645fd352",
    "_uuid": "4842cda3b0dd6fafe4af8e187ce136b3e8544e34"
   },
   "outputs": [
    {
     "data": {
      "text/plain": [
       "0.8260381593714927"
      ]
     },
     "execution_count": 101,
     "metadata": {},
     "output_type": "execute_result"
    }
   ],
   "source": [
    "model_rfc.best_score_"
   ]
  },
  {
   "cell_type": "markdown",
   "metadata": {},
   "source": [
    "Feature importances:"
   ]
  },
  {
   "cell_type": "code",
   "execution_count": 102,
   "metadata": {},
   "outputs": [
    {
     "data": {
      "text/plain": [
       "Text(0.5,1,'Random Forest Feature Importances')"
      ]
     },
     "execution_count": 102,
     "metadata": {},
     "output_type": "execute_result"
    },
    {
     "data": {
      "image/png": "[encoded data removed]",
      "text/plain": [
       "<matplotlib.figure.Figure at 0x1df14df6e80>"
      ]
     },
     "metadata": {},
     "output_type": "display_data"
    }
   ],
   "source": [
    "plt.figure(figsize=(4,4), dpi=90)\n",
    "sns.barplot(y=X_train.columns, x=model_rfc.best_estimator_.feature_importances_, color='darkblue', orient='h')\n",
    "plt.xlabel('RF Feature Importance')\n",
    "plt.ylabel('Feature')\n",
    "plt.title('Random Forest Feature Importances')"
   ]
  },
  {
   "cell_type": "markdown",
   "metadata": {
    "_cell_guid": "64bee6ad-bed2-4f18-9904-a8517b1ae6b5",
    "_uuid": "a674b7d7985cf8b6bd71abfff08f574a18541b4e"
   },
   "source": [
    "## 4.2 Gradient Boosting\n",
    "<a id='4.2'></a>"
   ]
  },
  {
   "cell_type": "code",
   "execution_count": 103,
   "metadata": {
    "_cell_guid": "eef1124b-3fd7-4f67-b23f-2af728779915",
    "_uuid": "cc6c5a454a7f1b0af474b2d7c56d33ed067809ea"
   },
   "outputs": [],
   "source": [
    "from sklearn.ensemble import GradientBoostingClassifier"
   ]
  },
  {
   "cell_type": "code",
   "execution_count": 104,
   "metadata": {
    "_cell_guid": "3e3c85c1-324a-4d24-9e97-5ee04f292cee",
    "_uuid": "e775717f496cb38df95c432237e995aa3c4137d8"
   },
   "outputs": [],
   "source": [
    "param_grid = {'max_depth': [3, 12, 25],\n",
    "              'subsample': [0.6, 0.8, 1.0],\n",
    "              'max_features': [None, 'sqrt', 'log2']\n",
    "             }"
   ]
  },
  {
   "cell_type": "code",
   "execution_count": 105,
   "metadata": {
    "_cell_guid": "442cc37a-f443-4e42-a603-0719d5d0ab88",
    "_uuid": "cdd7484f620bbee294d9b5036c3ea499e60bb586"
   },
   "outputs": [],
   "source": [
    "model_gb = GridSearchCV(estimator=GradientBoostingClassifier(), param_grid=param_grid, scoring=make_scorer(accuracy_score), n_jobs=-1, verbose=1)"
   ]
  },
  {
   "cell_type": "code",
   "execution_count": 106,
   "metadata": {
    "_cell_guid": "be3f204b-6935-47e4-a269-c861726c3501",
    "_uuid": "5a6bc45e1d92d106a36409eb952dd6c82f600fda"
   },
   "outputs": [
    {
     "name": "stdout",
     "output_type": "stream",
     "text": [
      "Fitting 3 folds for each of 27 candidates, totalling 81 fits\n"
     ]
    },
    {
     "name": "stderr",
     "output_type": "stream",
     "text": [
      "[Parallel(n_jobs=-1)]: Done  42 tasks      | elapsed:    8.2s\n",
      "[Parallel(n_jobs=-1)]: Done  81 out of  81 | elapsed:   22.3s finished\n"
     ]
    },
    {
     "data": {
      "text/plain": [
       "GridSearchCV(cv=None, error_score='raise',\n",
       "       estimator=GradientBoostingClassifier(criterion='friedman_mse', init=None,\n",
       "              learning_rate=0.1, loss='deviance', max_depth=3,\n",
       "              max_features=None, max_leaf_nodes=None,\n",
       "              min_impurity_decrease=0.0, min_impurity_split=None,\n",
       "              min_samples_leaf=1, min_samples_split=2,\n",
       "              min_weight_fraction_leaf=0.0, n_estimators=100,\n",
       "              presort='auto', random_state=None, subsample=1.0, verbose=0,\n",
       "              warm_start=False),\n",
       "       fit_params=None, iid=True, n_jobs=-1,\n",
       "       param_grid={'max_depth': [3, 12, 25], 'subsample': [0.6, 0.8, 1.0], 'max_features': [None, 'sqrt', 'log2']},\n",
       "       pre_dispatch='2*n_jobs', refit=True, return_train_score='warn',\n",
       "       scoring=make_scorer(accuracy_score), verbose=1)"
      ]
     },
     "execution_count": 106,
     "metadata": {},
     "output_type": "execute_result"
    }
   ],
   "source": [
    "model_gb.fit(X_train, y_train)"
   ]
  },
  {
   "cell_type": "code",
   "execution_count": 107,
   "metadata": {
    "_cell_guid": "d329193c-3d54-4efd-8245-f8046e5db321",
    "_uuid": "c690cab3cd8d93ea526745b59ebcaf4c64cb4b9c"
   },
   "outputs": [
    {
     "data": {
      "text/plain": [
       "{'max_depth': 3, 'max_features': 'log2', 'subsample': 0.6}"
      ]
     },
     "execution_count": 107,
     "metadata": {},
     "output_type": "execute_result"
    }
   ],
   "source": [
    "model_gb.best_params_"
   ]
  },
  {
   "cell_type": "code",
   "execution_count": 108,
   "metadata": {
    "_cell_guid": "edccb66d-793d-4a7b-8aaa-c310e0fe6779",
    "_uuid": "90afd19f2b74734fdba4f620bac5e5c258186155"
   },
   "outputs": [
    {
     "data": {
      "text/plain": [
       "0.8226711560044894"
      ]
     },
     "execution_count": 108,
     "metadata": {},
     "output_type": "execute_result"
    }
   ],
   "source": [
    "model_gb.best_score_"
   ]
  },
  {
   "cell_type": "markdown",
   "metadata": {
    "_cell_guid": "3a3dcfd8-a3c7-4ee7-9376-e8b4f93bdb65",
    "_uuid": "4648f866a7604dfc064938747464720765b4f649"
   },
   "source": [
    "## 4.3 Logistic Regression\n",
    "<a id='4.3'></a>"
   ]
  },
  {
   "cell_type": "code",
   "execution_count": 109,
   "metadata": {
    "_cell_guid": "7aac652d-820a-4243-a370-f0d90bb0aa81",
    "_uuid": "d00cb8e4a3edff746bc74a9ea2b699e6bbe991ff"
   },
   "outputs": [],
   "source": [
    "from sklearn.linear_model import LogisticRegression"
   ]
  },
  {
   "cell_type": "code",
   "execution_count": 110,
   "metadata": {
    "_cell_guid": "8bc0a44b-58c1-4476-b06a-fdcdba0b7687",
    "_uuid": "40aac63531e463a2bb68a804cc29646d2658705b"
   },
   "outputs": [],
   "source": [
    "param_grid = {'penalty': ['l1', 'l2'],\n",
    "              'C': [10**k for k in range(-3,3)],\n",
    "              'class_weight': [None, 'balanced'],\n",
    "              'warm_start': [True]\n",
    "             }"
   ]
  },
  {
   "cell_type": "code",
   "execution_count": 111,
   "metadata": {
    "_cell_guid": "2d7e0c9f-0352-46d2-bd0d-e5d9a4cadc67",
    "_uuid": "7bf9f7039fdf478a4a619f5ce652fe352aff84fd"
   },
   "outputs": [],
   "source": [
    "model_logreg = GridSearchCV(estimator=LogisticRegression(), param_grid=param_grid, scoring=make_scorer(accuracy_score), n_jobs=-1, verbose=1)"
   ]
  },
  {
   "cell_type": "code",
   "execution_count": 112,
   "metadata": {
    "_cell_guid": "86bcafe3-3a88-48b3-a278-dd0672640d29",
    "_uuid": "d303f752b83aeaaf3faf9d4ce1d795486a66040b"
   },
   "outputs": [
    {
     "name": "stdout",
     "output_type": "stream",
     "text": [
      "Fitting 3 folds for each of 24 candidates, totalling 72 fits\n"
     ]
    },
    {
     "name": "stderr",
     "output_type": "stream",
     "text": [
      "[Parallel(n_jobs=-1)]: Done  72 out of  72 | elapsed:    3.8s finished\n"
     ]
    },
    {
     "data": {
      "text/plain": [
       "GridSearchCV(cv=None, error_score='raise',\n",
       "       estimator=LogisticRegression(C=1.0, class_weight=None, dual=False, fit_intercept=True,\n",
       "          intercept_scaling=1, max_iter=100, multi_class='ovr', n_jobs=1,\n",
       "          penalty='l2', random_state=None, solver='liblinear', tol=0.0001,\n",
       "          verbose=0, warm_start=False),\n",
       "       fit_params=None, iid=True, n_jobs=-1,\n",
       "       param_grid={'penalty': ['l1', 'l2'], 'C': [0.001, 0.01, 0.1, 1, 10, 100], 'class_weight': [None, 'balanced'], 'warm_start': [True]},\n",
       "       pre_dispatch='2*n_jobs', refit=True, return_train_score='warn',\n",
       "       scoring=make_scorer(accuracy_score), verbose=1)"
      ]
     },
     "execution_count": 112,
     "metadata": {},
     "output_type": "execute_result"
    }
   ],
   "source": [
    "model_logreg.fit(X_train, y_train)"
   ]
  },
  {
   "cell_type": "code",
   "execution_count": 113,
   "metadata": {
    "_cell_guid": "3c816c8b-4e63-4a26-aa53-21269d5f79ab",
    "_uuid": "5dc012df5faff20ba31f3c6c77bb17d8c4f9c76f"
   },
   "outputs": [
    {
     "data": {
      "text/plain": [
       "{'C': 0.01, 'class_weight': None, 'penalty': 'l2', 'warm_start': True}"
      ]
     },
     "execution_count": 113,
     "metadata": {},
     "output_type": "execute_result"
    }
   ],
   "source": [
    "model_logreg.best_params_"
   ]
  },
  {
   "cell_type": "code",
   "execution_count": 114,
   "metadata": {
    "_cell_guid": "1ea29b5e-1011-4381-b4d2-c43c6b633917",
    "_uuid": "f55919ca7e72f5c3022aef31dd481b389da37c71"
   },
   "outputs": [
    {
     "data": {
      "text/plain": [
       "0.8047138047138047"
      ]
     },
     "execution_count": 114,
     "metadata": {},
     "output_type": "execute_result"
    }
   ],
   "source": [
    "model_logreg.best_score_"
   ]
  },
  {
   "cell_type": "markdown",
   "metadata": {
    "_cell_guid": "9e5a4526-fb07-426d-b477-f287011d1fdb",
    "_uuid": "5ebe1afad97d4333b697e21582a32c2630d5ccc8"
   },
   "source": [
    "## 4.4 Gaussian Naive Bayes\n",
    "<a id='4.4'></a>"
   ]
  },
  {
   "cell_type": "code",
   "execution_count": 115,
   "metadata": {
    "_cell_guid": "aa8aef86-ef17-4d38-b122-a3f98e7d871e",
    "_uuid": "b39aefd475e1bfd98e199570943e669464a95efd"
   },
   "outputs": [],
   "source": [
    "from sklearn.naive_bayes import GaussianNB"
   ]
  },
  {
   "cell_type": "code",
   "execution_count": 116,
   "metadata": {
    "_cell_guid": "318f1bd3-d0b8-4744-b853-c8b9492a96dc",
    "_uuid": "2284e8d9ab1ab6ca04fe839bfac784301367d49d"
   },
   "outputs": [],
   "source": [
    "model_gnb = GaussianNB()"
   ]
  },
  {
   "cell_type": "code",
   "execution_count": 117,
   "metadata": {
    "_cell_guid": "98753cad-ed66-44d4-aa34-6a3a3ceb8ca9",
    "_uuid": "2d965fa5bd8b364b6aee796309bb318aa10b97a9"
   },
   "outputs": [
    {
     "data": {
      "text/plain": [
       "GaussianNB(priors=None)"
      ]
     },
     "execution_count": 117,
     "metadata": {},
     "output_type": "execute_result"
    }
   ],
   "source": [
    "model_gnb.fit(X_train, y_train)"
   ]
  },
  {
   "cell_type": "code",
   "execution_count": 118,
   "metadata": {
    "_cell_guid": "27349fad-35a3-4434-aac2-a2805da748ed",
    "_uuid": "c6c01e0bf2dac73eedf49f695de17e035c3ddcce"
   },
   "outputs": [
    {
     "data": {
      "text/plain": [
       "0.7631874298540965"
      ]
     },
     "execution_count": 118,
     "metadata": {},
     "output_type": "execute_result"
    }
   ],
   "source": [
    "accuracy_score(y_train, model_gnb.predict(X_train))"
   ]
  },
  {
   "cell_type": "markdown",
   "metadata": {
    "_cell_guid": "d9519f5a-5cc4-425e-a1bf-e603950e6523",
    "_uuid": "12fd3e802f3dc4b27019a8095b7566d81172da1a"
   },
   "source": [
    "## 4.5 Support Vector Classifier\n",
    "<a id='4.5'></a>"
   ]
  },
  {
   "cell_type": "code",
   "execution_count": 119,
   "metadata": {
    "_cell_guid": "f0e812a1-ddac-4331-8047-f0acd4fe2b34",
    "_uuid": "9a5d1cad16bd3b6bc90f779a5acb49ab150ca7e5"
   },
   "outputs": [],
   "source": [
    "from sklearn.svm import SVC"
   ]
  },
  {
   "cell_type": "code",
   "execution_count": 120,
   "metadata": {
    "_cell_guid": "921be59f-ae57-49b3-96d9-6b54e8cc1bea",
    "_uuid": "07b5bd55e71e409f7133290d91eafa91b2b4a644"
   },
   "outputs": [],
   "source": [
    "param_grid = {'C': [10**k for k in range(-3,4)],\n",
    "              'class_weight': [None, 'balanced'],\n",
    "              'shrinking': [True, False]\n",
    "             }"
   ]
  },
  {
   "cell_type": "code",
   "execution_count": 121,
   "metadata": {
    "_cell_guid": "6e10f8ac-6ad8-42d9-b03f-83f20aa36172",
    "_uuid": "4564db4cda9209e76d3b2cd0ee5d95c34aa4eaec"
   },
   "outputs": [],
   "source": [
    "model_svc = GridSearchCV(estimator=SVC(), param_grid=param_grid, scoring=make_scorer(accuracy_score), n_jobs=-1, verbose=1)"
   ]
  },
  {
   "cell_type": "code",
   "execution_count": 122,
   "metadata": {
    "_cell_guid": "02d64840-953a-4702-9cb5-78b14c9c7b20",
    "_uuid": "04431df8508da0702c9490f59bc3bc79d2ddcabf"
   },
   "outputs": [
    {
     "name": "stdout",
     "output_type": "stream",
     "text": [
      "Fitting 3 folds for each of 28 candidates, totalling 84 fits\n"
     ]
    },
    {
     "name": "stderr",
     "output_type": "stream",
     "text": [
      "[Parallel(n_jobs=-1)]: Done  84 out of  84 | elapsed:    4.7s finished\n"
     ]
    },
    {
     "data": {
      "text/plain": [
       "GridSearchCV(cv=None, error_score='raise',\n",
       "       estimator=SVC(C=1.0, cache_size=200, class_weight=None, coef0=0.0,\n",
       "  decision_function_shape='ovr', degree=3, gamma='auto', kernel='rbf',\n",
       "  max_iter=-1, probability=False, random_state=None, shrinking=True,\n",
       "  tol=0.001, verbose=False),\n",
       "       fit_params=None, iid=True, n_jobs=-1,\n",
       "       param_grid={'C': [0.001, 0.01, 0.1, 1, 10, 100, 1000], 'class_weight': [None, 'balanced'], 'shrinking': [True, False]},\n",
       "       pre_dispatch='2*n_jobs', refit=True, return_train_score='warn',\n",
       "       scoring=make_scorer(accuracy_score), verbose=1)"
      ]
     },
     "execution_count": 122,
     "metadata": {},
     "output_type": "execute_result"
    }
   ],
   "source": [
    "model_svc.fit(X_train, y_train)"
   ]
  },
  {
   "cell_type": "code",
   "execution_count": 123,
   "metadata": {
    "_cell_guid": "097a7c5a-aa30-4b25-a0e0-2320250e5c15",
    "_uuid": "396992fc127cc82cd996b893c0687344ba1454cd"
   },
   "outputs": [
    {
     "data": {
      "text/plain": [
       "{'C': 10, 'class_weight': None, 'shrinking': True}"
      ]
     },
     "execution_count": 123,
     "metadata": {},
     "output_type": "execute_result"
    }
   ],
   "source": [
    "model_svc.best_params_"
   ]
  },
  {
   "cell_type": "code",
   "execution_count": 124,
   "metadata": {
    "_cell_guid": "f6835b71-6cb8-490f-b15a-649772afc17a",
    "_uuid": "da0c96b2f1797ac386177f6889f5675f5b227dae"
   },
   "outputs": [
    {
     "data": {
      "text/plain": [
       "0.797979797979798"
      ]
     },
     "execution_count": 124,
     "metadata": {},
     "output_type": "execute_result"
    }
   ],
   "source": [
    "model_svc.best_score_"
   ]
  },
  {
   "cell_type": "markdown",
   "metadata": {
    "_cell_guid": "20a1b934-1f7e-444f-8c41-591e1e249cd5",
    "_uuid": "7bf6462534b8edbbb2f9157215597a1d42a66c32"
   },
   "source": [
    "## 4.6 k-Nearest Neighbors\n",
    "<a id='4.6'></a>"
   ]
  },
  {
   "cell_type": "code",
   "execution_count": 125,
   "metadata": {
    "_cell_guid": "afddb9c2-b8bf-496a-a954-c6907f067d97",
    "_uuid": "13238a65541195d5bcc36af5bcdd42d5d84dff46"
   },
   "outputs": [],
   "source": [
    "from sklearn.neighbors import KNeighborsClassifier"
   ]
  },
  {
   "cell_type": "code",
   "execution_count": 126,
   "metadata": {
    "_cell_guid": "ee763ea0-b83d-456d-9977-cdd8afa727bc",
    "_uuid": "b34530581f817152cae8565b58cf24ab213385d4"
   },
   "outputs": [],
   "source": [
    "param_grid = {'n_neighbors': [1, 2, 4, 8, 16, 32, 64, 128, 256],\n",
    "              'weights': ['uniform', 'distance'],\n",
    "              'p': [1, 2, 3, 4, 5]\n",
    "             }"
   ]
  },
  {
   "cell_type": "code",
   "execution_count": 127,
   "metadata": {
    "_cell_guid": "6e3ae28d-4f81-461f-b8e9-6bc95985acd5",
    "_uuid": "4a3e862739ced66586a59106725078a45a38e10e"
   },
   "outputs": [],
   "source": [
    "model_knn = GridSearchCV(estimator=KNeighborsClassifier(), param_grid=param_grid, scoring=make_scorer(accuracy_score), n_jobs=-1, verbose=1)"
   ]
  },
  {
   "cell_type": "code",
   "execution_count": 128,
   "metadata": {
    "_cell_guid": "76644168-db2e-460d-9366-40ec4a5760f3",
    "_uuid": "014986b616e087a356bf21805cb8df888021c1c5"
   },
   "outputs": [
    {
     "name": "stdout",
     "output_type": "stream",
     "text": [
      "Fitting 3 folds for each of 90 candidates, totalling 270 fits\n"
     ]
    },
    {
     "name": "stderr",
     "output_type": "stream",
     "text": [
      "[Parallel(n_jobs=-1)]: Done  43 tasks      | elapsed:    4.3s\n",
      "[Parallel(n_jobs=-1)]: Done 263 out of 270 | elapsed:   14.6s remaining:    0.3s\n",
      "[Parallel(n_jobs=-1)]: Done 270 out of 270 | elapsed:   15.0s finished\n"
     ]
    },
    {
     "data": {
      "text/plain": [
       "GridSearchCV(cv=None, error_score='raise',\n",
       "       estimator=KNeighborsClassifier(algorithm='auto', leaf_size=30, metric='minkowski',\n",
       "           metric_params=None, n_jobs=1, n_neighbors=5, p=2,\n",
       "           weights='uniform'),\n",
       "       fit_params=None, iid=True, n_jobs=-1,\n",
       "       param_grid={'n_neighbors': [1, 2, 4, 8, 16, 32, 64, 128, 256], 'weights': ['uniform', 'distance'], 'p': [1, 2, 3, 4, 5]},\n",
       "       pre_dispatch='2*n_jobs', refit=True, return_train_score='warn',\n",
       "       scoring=make_scorer(accuracy_score), verbose=1)"
      ]
     },
     "execution_count": 128,
     "metadata": {},
     "output_type": "execute_result"
    }
   ],
   "source": [
    "model_knn.fit(X_train, y_train)"
   ]
  },
  {
   "cell_type": "code",
   "execution_count": 129,
   "metadata": {
    "_cell_guid": "ad3e78ef-3fdb-475c-b635-f6c7f1bd45e6",
    "_uuid": "3d72711097beae24c68633c61164ceb4b6786215"
   },
   "outputs": [
    {
     "data": {
      "text/plain": [
       "{'n_neighbors': 8, 'p': 1, 'weights': 'distance'}"
      ]
     },
     "execution_count": 129,
     "metadata": {},
     "output_type": "execute_result"
    }
   ],
   "source": [
    "model_knn.best_params_"
   ]
  },
  {
   "cell_type": "code",
   "execution_count": 130,
   "metadata": {
    "_cell_guid": "d1de56a5-4e49-402e-9269-66f225309df6",
    "_uuid": "b087dc1aef4a70d6a1aeab28aad96d35e9f9c780"
   },
   "outputs": [
    {
     "data": {
      "text/plain": [
       "0.7890011223344556"
      ]
     },
     "execution_count": 130,
     "metadata": {},
     "output_type": "execute_result"
    }
   ],
   "source": [
    "model_knn.best_score_"
   ]
  },
  {
   "cell_type": "markdown",
   "metadata": {
    "_cell_guid": "4571b3d2-7aaf-4195-ab7d-c2322143192b",
    "_uuid": "db4534bae04478139856c67fb979245435a37665"
   },
   "source": [
    "# 5 Conclusion\n",
    "<a id='5'></a>"
   ]
  },
  {
   "cell_type": "markdown",
   "metadata": {
    "_cell_guid": "4b22bd3f-2663-4954-979d-b77f77c00814",
    "_uuid": "8e436ffe56a1139142ff0b25a051485ca71a2786"
   },
   "source": [
    "## 5.1 Results Summary\n",
    "<a id='5.1'></a>"
   ]
  },
  {
   "cell_type": "code",
   "execution_count": 131,
   "metadata": {
    "_cell_guid": "f029e839-5cfa-4c9e-a151-60799ee5e32a",
    "_uuid": "dbbad8f6d3ffbcc4b323e2047ded29b761c50c94"
   },
   "outputs": [
    {
     "name": "stdout",
     "output_type": "stream",
     "text": [
      "Training Accuracy Scores\n",
      "Random Forest:  0.8260381593714927\n",
      "Gradient Boosting:  0.8226711560044894\n",
      "Logistic Regression:  0.8047138047138047\n",
      "Gaussian Naive Bayes:  0.7631874298540965\n",
      "Support Vector Classifier:  0.797979797979798\n",
      "k-Nearest Neighbors:  0.7890011223344556\n"
     ]
    }
   ],
   "source": [
    "print('Training Accuracy Scores')\n",
    "print('Random Forest: ', model_rfc.best_score_)\n",
    "print('Gradient Boosting: ', model_gb.best_score_)\n",
    "print('Logistic Regression: ', model_logreg.best_score_)\n",
    "print('Gaussian Naive Bayes: ', accuracy_score(y_train, model_gnb.predict(X_train)))\n",
    "print('Support Vector Classifier: ', model_svc.best_score_)\n",
    "print('k-Nearest Neighbors: ', model_knn.best_score_)"
   ]
  },
  {
   "cell_type": "markdown",
   "metadata": {
    "_cell_guid": "feb2a13b-b0e7-4125-b3d7-ce3701b11401",
    "_uuid": "297ce8fcdf1a4cefe7aca44e13b6ea1ab94756a5"
   },
   "source": [
    "## 5.2 Test Set Predictions\n",
    "<a id='5.2'></a>"
   ]
  },
  {
   "cell_type": "code",
   "execution_count": 132,
   "metadata": {
    "_cell_guid": "b6bdc424-e3bf-4f30-93f8-ee382b787c69",
    "_uuid": "43132aba2a1e0b6e2e4099d58ed302f14665b3a7"
   },
   "outputs": [],
   "source": [
    "y_preds = model_rfc.predict(X_test)"
   ]
  },
  {
   "cell_type": "code",
   "execution_count": 133,
   "metadata": {
    "_cell_guid": "4d132704-a097-4414-8f58-08ccd5a00a01",
    "_uuid": "90cea7aba198e4511c0e0b216239fb0ab72f0e26"
   },
   "outputs": [],
   "source": [
    "submission = pd.DataFrame({'PassengerId':TestPassengerId, 'Survived':np.uint8(y_preds)})"
   ]
  },
  {
   "cell_type": "code",
   "execution_count": 134,
   "metadata": {
    "_cell_guid": "b6a0a118-cf83-4ec8-8cde-83f2b719d2c3",
    "_uuid": "db11bcc992164a59ff5a0cc111a2ed061c26789e"
   },
   "outputs": [
    {
     "data": {
      "text/plain": [
       "(418, 2)"
      ]
     },
     "execution_count": 134,
     "metadata": {},
     "output_type": "execute_result"
    }
   ],
   "source": [
    "submission.shape"
   ]
  },
  {
   "cell_type": "code",
   "execution_count": 135,
   "metadata": {
    "_cell_guid": "225a7755-6b45-4142-98f2-fc7f6dffd39e",
    "_uuid": "9afa72772db377e682b9eb85eb2a8f5f49041eaa"
   },
   "outputs": [
    {
     "data": {
      "text/html": [
       "<div>\n",
       "<style scoped>\n",
       "    .dataframe tbody tr th:only-of-type {\n",
       "        vertical-align: middle;\n",
       "    }\n",
       "\n",
       "    .dataframe tbody tr th {\n",
       "        vertical-align: top;\n",
       "    }\n",
       "\n",
       "    .dataframe thead th {\n",
       "        text-align: right;\n",
       "    }\n",
       "</style>\n",
       "<table border=\"1\" class=\"dataframe\">\n",
       "  <thead>\n",
       "    <tr style=\"text-align: right;\">\n",
       "      <th></th>\n",
       "      <th>PassengerId</th>\n",
       "      <th>Survived</th>\n",
       "    </tr>\n",
       "  </thead>\n",
       "  <tbody>\n",
       "    <tr>\n",
       "      <th>42</th>\n",
       "      <td>934</td>\n",
       "      <td>0</td>\n",
       "    </tr>\n",
       "    <tr>\n",
       "      <th>304</th>\n",
       "      <td>1196</td>\n",
       "      <td>1</td>\n",
       "    </tr>\n",
       "    <tr>\n",
       "      <th>2</th>\n",
       "      <td>894</td>\n",
       "      <td>0</td>\n",
       "    </tr>\n",
       "    <tr>\n",
       "      <th>79</th>\n",
       "      <td>971</td>\n",
       "      <td>1</td>\n",
       "    </tr>\n",
       "    <tr>\n",
       "      <th>71</th>\n",
       "      <td>963</td>\n",
       "      <td>0</td>\n",
       "    </tr>\n",
       "  </tbody>\n",
       "</table>\n",
       "</div>"
      ],
      "text/plain": [
       "     PassengerId  Survived\n",
       "42           934         0\n",
       "304         1196         1\n",
       "2            894         0\n",
       "79           971         1\n",
       "71           963         0"
      ]
     },
     "execution_count": 135,
     "metadata": {},
     "output_type": "execute_result"
    }
   ],
   "source": [
    "submission.sample(5)"
   ]
  },
  {
   "cell_type": "code",
   "execution_count": 136,
   "metadata": {
    "_cell_guid": "11c5c376-2d0b-4a4d-9fb9-38dedc57f5fb",
    "_uuid": "f95f4ca7852b1de1b9730da2cbe668203e6709f7"
   },
   "outputs": [],
   "source": [
    "submission.to_csv('my_submission.csv', index=False)"
   ]
  }
 ],
 "metadata": {
  "kernelspec": {
   "display_name": "Python 3",
   "language": "python",
   "name": "python3"
  },
  "language_info": {
   "codemirror_mode": {
    "name": "ipython",
    "version": 3
   },
   "file_extension": ".py",
   "mimetype": "text/x-python",
   "name": "python",
   "nbconvert_exporter": "python",
   "pygments_lexer": "ipython3",
   "version": "3.6.5"
  }
 },
 "nbformat": 4,
 "nbformat_minor": 1
}
